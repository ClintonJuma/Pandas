{
 "cells": [
  {
   "cell_type": "code",
   "execution_count": 1,
   "id": "79ad06d4",
   "metadata": {},
   "outputs": [],
   "source": [
    "import pandas as pd\n",
    "import numpy as np\n",
    "import matplotlib.pyplot as plt\n"
   ]
  },
  {
   "cell_type": "code",
   "execution_count": 2,
   "id": "73e51d6d",
   "metadata": {},
   "outputs": [
    {
     "data": {
      "text/html": [
       "<div>\n",
       "<style scoped>\n",
       "    .dataframe tbody tr th:only-of-type {\n",
       "        vertical-align: middle;\n",
       "    }\n",
       "\n",
       "    .dataframe tbody tr th {\n",
       "        vertical-align: top;\n",
       "    }\n",
       "\n",
       "    .dataframe thead th {\n",
       "        text-align: right;\n",
       "    }\n",
       "</style>\n",
       "<table border=\"1\" class=\"dataframe\">\n",
       "  <thead>\n",
       "    <tr style=\"text-align: right;\">\n",
       "      <th></th>\n",
       "      <th>Rank</th>\n",
       "      <th>CCA3</th>\n",
       "      <th>Country</th>\n",
       "      <th>Capital</th>\n",
       "      <th>Continent</th>\n",
       "      <th>2022 Population</th>\n",
       "      <th>2020 Population</th>\n",
       "      <th>2015 Population</th>\n",
       "      <th>2010 Population</th>\n",
       "      <th>2000 Population</th>\n",
       "      <th>1990 Population</th>\n",
       "      <th>1980 Population</th>\n",
       "      <th>1970 Population</th>\n",
       "      <th>Area (km²)</th>\n",
       "      <th>Density (per km²)</th>\n",
       "      <th>Growth Rate</th>\n",
       "      <th>World Population Percentage</th>\n",
       "    </tr>\n",
       "  </thead>\n",
       "  <tbody>\n",
       "    <tr>\n",
       "      <th>0</th>\n",
       "      <td>36</td>\n",
       "      <td>AFG</td>\n",
       "      <td>Afghanistan</td>\n",
       "      <td>Kabul</td>\n",
       "      <td>Asia</td>\n",
       "      <td>41128771</td>\n",
       "      <td>38972230</td>\n",
       "      <td>33753499</td>\n",
       "      <td>28189672</td>\n",
       "      <td>19542982</td>\n",
       "      <td>10694796</td>\n",
       "      <td>12486631</td>\n",
       "      <td>10752971</td>\n",
       "      <td>652230</td>\n",
       "      <td>63.0587</td>\n",
       "      <td>1.0257</td>\n",
       "      <td>0.52</td>\n",
       "    </tr>\n",
       "    <tr>\n",
       "      <th>1</th>\n",
       "      <td>138</td>\n",
       "      <td>ALB</td>\n",
       "      <td>Albania</td>\n",
       "      <td>Tirana</td>\n",
       "      <td>Europe</td>\n",
       "      <td>2842321</td>\n",
       "      <td>2866849</td>\n",
       "      <td>2882481</td>\n",
       "      <td>2913399</td>\n",
       "      <td>3182021</td>\n",
       "      <td>3295066</td>\n",
       "      <td>2941651</td>\n",
       "      <td>2324731</td>\n",
       "      <td>28748</td>\n",
       "      <td>98.8702</td>\n",
       "      <td>0.9957</td>\n",
       "      <td>0.04</td>\n",
       "    </tr>\n",
       "    <tr>\n",
       "      <th>2</th>\n",
       "      <td>34</td>\n",
       "      <td>DZA</td>\n",
       "      <td>Algeria</td>\n",
       "      <td>Algiers</td>\n",
       "      <td>Africa</td>\n",
       "      <td>44903225</td>\n",
       "      <td>43451666</td>\n",
       "      <td>39543154</td>\n",
       "      <td>35856344</td>\n",
       "      <td>30774621</td>\n",
       "      <td>25518074</td>\n",
       "      <td>18739378</td>\n",
       "      <td>13795915</td>\n",
       "      <td>2381741</td>\n",
       "      <td>18.8531</td>\n",
       "      <td>1.0164</td>\n",
       "      <td>0.56</td>\n",
       "    </tr>\n",
       "    <tr>\n",
       "      <th>3</th>\n",
       "      <td>213</td>\n",
       "      <td>ASM</td>\n",
       "      <td>American Samoa</td>\n",
       "      <td>Pago Pago</td>\n",
       "      <td>Oceania</td>\n",
       "      <td>44273</td>\n",
       "      <td>46189</td>\n",
       "      <td>51368</td>\n",
       "      <td>54849</td>\n",
       "      <td>58230</td>\n",
       "      <td>47818</td>\n",
       "      <td>32886</td>\n",
       "      <td>27075</td>\n",
       "      <td>199</td>\n",
       "      <td>222.4774</td>\n",
       "      <td>0.9831</td>\n",
       "      <td>0.00</td>\n",
       "    </tr>\n",
       "    <tr>\n",
       "      <th>4</th>\n",
       "      <td>203</td>\n",
       "      <td>AND</td>\n",
       "      <td>Andorra</td>\n",
       "      <td>Andorra la Vella</td>\n",
       "      <td>Europe</td>\n",
       "      <td>79824</td>\n",
       "      <td>77700</td>\n",
       "      <td>71746</td>\n",
       "      <td>71519</td>\n",
       "      <td>66097</td>\n",
       "      <td>53569</td>\n",
       "      <td>35611</td>\n",
       "      <td>19860</td>\n",
       "      <td>468</td>\n",
       "      <td>170.5641</td>\n",
       "      <td>1.0100</td>\n",
       "      <td>0.00</td>\n",
       "    </tr>\n",
       "    <tr>\n",
       "      <th>...</th>\n",
       "      <td>...</td>\n",
       "      <td>...</td>\n",
       "      <td>...</td>\n",
       "      <td>...</td>\n",
       "      <td>...</td>\n",
       "      <td>...</td>\n",
       "      <td>...</td>\n",
       "      <td>...</td>\n",
       "      <td>...</td>\n",
       "      <td>...</td>\n",
       "      <td>...</td>\n",
       "      <td>...</td>\n",
       "      <td>...</td>\n",
       "      <td>...</td>\n",
       "      <td>...</td>\n",
       "      <td>...</td>\n",
       "      <td>...</td>\n",
       "    </tr>\n",
       "    <tr>\n",
       "      <th>229</th>\n",
       "      <td>226</td>\n",
       "      <td>WLF</td>\n",
       "      <td>Wallis and Futuna</td>\n",
       "      <td>Mata-Utu</td>\n",
       "      <td>Oceania</td>\n",
       "      <td>11572</td>\n",
       "      <td>11655</td>\n",
       "      <td>12182</td>\n",
       "      <td>13142</td>\n",
       "      <td>14723</td>\n",
       "      <td>13454</td>\n",
       "      <td>11315</td>\n",
       "      <td>9377</td>\n",
       "      <td>142</td>\n",
       "      <td>81.4930</td>\n",
       "      <td>0.9953</td>\n",
       "      <td>0.00</td>\n",
       "    </tr>\n",
       "    <tr>\n",
       "      <th>230</th>\n",
       "      <td>172</td>\n",
       "      <td>ESH</td>\n",
       "      <td>Western Sahara</td>\n",
       "      <td>El Aaiún</td>\n",
       "      <td>Africa</td>\n",
       "      <td>575986</td>\n",
       "      <td>556048</td>\n",
       "      <td>491824</td>\n",
       "      <td>413296</td>\n",
       "      <td>270375</td>\n",
       "      <td>178529</td>\n",
       "      <td>116775</td>\n",
       "      <td>76371</td>\n",
       "      <td>266000</td>\n",
       "      <td>2.1654</td>\n",
       "      <td>1.0184</td>\n",
       "      <td>0.01</td>\n",
       "    </tr>\n",
       "    <tr>\n",
       "      <th>231</th>\n",
       "      <td>46</td>\n",
       "      <td>YEM</td>\n",
       "      <td>Yemen</td>\n",
       "      <td>Sanaa</td>\n",
       "      <td>Asia</td>\n",
       "      <td>33696614</td>\n",
       "      <td>32284046</td>\n",
       "      <td>28516545</td>\n",
       "      <td>24743946</td>\n",
       "      <td>18628700</td>\n",
       "      <td>13375121</td>\n",
       "      <td>9204938</td>\n",
       "      <td>6843607</td>\n",
       "      <td>527968</td>\n",
       "      <td>63.8232</td>\n",
       "      <td>1.0217</td>\n",
       "      <td>0.42</td>\n",
       "    </tr>\n",
       "    <tr>\n",
       "      <th>232</th>\n",
       "      <td>63</td>\n",
       "      <td>ZMB</td>\n",
       "      <td>Zambia</td>\n",
       "      <td>Lusaka</td>\n",
       "      <td>Africa</td>\n",
       "      <td>20017675</td>\n",
       "      <td>18927715</td>\n",
       "      <td>16248230</td>\n",
       "      <td>13792086</td>\n",
       "      <td>9891136</td>\n",
       "      <td>7686401</td>\n",
       "      <td>5720438</td>\n",
       "      <td>4281671</td>\n",
       "      <td>752612</td>\n",
       "      <td>26.5976</td>\n",
       "      <td>1.0280</td>\n",
       "      <td>0.25</td>\n",
       "    </tr>\n",
       "    <tr>\n",
       "      <th>233</th>\n",
       "      <td>74</td>\n",
       "      <td>ZWE</td>\n",
       "      <td>Zimbabwe</td>\n",
       "      <td>Harare</td>\n",
       "      <td>Africa</td>\n",
       "      <td>16320537</td>\n",
       "      <td>15669666</td>\n",
       "      <td>14154937</td>\n",
       "      <td>12839771</td>\n",
       "      <td>11834676</td>\n",
       "      <td>10113893</td>\n",
       "      <td>7049926</td>\n",
       "      <td>5202918</td>\n",
       "      <td>390757</td>\n",
       "      <td>41.7665</td>\n",
       "      <td>1.0204</td>\n",
       "      <td>0.20</td>\n",
       "    </tr>\n",
       "  </tbody>\n",
       "</table>\n",
       "<p>234 rows × 17 columns</p>\n",
       "</div>"
      ],
      "text/plain": [
       "     Rank CCA3            Country           Capital Continent  \\\n",
       "0      36  AFG        Afghanistan             Kabul      Asia   \n",
       "1     138  ALB            Albania            Tirana    Europe   \n",
       "2      34  DZA            Algeria           Algiers    Africa   \n",
       "3     213  ASM     American Samoa         Pago Pago   Oceania   \n",
       "4     203  AND            Andorra  Andorra la Vella    Europe   \n",
       "..    ...  ...                ...               ...       ...   \n",
       "229   226  WLF  Wallis and Futuna          Mata-Utu   Oceania   \n",
       "230   172  ESH     Western Sahara          El Aaiún    Africa   \n",
       "231    46  YEM              Yemen             Sanaa      Asia   \n",
       "232    63  ZMB             Zambia            Lusaka    Africa   \n",
       "233    74  ZWE           Zimbabwe            Harare    Africa   \n",
       "\n",
       "     2022 Population  2020 Population  2015 Population  2010 Population  \\\n",
       "0           41128771         38972230         33753499         28189672   \n",
       "1            2842321          2866849          2882481          2913399   \n",
       "2           44903225         43451666         39543154         35856344   \n",
       "3              44273            46189            51368            54849   \n",
       "4              79824            77700            71746            71519   \n",
       "..               ...              ...              ...              ...   \n",
       "229            11572            11655            12182            13142   \n",
       "230           575986           556048           491824           413296   \n",
       "231         33696614         32284046         28516545         24743946   \n",
       "232         20017675         18927715         16248230         13792086   \n",
       "233         16320537         15669666         14154937         12839771   \n",
       "\n",
       "     2000 Population  1990 Population  1980 Population  1970 Population  \\\n",
       "0           19542982         10694796         12486631         10752971   \n",
       "1            3182021          3295066          2941651          2324731   \n",
       "2           30774621         25518074         18739378         13795915   \n",
       "3              58230            47818            32886            27075   \n",
       "4              66097            53569            35611            19860   \n",
       "..               ...              ...              ...              ...   \n",
       "229            14723            13454            11315             9377   \n",
       "230           270375           178529           116775            76371   \n",
       "231         18628700         13375121          9204938          6843607   \n",
       "232          9891136          7686401          5720438          4281671   \n",
       "233         11834676         10113893          7049926          5202918   \n",
       "\n",
       "     Area (km²)  Density (per km²)  Growth Rate  World Population Percentage  \n",
       "0        652230            63.0587       1.0257                         0.52  \n",
       "1         28748            98.8702       0.9957                         0.04  \n",
       "2       2381741            18.8531       1.0164                         0.56  \n",
       "3           199           222.4774       0.9831                         0.00  \n",
       "4           468           170.5641       1.0100                         0.00  \n",
       "..          ...                ...          ...                          ...  \n",
       "229         142            81.4930       0.9953                         0.00  \n",
       "230      266000             2.1654       1.0184                         0.01  \n",
       "231      527968            63.8232       1.0217                         0.42  \n",
       "232      752612            26.5976       1.0280                         0.25  \n",
       "233      390757            41.7665       1.0204                         0.20  \n",
       "\n",
       "[234 rows x 17 columns]"
      ]
     },
     "execution_count": 2,
     "metadata": {},
     "output_type": "execute_result"
    }
   ],
   "source": [
    "df = pd.read_csv(\"world_population.csv\")\n",
    "df"
   ]
  },
  {
   "cell_type": "markdown",
   "id": "70e7f153",
   "metadata": {},
   "source": [
    "#checking number of columns and rows in the dataset"
   ]
  },
  {
   "cell_type": "code",
   "execution_count": 3,
   "id": "83e96187",
   "metadata": {},
   "outputs": [
    {
     "data": {
      "text/plain": [
       "(234, 17)"
      ]
     },
     "execution_count": 3,
     "metadata": {},
     "output_type": "execute_result"
    }
   ],
   "source": [
    "df.shape"
   ]
  },
  {
   "cell_type": "code",
   "execution_count": 4,
   "id": "527960c2",
   "metadata": {},
   "outputs": [
    {
     "data": {
      "text/plain": [
       "Index(['Rank', 'CCA3', 'Country', 'Capital', 'Continent', '2022 Population',\n",
       "       '2020 Population', '2015 Population', '2010 Population',\n",
       "       '2000 Population', '1990 Population', '1980 Population',\n",
       "       '1970 Population', 'Area (km²)', 'Density (per km²)', 'Growth Rate',\n",
       "       'World Population Percentage'],\n",
       "      dtype='object')"
      ]
     },
     "execution_count": 4,
     "metadata": {},
     "output_type": "execute_result"
    }
   ],
   "source": [
    "df.columns"
   ]
  },
  {
   "cell_type": "code",
   "execution_count": 5,
   "id": "c051d42d",
   "metadata": {},
   "outputs": [
    {
     "data": {
      "text/plain": [
       "[RangeIndex(start=0, stop=234, step=1),\n",
       " Index(['Rank', 'CCA3', 'Country', 'Capital', 'Continent', '2022 Population',\n",
       "        '2020 Population', '2015 Population', '2010 Population',\n",
       "        '2000 Population', '1990 Population', '1980 Population',\n",
       "        '1970 Population', 'Area (km²)', 'Density (per km²)', 'Growth Rate',\n",
       "        'World Population Percentage'],\n",
       "       dtype='object')]"
      ]
     },
     "execution_count": 5,
     "metadata": {},
     "output_type": "execute_result"
    }
   ],
   "source": [
    "df.axes"
   ]
  },
  {
   "cell_type": "code",
   "execution_count": 6,
   "id": "d2970114",
   "metadata": {},
   "outputs": [
    {
     "data": {
      "text/plain": [
       "RangeIndex(start=0, stop=234, step=1)"
      ]
     },
     "execution_count": 6,
     "metadata": {},
     "output_type": "execute_result"
    }
   ],
   "source": [
    "df.index"
   ]
  },
  {
   "cell_type": "markdown",
   "id": "e6a76e91",
   "metadata": {},
   "source": [
    "#checking entries using indexes"
   ]
  },
  {
   "cell_type": "code",
   "execution_count": 7,
   "id": "c042acfe",
   "metadata": {},
   "outputs": [
    {
     "data": {
      "text/plain": [
       "'Afghanistan'"
      ]
     },
     "execution_count": 7,
     "metadata": {},
     "output_type": "execute_result"
    }
   ],
   "source": [
    "df.loc[0, \"Country\"]"
   ]
  },
  {
   "cell_type": "code",
   "execution_count": 8,
   "id": "ca32f27b",
   "metadata": {},
   "outputs": [
    {
     "data": {
      "text/plain": [
       "'Kabul'"
      ]
     },
     "execution_count": 8,
     "metadata": {},
     "output_type": "execute_result"
    }
   ],
   "source": [
    "df.loc[0, \"Capital\"]"
   ]
  },
  {
   "cell_type": "code",
   "execution_count": 9,
   "id": "4a3384d5",
   "metadata": {},
   "outputs": [
    {
     "data": {
      "text/plain": [
       "0            Afghanistan\n",
       "1                Albania\n",
       "2                Algeria\n",
       "3         American Samoa\n",
       "4                Andorra\n",
       "             ...        \n",
       "229    Wallis and Futuna\n",
       "230       Western Sahara\n",
       "231                Yemen\n",
       "232               Zambia\n",
       "233             Zimbabwe\n",
       "Name: Country, Length: 234, dtype: object"
      ]
     },
     "execution_count": 9,
     "metadata": {},
     "output_type": "execute_result"
    }
   ],
   "source": [
    "df[\"Country\"]"
   ]
  },
  {
   "cell_type": "markdown",
   "id": "b53d0c59",
   "metadata": {},
   "source": [
    "#checking dataset information"
   ]
  },
  {
   "cell_type": "code",
   "execution_count": 10,
   "id": "1b654c4b",
   "metadata": {},
   "outputs": [
    {
     "data": {
      "text/plain": [
       "<bound method DataFrame.info of      Rank CCA3            Country           Capital Continent  \\\n",
       "0      36  AFG        Afghanistan             Kabul      Asia   \n",
       "1     138  ALB            Albania            Tirana    Europe   \n",
       "2      34  DZA            Algeria           Algiers    Africa   \n",
       "3     213  ASM     American Samoa         Pago Pago   Oceania   \n",
       "4     203  AND            Andorra  Andorra la Vella    Europe   \n",
       "..    ...  ...                ...               ...       ...   \n",
       "229   226  WLF  Wallis and Futuna          Mata-Utu   Oceania   \n",
       "230   172  ESH     Western Sahara          El Aaiún    Africa   \n",
       "231    46  YEM              Yemen             Sanaa      Asia   \n",
       "232    63  ZMB             Zambia            Lusaka    Africa   \n",
       "233    74  ZWE           Zimbabwe            Harare    Africa   \n",
       "\n",
       "     2022 Population  2020 Population  2015 Population  2010 Population  \\\n",
       "0           41128771         38972230         33753499         28189672   \n",
       "1            2842321          2866849          2882481          2913399   \n",
       "2           44903225         43451666         39543154         35856344   \n",
       "3              44273            46189            51368            54849   \n",
       "4              79824            77700            71746            71519   \n",
       "..               ...              ...              ...              ...   \n",
       "229            11572            11655            12182            13142   \n",
       "230           575986           556048           491824           413296   \n",
       "231         33696614         32284046         28516545         24743946   \n",
       "232         20017675         18927715         16248230         13792086   \n",
       "233         16320537         15669666         14154937         12839771   \n",
       "\n",
       "     2000 Population  1990 Population  1980 Population  1970 Population  \\\n",
       "0           19542982         10694796         12486631         10752971   \n",
       "1            3182021          3295066          2941651          2324731   \n",
       "2           30774621         25518074         18739378         13795915   \n",
       "3              58230            47818            32886            27075   \n",
       "4              66097            53569            35611            19860   \n",
       "..               ...              ...              ...              ...   \n",
       "229            14723            13454            11315             9377   \n",
       "230           270375           178529           116775            76371   \n",
       "231         18628700         13375121          9204938          6843607   \n",
       "232          9891136          7686401          5720438          4281671   \n",
       "233         11834676         10113893          7049926          5202918   \n",
       "\n",
       "     Area (km²)  Density (per km²)  Growth Rate  World Population Percentage  \n",
       "0        652230            63.0587       1.0257                         0.52  \n",
       "1         28748            98.8702       0.9957                         0.04  \n",
       "2       2381741            18.8531       1.0164                         0.56  \n",
       "3           199           222.4774       0.9831                         0.00  \n",
       "4           468           170.5641       1.0100                         0.00  \n",
       "..          ...                ...          ...                          ...  \n",
       "229         142            81.4930       0.9953                         0.00  \n",
       "230      266000             2.1654       1.0184                         0.01  \n",
       "231      527968            63.8232       1.0217                         0.42  \n",
       "232      752612            26.5976       1.0280                         0.25  \n",
       "233      390757            41.7665       1.0204                         0.20  \n",
       "\n",
       "[234 rows x 17 columns]>"
      ]
     },
     "execution_count": 10,
     "metadata": {},
     "output_type": "execute_result"
    }
   ],
   "source": [
    "df.info"
   ]
  },
  {
   "cell_type": "code",
   "execution_count": 11,
   "id": "ec8a1aa1",
   "metadata": {},
   "outputs": [
    {
     "name": "stdout",
     "output_type": "stream",
     "text": [
      "<class 'pandas.core.frame.DataFrame'>\n",
      "RangeIndex: 234 entries, 0 to 233\n",
      "Data columns (total 17 columns):\n",
      " #   Column                       Non-Null Count  Dtype  \n",
      "---  ------                       --------------  -----  \n",
      " 0   Rank                         234 non-null    int64  \n",
      " 1   CCA3                         234 non-null    object \n",
      " 2   Country                      234 non-null    object \n",
      " 3   Capital                      234 non-null    object \n",
      " 4   Continent                    234 non-null    object \n",
      " 5   2022 Population              234 non-null    int64  \n",
      " 6   2020 Population              234 non-null    int64  \n",
      " 7   2015 Population              234 non-null    int64  \n",
      " 8   2010 Population              234 non-null    int64  \n",
      " 9   2000 Population              234 non-null    int64  \n",
      " 10  1990 Population              234 non-null    int64  \n",
      " 11  1980 Population              234 non-null    int64  \n",
      " 12  1970 Population              234 non-null    int64  \n",
      " 13  Area (km²)                   234 non-null    int64  \n",
      " 14  Density (per km²)            234 non-null    float64\n",
      " 15  Growth Rate                  234 non-null    float64\n",
      " 16  World Population Percentage  234 non-null    float64\n",
      "dtypes: float64(3), int64(10), object(4)\n",
      "memory usage: 31.2+ KB\n"
     ]
    }
   ],
   "source": [
    "df.info()"
   ]
  },
  {
   "cell_type": "code",
   "execution_count": 12,
   "id": "dcfa3017",
   "metadata": {},
   "outputs": [
    {
     "data": {
      "text/html": [
       "<div>\n",
       "<style scoped>\n",
       "    .dataframe tbody tr th:only-of-type {\n",
       "        vertical-align: middle;\n",
       "    }\n",
       "\n",
       "    .dataframe tbody tr th {\n",
       "        vertical-align: top;\n",
       "    }\n",
       "\n",
       "    .dataframe thead th {\n",
       "        text-align: right;\n",
       "    }\n",
       "</style>\n",
       "<table border=\"1\" class=\"dataframe\">\n",
       "  <thead>\n",
       "    <tr style=\"text-align: right;\">\n",
       "      <th></th>\n",
       "      <th>Rank</th>\n",
       "      <th>2022 Population</th>\n",
       "      <th>2020 Population</th>\n",
       "      <th>2015 Population</th>\n",
       "      <th>2010 Population</th>\n",
       "      <th>2000 Population</th>\n",
       "      <th>1990 Population</th>\n",
       "      <th>1980 Population</th>\n",
       "      <th>1970 Population</th>\n",
       "      <th>Area (km²)</th>\n",
       "      <th>Density (per km²)</th>\n",
       "      <th>Growth Rate</th>\n",
       "      <th>World Population Percentage</th>\n",
       "    </tr>\n",
       "  </thead>\n",
       "  <tbody>\n",
       "    <tr>\n",
       "      <th>count</th>\n",
       "      <td>234.000000</td>\n",
       "      <td>2.340000e+02</td>\n",
       "      <td>2.340000e+02</td>\n",
       "      <td>2.340000e+02</td>\n",
       "      <td>2.340000e+02</td>\n",
       "      <td>2.340000e+02</td>\n",
       "      <td>2.340000e+02</td>\n",
       "      <td>2.340000e+02</td>\n",
       "      <td>2.340000e+02</td>\n",
       "      <td>2.340000e+02</td>\n",
       "      <td>234.000000</td>\n",
       "      <td>234.000000</td>\n",
       "      <td>234.000000</td>\n",
       "    </tr>\n",
       "    <tr>\n",
       "      <th>mean</th>\n",
       "      <td>117.500000</td>\n",
       "      <td>3.407441e+07</td>\n",
       "      <td>3.350107e+07</td>\n",
       "      <td>3.172996e+07</td>\n",
       "      <td>2.984524e+07</td>\n",
       "      <td>2.626947e+07</td>\n",
       "      <td>2.271022e+07</td>\n",
       "      <td>1.898462e+07</td>\n",
       "      <td>1.578691e+07</td>\n",
       "      <td>5.814494e+05</td>\n",
       "      <td>452.127044</td>\n",
       "      <td>1.009577</td>\n",
       "      <td>0.427051</td>\n",
       "    </tr>\n",
       "    <tr>\n",
       "      <th>std</th>\n",
       "      <td>67.694165</td>\n",
       "      <td>1.367664e+08</td>\n",
       "      <td>1.355899e+08</td>\n",
       "      <td>1.304050e+08</td>\n",
       "      <td>1.242185e+08</td>\n",
       "      <td>1.116982e+08</td>\n",
       "      <td>9.783217e+07</td>\n",
       "      <td>8.178519e+07</td>\n",
       "      <td>6.779509e+07</td>\n",
       "      <td>1.761841e+06</td>\n",
       "      <td>2066.121904</td>\n",
       "      <td>0.013385</td>\n",
       "      <td>1.714977</td>\n",
       "    </tr>\n",
       "    <tr>\n",
       "      <th>min</th>\n",
       "      <td>1.000000</td>\n",
       "      <td>5.100000e+02</td>\n",
       "      <td>5.200000e+02</td>\n",
       "      <td>5.640000e+02</td>\n",
       "      <td>5.960000e+02</td>\n",
       "      <td>6.510000e+02</td>\n",
       "      <td>7.000000e+02</td>\n",
       "      <td>7.330000e+02</td>\n",
       "      <td>7.520000e+02</td>\n",
       "      <td>1.000000e+00</td>\n",
       "      <td>0.026100</td>\n",
       "      <td>0.912000</td>\n",
       "      <td>0.000000</td>\n",
       "    </tr>\n",
       "    <tr>\n",
       "      <th>25%</th>\n",
       "      <td>59.250000</td>\n",
       "      <td>4.197385e+05</td>\n",
       "      <td>4.152845e+05</td>\n",
       "      <td>4.046760e+05</td>\n",
       "      <td>3.931490e+05</td>\n",
       "      <td>3.272420e+05</td>\n",
       "      <td>2.641158e+05</td>\n",
       "      <td>2.296142e+05</td>\n",
       "      <td>1.559970e+05</td>\n",
       "      <td>2.650000e+03</td>\n",
       "      <td>38.417875</td>\n",
       "      <td>1.001775</td>\n",
       "      <td>0.010000</td>\n",
       "    </tr>\n",
       "    <tr>\n",
       "      <th>50%</th>\n",
       "      <td>117.500000</td>\n",
       "      <td>5.559944e+06</td>\n",
       "      <td>5.493074e+06</td>\n",
       "      <td>5.307400e+06</td>\n",
       "      <td>4.942770e+06</td>\n",
       "      <td>4.292907e+06</td>\n",
       "      <td>3.825410e+06</td>\n",
       "      <td>3.141146e+06</td>\n",
       "      <td>2.604830e+06</td>\n",
       "      <td>8.119950e+04</td>\n",
       "      <td>95.346750</td>\n",
       "      <td>1.007900</td>\n",
       "      <td>0.070000</td>\n",
       "    </tr>\n",
       "    <tr>\n",
       "      <th>75%</th>\n",
       "      <td>175.750000</td>\n",
       "      <td>2.247650e+07</td>\n",
       "      <td>2.144798e+07</td>\n",
       "      <td>1.973085e+07</td>\n",
       "      <td>1.915957e+07</td>\n",
       "      <td>1.576230e+07</td>\n",
       "      <td>1.186923e+07</td>\n",
       "      <td>9.826054e+06</td>\n",
       "      <td>8.817329e+06</td>\n",
       "      <td>4.304258e+05</td>\n",
       "      <td>238.933250</td>\n",
       "      <td>1.016950</td>\n",
       "      <td>0.280000</td>\n",
       "    </tr>\n",
       "    <tr>\n",
       "      <th>max</th>\n",
       "      <td>234.000000</td>\n",
       "      <td>1.425887e+09</td>\n",
       "      <td>1.424930e+09</td>\n",
       "      <td>1.393715e+09</td>\n",
       "      <td>1.348191e+09</td>\n",
       "      <td>1.264099e+09</td>\n",
       "      <td>1.153704e+09</td>\n",
       "      <td>9.823725e+08</td>\n",
       "      <td>8.225344e+08</td>\n",
       "      <td>1.709824e+07</td>\n",
       "      <td>23172.266700</td>\n",
       "      <td>1.069100</td>\n",
       "      <td>17.880000</td>\n",
       "    </tr>\n",
       "  </tbody>\n",
       "</table>\n",
       "</div>"
      ],
      "text/plain": [
       "             Rank  2022 Population  2020 Population  2015 Population  \\\n",
       "count  234.000000     2.340000e+02     2.340000e+02     2.340000e+02   \n",
       "mean   117.500000     3.407441e+07     3.350107e+07     3.172996e+07   \n",
       "std     67.694165     1.367664e+08     1.355899e+08     1.304050e+08   \n",
       "min      1.000000     5.100000e+02     5.200000e+02     5.640000e+02   \n",
       "25%     59.250000     4.197385e+05     4.152845e+05     4.046760e+05   \n",
       "50%    117.500000     5.559944e+06     5.493074e+06     5.307400e+06   \n",
       "75%    175.750000     2.247650e+07     2.144798e+07     1.973085e+07   \n",
       "max    234.000000     1.425887e+09     1.424930e+09     1.393715e+09   \n",
       "\n",
       "       2010 Population  2000 Population  1990 Population  1980 Population  \\\n",
       "count     2.340000e+02     2.340000e+02     2.340000e+02     2.340000e+02   \n",
       "mean      2.984524e+07     2.626947e+07     2.271022e+07     1.898462e+07   \n",
       "std       1.242185e+08     1.116982e+08     9.783217e+07     8.178519e+07   \n",
       "min       5.960000e+02     6.510000e+02     7.000000e+02     7.330000e+02   \n",
       "25%       3.931490e+05     3.272420e+05     2.641158e+05     2.296142e+05   \n",
       "50%       4.942770e+06     4.292907e+06     3.825410e+06     3.141146e+06   \n",
       "75%       1.915957e+07     1.576230e+07     1.186923e+07     9.826054e+06   \n",
       "max       1.348191e+09     1.264099e+09     1.153704e+09     9.823725e+08   \n",
       "\n",
       "       1970 Population    Area (km²)  Density (per km²)  Growth Rate  \\\n",
       "count     2.340000e+02  2.340000e+02         234.000000   234.000000   \n",
       "mean      1.578691e+07  5.814494e+05         452.127044     1.009577   \n",
       "std       6.779509e+07  1.761841e+06        2066.121904     0.013385   \n",
       "min       7.520000e+02  1.000000e+00           0.026100     0.912000   \n",
       "25%       1.559970e+05  2.650000e+03          38.417875     1.001775   \n",
       "50%       2.604830e+06  8.119950e+04          95.346750     1.007900   \n",
       "75%       8.817329e+06  4.304258e+05         238.933250     1.016950   \n",
       "max       8.225344e+08  1.709824e+07       23172.266700     1.069100   \n",
       "\n",
       "       World Population Percentage  \n",
       "count                   234.000000  \n",
       "mean                      0.427051  \n",
       "std                       1.714977  \n",
       "min                       0.000000  \n",
       "25%                       0.010000  \n",
       "50%                       0.070000  \n",
       "75%                       0.280000  \n",
       "max                      17.880000  "
      ]
     },
     "execution_count": 12,
     "metadata": {},
     "output_type": "execute_result"
    }
   ],
   "source": [
    "df.describe()"
   ]
  },
  {
   "cell_type": "markdown",
   "id": "7cc60148",
   "metadata": {},
   "source": [
    "#checking for duplicated entries"
   ]
  },
  {
   "cell_type": "code",
   "execution_count": 14,
   "id": "b95d036b",
   "metadata": {},
   "outputs": [
    {
     "data": {
      "text/plain": [
       "0      False\n",
       "1      False\n",
       "2      False\n",
       "3      False\n",
       "4      False\n",
       "       ...  \n",
       "229    False\n",
       "230    False\n",
       "231    False\n",
       "232    False\n",
       "233    False\n",
       "Length: 234, dtype: bool"
      ]
     },
     "execution_count": 14,
     "metadata": {},
     "output_type": "execute_result"
    }
   ],
   "source": [
    "df.duplicated()"
   ]
  },
  {
   "cell_type": "code",
   "execution_count": 16,
   "id": "9bd2f2d3",
   "metadata": {},
   "outputs": [
    {
     "data": {
      "text/plain": [
       "0      False\n",
       "1      False\n",
       "2      False\n",
       "3      False\n",
       "4      False\n",
       "       ...  \n",
       "229    False\n",
       "230    False\n",
       "231    False\n",
       "232    False\n",
       "233    False\n",
       "Name: Country, Length: 234, dtype: bool"
      ]
     },
     "execution_count": 16,
     "metadata": {},
     "output_type": "execute_result"
    }
   ],
   "source": [
    "df[\"Country\"].duplicated()"
   ]
  },
  {
   "cell_type": "markdown",
   "id": "d91e7fc5",
   "metadata": {},
   "source": [
    "#checking for null values"
   ]
  },
  {
   "cell_type": "code",
   "execution_count": 17,
   "id": "90dfac20",
   "metadata": {},
   "outputs": [
    {
     "data": {
      "text/html": [
       "<div>\n",
       "<style scoped>\n",
       "    .dataframe tbody tr th:only-of-type {\n",
       "        vertical-align: middle;\n",
       "    }\n",
       "\n",
       "    .dataframe tbody tr th {\n",
       "        vertical-align: top;\n",
       "    }\n",
       "\n",
       "    .dataframe thead th {\n",
       "        text-align: right;\n",
       "    }\n",
       "</style>\n",
       "<table border=\"1\" class=\"dataframe\">\n",
       "  <thead>\n",
       "    <tr style=\"text-align: right;\">\n",
       "      <th></th>\n",
       "      <th>Rank</th>\n",
       "      <th>CCA3</th>\n",
       "      <th>Country</th>\n",
       "      <th>Capital</th>\n",
       "      <th>Continent</th>\n",
       "      <th>2022 Population</th>\n",
       "      <th>2020 Population</th>\n",
       "      <th>2015 Population</th>\n",
       "      <th>2010 Population</th>\n",
       "      <th>2000 Population</th>\n",
       "      <th>1990 Population</th>\n",
       "      <th>1980 Population</th>\n",
       "      <th>1970 Population</th>\n",
       "      <th>Area (km²)</th>\n",
       "      <th>Density (per km²)</th>\n",
       "      <th>Growth Rate</th>\n",
       "      <th>World Population Percentage</th>\n",
       "    </tr>\n",
       "  </thead>\n",
       "  <tbody>\n",
       "    <tr>\n",
       "      <th>0</th>\n",
       "      <td>False</td>\n",
       "      <td>False</td>\n",
       "      <td>False</td>\n",
       "      <td>False</td>\n",
       "      <td>False</td>\n",
       "      <td>False</td>\n",
       "      <td>False</td>\n",
       "      <td>False</td>\n",
       "      <td>False</td>\n",
       "      <td>False</td>\n",
       "      <td>False</td>\n",
       "      <td>False</td>\n",
       "      <td>False</td>\n",
       "      <td>False</td>\n",
       "      <td>False</td>\n",
       "      <td>False</td>\n",
       "      <td>False</td>\n",
       "    </tr>\n",
       "    <tr>\n",
       "      <th>1</th>\n",
       "      <td>False</td>\n",
       "      <td>False</td>\n",
       "      <td>False</td>\n",
       "      <td>False</td>\n",
       "      <td>False</td>\n",
       "      <td>False</td>\n",
       "      <td>False</td>\n",
       "      <td>False</td>\n",
       "      <td>False</td>\n",
       "      <td>False</td>\n",
       "      <td>False</td>\n",
       "      <td>False</td>\n",
       "      <td>False</td>\n",
       "      <td>False</td>\n",
       "      <td>False</td>\n",
       "      <td>False</td>\n",
       "      <td>False</td>\n",
       "    </tr>\n",
       "    <tr>\n",
       "      <th>2</th>\n",
       "      <td>False</td>\n",
       "      <td>False</td>\n",
       "      <td>False</td>\n",
       "      <td>False</td>\n",
       "      <td>False</td>\n",
       "      <td>False</td>\n",
       "      <td>False</td>\n",
       "      <td>False</td>\n",
       "      <td>False</td>\n",
       "      <td>False</td>\n",
       "      <td>False</td>\n",
       "      <td>False</td>\n",
       "      <td>False</td>\n",
       "      <td>False</td>\n",
       "      <td>False</td>\n",
       "      <td>False</td>\n",
       "      <td>False</td>\n",
       "    </tr>\n",
       "    <tr>\n",
       "      <th>3</th>\n",
       "      <td>False</td>\n",
       "      <td>False</td>\n",
       "      <td>False</td>\n",
       "      <td>False</td>\n",
       "      <td>False</td>\n",
       "      <td>False</td>\n",
       "      <td>False</td>\n",
       "      <td>False</td>\n",
       "      <td>False</td>\n",
       "      <td>False</td>\n",
       "      <td>False</td>\n",
       "      <td>False</td>\n",
       "      <td>False</td>\n",
       "      <td>False</td>\n",
       "      <td>False</td>\n",
       "      <td>False</td>\n",
       "      <td>False</td>\n",
       "    </tr>\n",
       "    <tr>\n",
       "      <th>4</th>\n",
       "      <td>False</td>\n",
       "      <td>False</td>\n",
       "      <td>False</td>\n",
       "      <td>False</td>\n",
       "      <td>False</td>\n",
       "      <td>False</td>\n",
       "      <td>False</td>\n",
       "      <td>False</td>\n",
       "      <td>False</td>\n",
       "      <td>False</td>\n",
       "      <td>False</td>\n",
       "      <td>False</td>\n",
       "      <td>False</td>\n",
       "      <td>False</td>\n",
       "      <td>False</td>\n",
       "      <td>False</td>\n",
       "      <td>False</td>\n",
       "    </tr>\n",
       "    <tr>\n",
       "      <th>...</th>\n",
       "      <td>...</td>\n",
       "      <td>...</td>\n",
       "      <td>...</td>\n",
       "      <td>...</td>\n",
       "      <td>...</td>\n",
       "      <td>...</td>\n",
       "      <td>...</td>\n",
       "      <td>...</td>\n",
       "      <td>...</td>\n",
       "      <td>...</td>\n",
       "      <td>...</td>\n",
       "      <td>...</td>\n",
       "      <td>...</td>\n",
       "      <td>...</td>\n",
       "      <td>...</td>\n",
       "      <td>...</td>\n",
       "      <td>...</td>\n",
       "    </tr>\n",
       "    <tr>\n",
       "      <th>229</th>\n",
       "      <td>False</td>\n",
       "      <td>False</td>\n",
       "      <td>False</td>\n",
       "      <td>False</td>\n",
       "      <td>False</td>\n",
       "      <td>False</td>\n",
       "      <td>False</td>\n",
       "      <td>False</td>\n",
       "      <td>False</td>\n",
       "      <td>False</td>\n",
       "      <td>False</td>\n",
       "      <td>False</td>\n",
       "      <td>False</td>\n",
       "      <td>False</td>\n",
       "      <td>False</td>\n",
       "      <td>False</td>\n",
       "      <td>False</td>\n",
       "    </tr>\n",
       "    <tr>\n",
       "      <th>230</th>\n",
       "      <td>False</td>\n",
       "      <td>False</td>\n",
       "      <td>False</td>\n",
       "      <td>False</td>\n",
       "      <td>False</td>\n",
       "      <td>False</td>\n",
       "      <td>False</td>\n",
       "      <td>False</td>\n",
       "      <td>False</td>\n",
       "      <td>False</td>\n",
       "      <td>False</td>\n",
       "      <td>False</td>\n",
       "      <td>False</td>\n",
       "      <td>False</td>\n",
       "      <td>False</td>\n",
       "      <td>False</td>\n",
       "      <td>False</td>\n",
       "    </tr>\n",
       "    <tr>\n",
       "      <th>231</th>\n",
       "      <td>False</td>\n",
       "      <td>False</td>\n",
       "      <td>False</td>\n",
       "      <td>False</td>\n",
       "      <td>False</td>\n",
       "      <td>False</td>\n",
       "      <td>False</td>\n",
       "      <td>False</td>\n",
       "      <td>False</td>\n",
       "      <td>False</td>\n",
       "      <td>False</td>\n",
       "      <td>False</td>\n",
       "      <td>False</td>\n",
       "      <td>False</td>\n",
       "      <td>False</td>\n",
       "      <td>False</td>\n",
       "      <td>False</td>\n",
       "    </tr>\n",
       "    <tr>\n",
       "      <th>232</th>\n",
       "      <td>False</td>\n",
       "      <td>False</td>\n",
       "      <td>False</td>\n",
       "      <td>False</td>\n",
       "      <td>False</td>\n",
       "      <td>False</td>\n",
       "      <td>False</td>\n",
       "      <td>False</td>\n",
       "      <td>False</td>\n",
       "      <td>False</td>\n",
       "      <td>False</td>\n",
       "      <td>False</td>\n",
       "      <td>False</td>\n",
       "      <td>False</td>\n",
       "      <td>False</td>\n",
       "      <td>False</td>\n",
       "      <td>False</td>\n",
       "    </tr>\n",
       "    <tr>\n",
       "      <th>233</th>\n",
       "      <td>False</td>\n",
       "      <td>False</td>\n",
       "      <td>False</td>\n",
       "      <td>False</td>\n",
       "      <td>False</td>\n",
       "      <td>False</td>\n",
       "      <td>False</td>\n",
       "      <td>False</td>\n",
       "      <td>False</td>\n",
       "      <td>False</td>\n",
       "      <td>False</td>\n",
       "      <td>False</td>\n",
       "      <td>False</td>\n",
       "      <td>False</td>\n",
       "      <td>False</td>\n",
       "      <td>False</td>\n",
       "      <td>False</td>\n",
       "    </tr>\n",
       "  </tbody>\n",
       "</table>\n",
       "<p>234 rows × 17 columns</p>\n",
       "</div>"
      ],
      "text/plain": [
       "      Rank   CCA3  Country  Capital  Continent  2022 Population  \\\n",
       "0    False  False    False    False      False            False   \n",
       "1    False  False    False    False      False            False   \n",
       "2    False  False    False    False      False            False   \n",
       "3    False  False    False    False      False            False   \n",
       "4    False  False    False    False      False            False   \n",
       "..     ...    ...      ...      ...        ...              ...   \n",
       "229  False  False    False    False      False            False   \n",
       "230  False  False    False    False      False            False   \n",
       "231  False  False    False    False      False            False   \n",
       "232  False  False    False    False      False            False   \n",
       "233  False  False    False    False      False            False   \n",
       "\n",
       "     2020 Population  2015 Population  2010 Population  2000 Population  \\\n",
       "0              False            False            False            False   \n",
       "1              False            False            False            False   \n",
       "2              False            False            False            False   \n",
       "3              False            False            False            False   \n",
       "4              False            False            False            False   \n",
       "..               ...              ...              ...              ...   \n",
       "229            False            False            False            False   \n",
       "230            False            False            False            False   \n",
       "231            False            False            False            False   \n",
       "232            False            False            False            False   \n",
       "233            False            False            False            False   \n",
       "\n",
       "     1990 Population  1980 Population  1970 Population  Area (km²)  \\\n",
       "0              False            False            False       False   \n",
       "1              False            False            False       False   \n",
       "2              False            False            False       False   \n",
       "3              False            False            False       False   \n",
       "4              False            False            False       False   \n",
       "..               ...              ...              ...         ...   \n",
       "229            False            False            False       False   \n",
       "230            False            False            False       False   \n",
       "231            False            False            False       False   \n",
       "232            False            False            False       False   \n",
       "233            False            False            False       False   \n",
       "\n",
       "     Density (per km²)  Growth Rate  World Population Percentage  \n",
       "0                False        False                        False  \n",
       "1                False        False                        False  \n",
       "2                False        False                        False  \n",
       "3                False        False                        False  \n",
       "4                False        False                        False  \n",
       "..                 ...          ...                          ...  \n",
       "229              False        False                        False  \n",
       "230              False        False                        False  \n",
       "231              False        False                        False  \n",
       "232              False        False                        False  \n",
       "233              False        False                        False  \n",
       "\n",
       "[234 rows x 17 columns]"
      ]
     },
     "execution_count": 17,
     "metadata": {},
     "output_type": "execute_result"
    }
   ],
   "source": [
    "df.isnull()"
   ]
  },
  {
   "cell_type": "code",
   "execution_count": 19,
   "id": "a352115f",
   "metadata": {},
   "outputs": [
    {
     "name": "stdout",
     "output_type": "stream",
     "text": [
      "<class 'pandas.core.frame.DataFrame'>\n",
      "RangeIndex: 234 entries, 0 to 233\n",
      "Data columns (total 17 columns):\n",
      " #   Column                       Non-Null Count  Dtype  \n",
      "---  ------                       --------------  -----  \n",
      " 0   Rank                         234 non-null    int64  \n",
      " 1   CCA3                         234 non-null    object \n",
      " 2   Country                      234 non-null    object \n",
      " 3   Capital                      234 non-null    object \n",
      " 4   Continent                    234 non-null    object \n",
      " 5   2022 Population              234 non-null    int64  \n",
      " 6   2020 Population              234 non-null    int64  \n",
      " 7   2015 Population              234 non-null    int64  \n",
      " 8   2010 Population              234 non-null    int64  \n",
      " 9   2000 Population              234 non-null    int64  \n",
      " 10  1990 Population              234 non-null    int64  \n",
      " 11  1980 Population              234 non-null    int64  \n",
      " 12  1970 Population              234 non-null    int64  \n",
      " 13  Area (km²)                   234 non-null    int64  \n",
      " 14  Density (per km²)            234 non-null    float64\n",
      " 15  Growth Rate                  234 non-null    float64\n",
      " 16  World Population Percentage  234 non-null    float64\n",
      "dtypes: float64(3), int64(10), object(4)\n",
      "memory usage: 31.2+ KB\n"
     ]
    }
   ],
   "source": [
    "new_df=df.dropna()\n",
    "new_df.info()"
   ]
  },
  {
   "cell_type": "markdown",
   "id": "db832c72",
   "metadata": {},
   "source": [
    "#first ten and last ten entries"
   ]
  },
  {
   "cell_type": "code",
   "execution_count": 20,
   "id": "44adb0bf",
   "metadata": {},
   "outputs": [
    {
     "data": {
      "text/html": [
       "<div>\n",
       "<style scoped>\n",
       "    .dataframe tbody tr th:only-of-type {\n",
       "        vertical-align: middle;\n",
       "    }\n",
       "\n",
       "    .dataframe tbody tr th {\n",
       "        vertical-align: top;\n",
       "    }\n",
       "\n",
       "    .dataframe thead th {\n",
       "        text-align: right;\n",
       "    }\n",
       "</style>\n",
       "<table border=\"1\" class=\"dataframe\">\n",
       "  <thead>\n",
       "    <tr style=\"text-align: right;\">\n",
       "      <th></th>\n",
       "      <th>Rank</th>\n",
       "      <th>CCA3</th>\n",
       "      <th>Country</th>\n",
       "      <th>Capital</th>\n",
       "      <th>Continent</th>\n",
       "      <th>2022 Population</th>\n",
       "      <th>2020 Population</th>\n",
       "      <th>2015 Population</th>\n",
       "      <th>2010 Population</th>\n",
       "      <th>2000 Population</th>\n",
       "      <th>1990 Population</th>\n",
       "      <th>1980 Population</th>\n",
       "      <th>1970 Population</th>\n",
       "      <th>Area (km²)</th>\n",
       "      <th>Density (per km²)</th>\n",
       "      <th>Growth Rate</th>\n",
       "      <th>World Population Percentage</th>\n",
       "    </tr>\n",
       "  </thead>\n",
       "  <tbody>\n",
       "    <tr>\n",
       "      <th>0</th>\n",
       "      <td>36</td>\n",
       "      <td>AFG</td>\n",
       "      <td>Afghanistan</td>\n",
       "      <td>Kabul</td>\n",
       "      <td>Asia</td>\n",
       "      <td>41128771</td>\n",
       "      <td>38972230</td>\n",
       "      <td>33753499</td>\n",
       "      <td>28189672</td>\n",
       "      <td>19542982</td>\n",
       "      <td>10694796</td>\n",
       "      <td>12486631</td>\n",
       "      <td>10752971</td>\n",
       "      <td>652230</td>\n",
       "      <td>63.0587</td>\n",
       "      <td>1.0257</td>\n",
       "      <td>0.52</td>\n",
       "    </tr>\n",
       "    <tr>\n",
       "      <th>1</th>\n",
       "      <td>138</td>\n",
       "      <td>ALB</td>\n",
       "      <td>Albania</td>\n",
       "      <td>Tirana</td>\n",
       "      <td>Europe</td>\n",
       "      <td>2842321</td>\n",
       "      <td>2866849</td>\n",
       "      <td>2882481</td>\n",
       "      <td>2913399</td>\n",
       "      <td>3182021</td>\n",
       "      <td>3295066</td>\n",
       "      <td>2941651</td>\n",
       "      <td>2324731</td>\n",
       "      <td>28748</td>\n",
       "      <td>98.8702</td>\n",
       "      <td>0.9957</td>\n",
       "      <td>0.04</td>\n",
       "    </tr>\n",
       "    <tr>\n",
       "      <th>2</th>\n",
       "      <td>34</td>\n",
       "      <td>DZA</td>\n",
       "      <td>Algeria</td>\n",
       "      <td>Algiers</td>\n",
       "      <td>Africa</td>\n",
       "      <td>44903225</td>\n",
       "      <td>43451666</td>\n",
       "      <td>39543154</td>\n",
       "      <td>35856344</td>\n",
       "      <td>30774621</td>\n",
       "      <td>25518074</td>\n",
       "      <td>18739378</td>\n",
       "      <td>13795915</td>\n",
       "      <td>2381741</td>\n",
       "      <td>18.8531</td>\n",
       "      <td>1.0164</td>\n",
       "      <td>0.56</td>\n",
       "    </tr>\n",
       "    <tr>\n",
       "      <th>3</th>\n",
       "      <td>213</td>\n",
       "      <td>ASM</td>\n",
       "      <td>American Samoa</td>\n",
       "      <td>Pago Pago</td>\n",
       "      <td>Oceania</td>\n",
       "      <td>44273</td>\n",
       "      <td>46189</td>\n",
       "      <td>51368</td>\n",
       "      <td>54849</td>\n",
       "      <td>58230</td>\n",
       "      <td>47818</td>\n",
       "      <td>32886</td>\n",
       "      <td>27075</td>\n",
       "      <td>199</td>\n",
       "      <td>222.4774</td>\n",
       "      <td>0.9831</td>\n",
       "      <td>0.00</td>\n",
       "    </tr>\n",
       "    <tr>\n",
       "      <th>4</th>\n",
       "      <td>203</td>\n",
       "      <td>AND</td>\n",
       "      <td>Andorra</td>\n",
       "      <td>Andorra la Vella</td>\n",
       "      <td>Europe</td>\n",
       "      <td>79824</td>\n",
       "      <td>77700</td>\n",
       "      <td>71746</td>\n",
       "      <td>71519</td>\n",
       "      <td>66097</td>\n",
       "      <td>53569</td>\n",
       "      <td>35611</td>\n",
       "      <td>19860</td>\n",
       "      <td>468</td>\n",
       "      <td>170.5641</td>\n",
       "      <td>1.0100</td>\n",
       "      <td>0.00</td>\n",
       "    </tr>\n",
       "    <tr>\n",
       "      <th>5</th>\n",
       "      <td>42</td>\n",
       "      <td>AGO</td>\n",
       "      <td>Angola</td>\n",
       "      <td>Luanda</td>\n",
       "      <td>Africa</td>\n",
       "      <td>35588987</td>\n",
       "      <td>33428485</td>\n",
       "      <td>28127721</td>\n",
       "      <td>23364185</td>\n",
       "      <td>16394062</td>\n",
       "      <td>11828638</td>\n",
       "      <td>8330047</td>\n",
       "      <td>6029700</td>\n",
       "      <td>1246700</td>\n",
       "      <td>28.5466</td>\n",
       "      <td>1.0315</td>\n",
       "      <td>0.45</td>\n",
       "    </tr>\n",
       "    <tr>\n",
       "      <th>6</th>\n",
       "      <td>224</td>\n",
       "      <td>AIA</td>\n",
       "      <td>Anguilla</td>\n",
       "      <td>The Valley</td>\n",
       "      <td>North America</td>\n",
       "      <td>15857</td>\n",
       "      <td>15585</td>\n",
       "      <td>14525</td>\n",
       "      <td>13172</td>\n",
       "      <td>11047</td>\n",
       "      <td>8316</td>\n",
       "      <td>6560</td>\n",
       "      <td>6283</td>\n",
       "      <td>91</td>\n",
       "      <td>174.2527</td>\n",
       "      <td>1.0066</td>\n",
       "      <td>0.00</td>\n",
       "    </tr>\n",
       "    <tr>\n",
       "      <th>7</th>\n",
       "      <td>201</td>\n",
       "      <td>ATG</td>\n",
       "      <td>Antigua and Barbuda</td>\n",
       "      <td>Saint John’s</td>\n",
       "      <td>North America</td>\n",
       "      <td>93763</td>\n",
       "      <td>92664</td>\n",
       "      <td>89941</td>\n",
       "      <td>85695</td>\n",
       "      <td>75055</td>\n",
       "      <td>63328</td>\n",
       "      <td>64888</td>\n",
       "      <td>64516</td>\n",
       "      <td>442</td>\n",
       "      <td>212.1335</td>\n",
       "      <td>1.0058</td>\n",
       "      <td>0.00</td>\n",
       "    </tr>\n",
       "    <tr>\n",
       "      <th>8</th>\n",
       "      <td>33</td>\n",
       "      <td>ARG</td>\n",
       "      <td>Argentina</td>\n",
       "      <td>Buenos Aires</td>\n",
       "      <td>South America</td>\n",
       "      <td>45510318</td>\n",
       "      <td>45036032</td>\n",
       "      <td>43257065</td>\n",
       "      <td>41100123</td>\n",
       "      <td>37070774</td>\n",
       "      <td>32637657</td>\n",
       "      <td>28024803</td>\n",
       "      <td>23842803</td>\n",
       "      <td>2780400</td>\n",
       "      <td>16.3683</td>\n",
       "      <td>1.0052</td>\n",
       "      <td>0.57</td>\n",
       "    </tr>\n",
       "    <tr>\n",
       "      <th>9</th>\n",
       "      <td>140</td>\n",
       "      <td>ARM</td>\n",
       "      <td>Armenia</td>\n",
       "      <td>Yerevan</td>\n",
       "      <td>Asia</td>\n",
       "      <td>2780469</td>\n",
       "      <td>2805608</td>\n",
       "      <td>2878595</td>\n",
       "      <td>2946293</td>\n",
       "      <td>3168523</td>\n",
       "      <td>3556539</td>\n",
       "      <td>3135123</td>\n",
       "      <td>2534377</td>\n",
       "      <td>29743</td>\n",
       "      <td>93.4831</td>\n",
       "      <td>0.9962</td>\n",
       "      <td>0.03</td>\n",
       "    </tr>\n",
       "  </tbody>\n",
       "</table>\n",
       "</div>"
      ],
      "text/plain": [
       "   Rank CCA3              Country           Capital      Continent  \\\n",
       "0    36  AFG          Afghanistan             Kabul           Asia   \n",
       "1   138  ALB              Albania            Tirana         Europe   \n",
       "2    34  DZA              Algeria           Algiers         Africa   \n",
       "3   213  ASM       American Samoa         Pago Pago        Oceania   \n",
       "4   203  AND              Andorra  Andorra la Vella         Europe   \n",
       "5    42  AGO               Angola            Luanda         Africa   \n",
       "6   224  AIA             Anguilla        The Valley  North America   \n",
       "7   201  ATG  Antigua and Barbuda      Saint John’s  North America   \n",
       "8    33  ARG            Argentina      Buenos Aires  South America   \n",
       "9   140  ARM              Armenia           Yerevan           Asia   \n",
       "\n",
       "   2022 Population  2020 Population  2015 Population  2010 Population  \\\n",
       "0         41128771         38972230         33753499         28189672   \n",
       "1          2842321          2866849          2882481          2913399   \n",
       "2         44903225         43451666         39543154         35856344   \n",
       "3            44273            46189            51368            54849   \n",
       "4            79824            77700            71746            71519   \n",
       "5         35588987         33428485         28127721         23364185   \n",
       "6            15857            15585            14525            13172   \n",
       "7            93763            92664            89941            85695   \n",
       "8         45510318         45036032         43257065         41100123   \n",
       "9          2780469          2805608          2878595          2946293   \n",
       "\n",
       "   2000 Population  1990 Population  1980 Population  1970 Population  \\\n",
       "0         19542982         10694796         12486631         10752971   \n",
       "1          3182021          3295066          2941651          2324731   \n",
       "2         30774621         25518074         18739378         13795915   \n",
       "3            58230            47818            32886            27075   \n",
       "4            66097            53569            35611            19860   \n",
       "5         16394062         11828638          8330047          6029700   \n",
       "6            11047             8316             6560             6283   \n",
       "7            75055            63328            64888            64516   \n",
       "8         37070774         32637657         28024803         23842803   \n",
       "9          3168523          3556539          3135123          2534377   \n",
       "\n",
       "   Area (km²)  Density (per km²)  Growth Rate  World Population Percentage  \n",
       "0      652230            63.0587       1.0257                         0.52  \n",
       "1       28748            98.8702       0.9957                         0.04  \n",
       "2     2381741            18.8531       1.0164                         0.56  \n",
       "3         199           222.4774       0.9831                         0.00  \n",
       "4         468           170.5641       1.0100                         0.00  \n",
       "5     1246700            28.5466       1.0315                         0.45  \n",
       "6          91           174.2527       1.0066                         0.00  \n",
       "7         442           212.1335       1.0058                         0.00  \n",
       "8     2780400            16.3683       1.0052                         0.57  \n",
       "9       29743            93.4831       0.9962                         0.03  "
      ]
     },
     "execution_count": 20,
     "metadata": {},
     "output_type": "execute_result"
    }
   ],
   "source": [
    "df.head(10)"
   ]
  },
  {
   "cell_type": "code",
   "execution_count": 21,
   "id": "045641f0",
   "metadata": {},
   "outputs": [
    {
     "data": {
      "text/html": [
       "<div>\n",
       "<style scoped>\n",
       "    .dataframe tbody tr th:only-of-type {\n",
       "        vertical-align: middle;\n",
       "    }\n",
       "\n",
       "    .dataframe tbody tr th {\n",
       "        vertical-align: top;\n",
       "    }\n",
       "\n",
       "    .dataframe thead th {\n",
       "        text-align: right;\n",
       "    }\n",
       "</style>\n",
       "<table border=\"1\" class=\"dataframe\">\n",
       "  <thead>\n",
       "    <tr style=\"text-align: right;\">\n",
       "      <th></th>\n",
       "      <th>Rank</th>\n",
       "      <th>CCA3</th>\n",
       "      <th>Country</th>\n",
       "      <th>Capital</th>\n",
       "      <th>Continent</th>\n",
       "      <th>2022 Population</th>\n",
       "      <th>2020 Population</th>\n",
       "      <th>2015 Population</th>\n",
       "      <th>2010 Population</th>\n",
       "      <th>2000 Population</th>\n",
       "      <th>1990 Population</th>\n",
       "      <th>1980 Population</th>\n",
       "      <th>1970 Population</th>\n",
       "      <th>Area (km²)</th>\n",
       "      <th>Density (per km²)</th>\n",
       "      <th>Growth Rate</th>\n",
       "      <th>World Population Percentage</th>\n",
       "    </tr>\n",
       "  </thead>\n",
       "  <tbody>\n",
       "    <tr>\n",
       "      <th>224</th>\n",
       "      <td>43</td>\n",
       "      <td>UZB</td>\n",
       "      <td>Uzbekistan</td>\n",
       "      <td>Tashkent</td>\n",
       "      <td>Asia</td>\n",
       "      <td>34627652</td>\n",
       "      <td>33526656</td>\n",
       "      <td>30949417</td>\n",
       "      <td>28614227</td>\n",
       "      <td>24925554</td>\n",
       "      <td>20579100</td>\n",
       "      <td>15947129</td>\n",
       "      <td>12011361</td>\n",
       "      <td>447400</td>\n",
       "      <td>77.3975</td>\n",
       "      <td>1.0160</td>\n",
       "      <td>0.43</td>\n",
       "    </tr>\n",
       "    <tr>\n",
       "      <th>225</th>\n",
       "      <td>181</td>\n",
       "      <td>VUT</td>\n",
       "      <td>Vanuatu</td>\n",
       "      <td>Port-Vila</td>\n",
       "      <td>Oceania</td>\n",
       "      <td>326740</td>\n",
       "      <td>311685</td>\n",
       "      <td>276438</td>\n",
       "      <td>245453</td>\n",
       "      <td>192074</td>\n",
       "      <td>150882</td>\n",
       "      <td>118156</td>\n",
       "      <td>87019</td>\n",
       "      <td>12189</td>\n",
       "      <td>26.8061</td>\n",
       "      <td>1.0238</td>\n",
       "      <td>0.00</td>\n",
       "    </tr>\n",
       "    <tr>\n",
       "      <th>226</th>\n",
       "      <td>234</td>\n",
       "      <td>VAT</td>\n",
       "      <td>Vatican City</td>\n",
       "      <td>Vatican City</td>\n",
       "      <td>Europe</td>\n",
       "      <td>510</td>\n",
       "      <td>520</td>\n",
       "      <td>564</td>\n",
       "      <td>596</td>\n",
       "      <td>651</td>\n",
       "      <td>700</td>\n",
       "      <td>733</td>\n",
       "      <td>752</td>\n",
       "      <td>1</td>\n",
       "      <td>510.0000</td>\n",
       "      <td>0.9980</td>\n",
       "      <td>0.00</td>\n",
       "    </tr>\n",
       "    <tr>\n",
       "      <th>227</th>\n",
       "      <td>51</td>\n",
       "      <td>VEN</td>\n",
       "      <td>Venezuela</td>\n",
       "      <td>Caracas</td>\n",
       "      <td>South America</td>\n",
       "      <td>28301696</td>\n",
       "      <td>28490453</td>\n",
       "      <td>30529716</td>\n",
       "      <td>28715022</td>\n",
       "      <td>24427729</td>\n",
       "      <td>19750579</td>\n",
       "      <td>15210443</td>\n",
       "      <td>11355475</td>\n",
       "      <td>916445</td>\n",
       "      <td>30.8820</td>\n",
       "      <td>1.0036</td>\n",
       "      <td>0.35</td>\n",
       "    </tr>\n",
       "    <tr>\n",
       "      <th>228</th>\n",
       "      <td>16</td>\n",
       "      <td>VNM</td>\n",
       "      <td>Vietnam</td>\n",
       "      <td>Hanoi</td>\n",
       "      <td>Asia</td>\n",
       "      <td>98186856</td>\n",
       "      <td>96648685</td>\n",
       "      <td>92191398</td>\n",
       "      <td>87411012</td>\n",
       "      <td>79001142</td>\n",
       "      <td>66912613</td>\n",
       "      <td>52968270</td>\n",
       "      <td>41928849</td>\n",
       "      <td>331212</td>\n",
       "      <td>296.4472</td>\n",
       "      <td>1.0074</td>\n",
       "      <td>1.23</td>\n",
       "    </tr>\n",
       "    <tr>\n",
       "      <th>229</th>\n",
       "      <td>226</td>\n",
       "      <td>WLF</td>\n",
       "      <td>Wallis and Futuna</td>\n",
       "      <td>Mata-Utu</td>\n",
       "      <td>Oceania</td>\n",
       "      <td>11572</td>\n",
       "      <td>11655</td>\n",
       "      <td>12182</td>\n",
       "      <td>13142</td>\n",
       "      <td>14723</td>\n",
       "      <td>13454</td>\n",
       "      <td>11315</td>\n",
       "      <td>9377</td>\n",
       "      <td>142</td>\n",
       "      <td>81.4930</td>\n",
       "      <td>0.9953</td>\n",
       "      <td>0.00</td>\n",
       "    </tr>\n",
       "    <tr>\n",
       "      <th>230</th>\n",
       "      <td>172</td>\n",
       "      <td>ESH</td>\n",
       "      <td>Western Sahara</td>\n",
       "      <td>El Aaiún</td>\n",
       "      <td>Africa</td>\n",
       "      <td>575986</td>\n",
       "      <td>556048</td>\n",
       "      <td>491824</td>\n",
       "      <td>413296</td>\n",
       "      <td>270375</td>\n",
       "      <td>178529</td>\n",
       "      <td>116775</td>\n",
       "      <td>76371</td>\n",
       "      <td>266000</td>\n",
       "      <td>2.1654</td>\n",
       "      <td>1.0184</td>\n",
       "      <td>0.01</td>\n",
       "    </tr>\n",
       "    <tr>\n",
       "      <th>231</th>\n",
       "      <td>46</td>\n",
       "      <td>YEM</td>\n",
       "      <td>Yemen</td>\n",
       "      <td>Sanaa</td>\n",
       "      <td>Asia</td>\n",
       "      <td>33696614</td>\n",
       "      <td>32284046</td>\n",
       "      <td>28516545</td>\n",
       "      <td>24743946</td>\n",
       "      <td>18628700</td>\n",
       "      <td>13375121</td>\n",
       "      <td>9204938</td>\n",
       "      <td>6843607</td>\n",
       "      <td>527968</td>\n",
       "      <td>63.8232</td>\n",
       "      <td>1.0217</td>\n",
       "      <td>0.42</td>\n",
       "    </tr>\n",
       "    <tr>\n",
       "      <th>232</th>\n",
       "      <td>63</td>\n",
       "      <td>ZMB</td>\n",
       "      <td>Zambia</td>\n",
       "      <td>Lusaka</td>\n",
       "      <td>Africa</td>\n",
       "      <td>20017675</td>\n",
       "      <td>18927715</td>\n",
       "      <td>16248230</td>\n",
       "      <td>13792086</td>\n",
       "      <td>9891136</td>\n",
       "      <td>7686401</td>\n",
       "      <td>5720438</td>\n",
       "      <td>4281671</td>\n",
       "      <td>752612</td>\n",
       "      <td>26.5976</td>\n",
       "      <td>1.0280</td>\n",
       "      <td>0.25</td>\n",
       "    </tr>\n",
       "    <tr>\n",
       "      <th>233</th>\n",
       "      <td>74</td>\n",
       "      <td>ZWE</td>\n",
       "      <td>Zimbabwe</td>\n",
       "      <td>Harare</td>\n",
       "      <td>Africa</td>\n",
       "      <td>16320537</td>\n",
       "      <td>15669666</td>\n",
       "      <td>14154937</td>\n",
       "      <td>12839771</td>\n",
       "      <td>11834676</td>\n",
       "      <td>10113893</td>\n",
       "      <td>7049926</td>\n",
       "      <td>5202918</td>\n",
       "      <td>390757</td>\n",
       "      <td>41.7665</td>\n",
       "      <td>1.0204</td>\n",
       "      <td>0.20</td>\n",
       "    </tr>\n",
       "  </tbody>\n",
       "</table>\n",
       "</div>"
      ],
      "text/plain": [
       "     Rank CCA3            Country       Capital      Continent  \\\n",
       "224    43  UZB         Uzbekistan      Tashkent           Asia   \n",
       "225   181  VUT            Vanuatu     Port-Vila        Oceania   \n",
       "226   234  VAT       Vatican City  Vatican City         Europe   \n",
       "227    51  VEN          Venezuela       Caracas  South America   \n",
       "228    16  VNM            Vietnam         Hanoi           Asia   \n",
       "229   226  WLF  Wallis and Futuna      Mata-Utu        Oceania   \n",
       "230   172  ESH     Western Sahara      El Aaiún         Africa   \n",
       "231    46  YEM              Yemen         Sanaa           Asia   \n",
       "232    63  ZMB             Zambia        Lusaka         Africa   \n",
       "233    74  ZWE           Zimbabwe        Harare         Africa   \n",
       "\n",
       "     2022 Population  2020 Population  2015 Population  2010 Population  \\\n",
       "224         34627652         33526656         30949417         28614227   \n",
       "225           326740           311685           276438           245453   \n",
       "226              510              520              564              596   \n",
       "227         28301696         28490453         30529716         28715022   \n",
       "228         98186856         96648685         92191398         87411012   \n",
       "229            11572            11655            12182            13142   \n",
       "230           575986           556048           491824           413296   \n",
       "231         33696614         32284046         28516545         24743946   \n",
       "232         20017675         18927715         16248230         13792086   \n",
       "233         16320537         15669666         14154937         12839771   \n",
       "\n",
       "     2000 Population  1990 Population  1980 Population  1970 Population  \\\n",
       "224         24925554         20579100         15947129         12011361   \n",
       "225           192074           150882           118156            87019   \n",
       "226              651              700              733              752   \n",
       "227         24427729         19750579         15210443         11355475   \n",
       "228         79001142         66912613         52968270         41928849   \n",
       "229            14723            13454            11315             9377   \n",
       "230           270375           178529           116775            76371   \n",
       "231         18628700         13375121          9204938          6843607   \n",
       "232          9891136          7686401          5720438          4281671   \n",
       "233         11834676         10113893          7049926          5202918   \n",
       "\n",
       "     Area (km²)  Density (per km²)  Growth Rate  World Population Percentage  \n",
       "224      447400            77.3975       1.0160                         0.43  \n",
       "225       12189            26.8061       1.0238                         0.00  \n",
       "226           1           510.0000       0.9980                         0.00  \n",
       "227      916445            30.8820       1.0036                         0.35  \n",
       "228      331212           296.4472       1.0074                         1.23  \n",
       "229         142            81.4930       0.9953                         0.00  \n",
       "230      266000             2.1654       1.0184                         0.01  \n",
       "231      527968            63.8232       1.0217                         0.42  \n",
       "232      752612            26.5976       1.0280                         0.25  \n",
       "233      390757            41.7665       1.0204                         0.20  "
      ]
     },
     "execution_count": 21,
     "metadata": {},
     "output_type": "execute_result"
    }
   ],
   "source": [
    "df.tail(10)"
   ]
  },
  {
   "cell_type": "code",
   "execution_count": 22,
   "id": "04e55bc1",
   "metadata": {},
   "outputs": [
    {
     "data": {
      "text/plain": [
       "[RangeIndex(start=0, stop=234, step=1),\n",
       " Index(['Rank', 'CCA3', 'Country', 'Capital', 'Continent', '2022 Population',\n",
       "        '2020 Population', '2015 Population', '2010 Population',\n",
       "        '2000 Population', '1990 Population', '1980 Population',\n",
       "        '1970 Population', 'Area (km²)', 'Density (per km²)', 'Growth Rate',\n",
       "        'World Population Percentage'],\n",
       "       dtype='object')]"
      ]
     },
     "execution_count": 22,
     "metadata": {},
     "output_type": "execute_result"
    }
   ],
   "source": [
    "new_df.axes"
   ]
  },
  {
   "cell_type": "code",
   "execution_count": 23,
   "id": "251ffe62",
   "metadata": {},
   "outputs": [
    {
     "data": {
      "text/plain": [
       "0      41128771\n",
       "1       2842321\n",
       "2      44903225\n",
       "3         44273\n",
       "4         79824\n",
       "         ...   \n",
       "229       11572\n",
       "230      575986\n",
       "231    33696614\n",
       "232    20017675\n",
       "233    16320537\n",
       "Name: 2022 Population, Length: 234, dtype: int64"
      ]
     },
     "execution_count": 23,
     "metadata": {},
     "output_type": "execute_result"
    }
   ],
   "source": [
    "df[\"2022 Population\"]"
   ]
  },
  {
   "cell_type": "code",
   "execution_count": 25,
   "id": "e95601a2",
   "metadata": {},
   "outputs": [
    {
     "data": {
      "text/plain": [
       "'Afghanistan'"
      ]
     },
     "execution_count": 25,
     "metadata": {},
     "output_type": "execute_result"
    }
   ],
   "source": [
    "df.loc[0, \"Country\"]"
   ]
  },
  {
   "cell_type": "code",
   "execution_count": 26,
   "id": "77acc2d0",
   "metadata": {},
   "outputs": [
    {
     "data": {
      "text/plain": [
       "'Kabul'"
      ]
     },
     "execution_count": 26,
     "metadata": {},
     "output_type": "execute_result"
    }
   ],
   "source": [
    "df.loc[0, \"Capital\"]"
   ]
  },
  {
   "cell_type": "code",
   "execution_count": 27,
   "id": "e1fbe8d0",
   "metadata": {},
   "outputs": [
    {
     "data": {
      "text/plain": [
       "0       36\n",
       "1      138\n",
       "2       34\n",
       "3      213\n",
       "4      203\n",
       "      ... \n",
       "229    226\n",
       "230    172\n",
       "231     46\n",
       "232     63\n",
       "233     74\n",
       "Name: Rank, Length: 234, dtype: int64"
      ]
     },
     "execution_count": 27,
     "metadata": {},
     "output_type": "execute_result"
    }
   ],
   "source": [
    "df[\"Rank\"]"
   ]
  },
  {
   "cell_type": "markdown",
   "id": "e19128db",
   "metadata": {},
   "source": [
    "#statistics"
   ]
  },
  {
   "cell_type": "code",
   "execution_count": 30,
   "id": "e159bd83",
   "metadata": {},
   "outputs": [
    {
     "data": {
      "text/plain": [
       "Rank                                                                       27495\n",
       "CCA3                           AFGALBDZAASMANDAGOAIAATGARGARMABWAUSAUTAZEBHSB...\n",
       "Country                        AfghanistanAlbaniaAlgeriaAmerican SamoaAndorra...\n",
       "Capital                        KabulTiranaAlgiersPago PagoAndorra la VellaLua...\n",
       "Continent                      AsiaEuropeAfricaOceaniaEuropeAfricaNorth Ameri...\n",
       "2022 Population                                                       7973413042\n",
       "2020 Population                                                       7839250603\n",
       "2015 Population                                                       7424809761\n",
       "2010 Population                                                       6983784998\n",
       "2000 Population                                                       6147055703\n",
       "1990 Population                                                       5314191665\n",
       "1980 Population                                                       4442400371\n",
       "1970 Population                                                       3694136661\n",
       "Area (km²)                                                             136059156\n",
       "Density (per km²)                                                    105797.7282\n",
       "Growth Rate                                                             236.2411\n",
       "World Population Percentage                                                99.93\n",
       "dtype: object"
      ]
     },
     "execution_count": 30,
     "metadata": {},
     "output_type": "execute_result"
    }
   ],
   "source": [
    "df.sum()"
   ]
  },
  {
   "cell_type": "code",
   "execution_count": 31,
   "id": "ac302908",
   "metadata": {},
   "outputs": [
    {
     "data": {
      "text/plain": [
       "7973413042"
      ]
     },
     "execution_count": 31,
     "metadata": {},
     "output_type": "execute_result"
    }
   ],
   "source": [
    "df[\"2022 Population\"].sum()"
   ]
  },
  {
   "cell_type": "code",
   "execution_count": 32,
   "id": "8af8fac6",
   "metadata": {},
   "outputs": [
    {
     "data": {
      "text/plain": [
       "7839250603"
      ]
     },
     "execution_count": 32,
     "metadata": {},
     "output_type": "execute_result"
    }
   ],
   "source": [
    "df[\"2020 Population\"].sum()"
   ]
  },
  {
   "cell_type": "code",
   "execution_count": 33,
   "id": "af04d122",
   "metadata": {},
   "outputs": [
    {
     "data": {
      "text/html": [
       "<div>\n",
       "<style scoped>\n",
       "    .dataframe tbody tr th:only-of-type {\n",
       "        vertical-align: middle;\n",
       "    }\n",
       "\n",
       "    .dataframe tbody tr th {\n",
       "        vertical-align: top;\n",
       "    }\n",
       "\n",
       "    .dataframe thead th {\n",
       "        text-align: right;\n",
       "    }\n",
       "</style>\n",
       "<table border=\"1\" class=\"dataframe\">\n",
       "  <thead>\n",
       "    <tr style=\"text-align: right;\">\n",
       "      <th></th>\n",
       "      <th>Rank</th>\n",
       "      <th>2022 Population</th>\n",
       "      <th>2020 Population</th>\n",
       "      <th>2015 Population</th>\n",
       "      <th>2010 Population</th>\n",
       "      <th>2000 Population</th>\n",
       "      <th>1990 Population</th>\n",
       "      <th>1980 Population</th>\n",
       "      <th>1970 Population</th>\n",
       "      <th>Area (km²)</th>\n",
       "      <th>Density (per km²)</th>\n",
       "      <th>Growth Rate</th>\n",
       "      <th>World Population Percentage</th>\n",
       "    </tr>\n",
       "  </thead>\n",
       "  <tbody>\n",
       "    <tr>\n",
       "      <th>count</th>\n",
       "      <td>234.000000</td>\n",
       "      <td>2.340000e+02</td>\n",
       "      <td>2.340000e+02</td>\n",
       "      <td>2.340000e+02</td>\n",
       "      <td>2.340000e+02</td>\n",
       "      <td>2.340000e+02</td>\n",
       "      <td>2.340000e+02</td>\n",
       "      <td>2.340000e+02</td>\n",
       "      <td>2.340000e+02</td>\n",
       "      <td>2.340000e+02</td>\n",
       "      <td>234.000000</td>\n",
       "      <td>234.000000</td>\n",
       "      <td>234.000000</td>\n",
       "    </tr>\n",
       "    <tr>\n",
       "      <th>mean</th>\n",
       "      <td>117.500000</td>\n",
       "      <td>3.407441e+07</td>\n",
       "      <td>3.350107e+07</td>\n",
       "      <td>3.172996e+07</td>\n",
       "      <td>2.984524e+07</td>\n",
       "      <td>2.626947e+07</td>\n",
       "      <td>2.271022e+07</td>\n",
       "      <td>1.898462e+07</td>\n",
       "      <td>1.578691e+07</td>\n",
       "      <td>5.814494e+05</td>\n",
       "      <td>452.127044</td>\n",
       "      <td>1.009577</td>\n",
       "      <td>0.427051</td>\n",
       "    </tr>\n",
       "    <tr>\n",
       "      <th>std</th>\n",
       "      <td>67.694165</td>\n",
       "      <td>1.367664e+08</td>\n",
       "      <td>1.355899e+08</td>\n",
       "      <td>1.304050e+08</td>\n",
       "      <td>1.242185e+08</td>\n",
       "      <td>1.116982e+08</td>\n",
       "      <td>9.783217e+07</td>\n",
       "      <td>8.178519e+07</td>\n",
       "      <td>6.779509e+07</td>\n",
       "      <td>1.761841e+06</td>\n",
       "      <td>2066.121904</td>\n",
       "      <td>0.013385</td>\n",
       "      <td>1.714977</td>\n",
       "    </tr>\n",
       "    <tr>\n",
       "      <th>min</th>\n",
       "      <td>1.000000</td>\n",
       "      <td>5.100000e+02</td>\n",
       "      <td>5.200000e+02</td>\n",
       "      <td>5.640000e+02</td>\n",
       "      <td>5.960000e+02</td>\n",
       "      <td>6.510000e+02</td>\n",
       "      <td>7.000000e+02</td>\n",
       "      <td>7.330000e+02</td>\n",
       "      <td>7.520000e+02</td>\n",
       "      <td>1.000000e+00</td>\n",
       "      <td>0.026100</td>\n",
       "      <td>0.912000</td>\n",
       "      <td>0.000000</td>\n",
       "    </tr>\n",
       "    <tr>\n",
       "      <th>25%</th>\n",
       "      <td>59.250000</td>\n",
       "      <td>4.197385e+05</td>\n",
       "      <td>4.152845e+05</td>\n",
       "      <td>4.046760e+05</td>\n",
       "      <td>3.931490e+05</td>\n",
       "      <td>3.272420e+05</td>\n",
       "      <td>2.641158e+05</td>\n",
       "      <td>2.296142e+05</td>\n",
       "      <td>1.559970e+05</td>\n",
       "      <td>2.650000e+03</td>\n",
       "      <td>38.417875</td>\n",
       "      <td>1.001775</td>\n",
       "      <td>0.010000</td>\n",
       "    </tr>\n",
       "    <tr>\n",
       "      <th>50%</th>\n",
       "      <td>117.500000</td>\n",
       "      <td>5.559944e+06</td>\n",
       "      <td>5.493074e+06</td>\n",
       "      <td>5.307400e+06</td>\n",
       "      <td>4.942770e+06</td>\n",
       "      <td>4.292907e+06</td>\n",
       "      <td>3.825410e+06</td>\n",
       "      <td>3.141146e+06</td>\n",
       "      <td>2.604830e+06</td>\n",
       "      <td>8.119950e+04</td>\n",
       "      <td>95.346750</td>\n",
       "      <td>1.007900</td>\n",
       "      <td>0.070000</td>\n",
       "    </tr>\n",
       "    <tr>\n",
       "      <th>75%</th>\n",
       "      <td>175.750000</td>\n",
       "      <td>2.247650e+07</td>\n",
       "      <td>2.144798e+07</td>\n",
       "      <td>1.973085e+07</td>\n",
       "      <td>1.915957e+07</td>\n",
       "      <td>1.576230e+07</td>\n",
       "      <td>1.186923e+07</td>\n",
       "      <td>9.826054e+06</td>\n",
       "      <td>8.817329e+06</td>\n",
       "      <td>4.304258e+05</td>\n",
       "      <td>238.933250</td>\n",
       "      <td>1.016950</td>\n",
       "      <td>0.280000</td>\n",
       "    </tr>\n",
       "    <tr>\n",
       "      <th>max</th>\n",
       "      <td>234.000000</td>\n",
       "      <td>1.425887e+09</td>\n",
       "      <td>1.424930e+09</td>\n",
       "      <td>1.393715e+09</td>\n",
       "      <td>1.348191e+09</td>\n",
       "      <td>1.264099e+09</td>\n",
       "      <td>1.153704e+09</td>\n",
       "      <td>9.823725e+08</td>\n",
       "      <td>8.225344e+08</td>\n",
       "      <td>1.709824e+07</td>\n",
       "      <td>23172.266700</td>\n",
       "      <td>1.069100</td>\n",
       "      <td>17.880000</td>\n",
       "    </tr>\n",
       "  </tbody>\n",
       "</table>\n",
       "</div>"
      ],
      "text/plain": [
       "             Rank  2022 Population  2020 Population  2015 Population  \\\n",
       "count  234.000000     2.340000e+02     2.340000e+02     2.340000e+02   \n",
       "mean   117.500000     3.407441e+07     3.350107e+07     3.172996e+07   \n",
       "std     67.694165     1.367664e+08     1.355899e+08     1.304050e+08   \n",
       "min      1.000000     5.100000e+02     5.200000e+02     5.640000e+02   \n",
       "25%     59.250000     4.197385e+05     4.152845e+05     4.046760e+05   \n",
       "50%    117.500000     5.559944e+06     5.493074e+06     5.307400e+06   \n",
       "75%    175.750000     2.247650e+07     2.144798e+07     1.973085e+07   \n",
       "max    234.000000     1.425887e+09     1.424930e+09     1.393715e+09   \n",
       "\n",
       "       2010 Population  2000 Population  1990 Population  1980 Population  \\\n",
       "count     2.340000e+02     2.340000e+02     2.340000e+02     2.340000e+02   \n",
       "mean      2.984524e+07     2.626947e+07     2.271022e+07     1.898462e+07   \n",
       "std       1.242185e+08     1.116982e+08     9.783217e+07     8.178519e+07   \n",
       "min       5.960000e+02     6.510000e+02     7.000000e+02     7.330000e+02   \n",
       "25%       3.931490e+05     3.272420e+05     2.641158e+05     2.296142e+05   \n",
       "50%       4.942770e+06     4.292907e+06     3.825410e+06     3.141146e+06   \n",
       "75%       1.915957e+07     1.576230e+07     1.186923e+07     9.826054e+06   \n",
       "max       1.348191e+09     1.264099e+09     1.153704e+09     9.823725e+08   \n",
       "\n",
       "       1970 Population    Area (km²)  Density (per km²)  Growth Rate  \\\n",
       "count     2.340000e+02  2.340000e+02         234.000000   234.000000   \n",
       "mean      1.578691e+07  5.814494e+05         452.127044     1.009577   \n",
       "std       6.779509e+07  1.761841e+06        2066.121904     0.013385   \n",
       "min       7.520000e+02  1.000000e+00           0.026100     0.912000   \n",
       "25%       1.559970e+05  2.650000e+03          38.417875     1.001775   \n",
       "50%       2.604830e+06  8.119950e+04          95.346750     1.007900   \n",
       "75%       8.817329e+06  4.304258e+05         238.933250     1.016950   \n",
       "max       8.225344e+08  1.709824e+07       23172.266700     1.069100   \n",
       "\n",
       "       World Population Percentage  \n",
       "count                   234.000000  \n",
       "mean                      0.427051  \n",
       "std                       1.714977  \n",
       "min                       0.000000  \n",
       "25%                       0.010000  \n",
       "50%                       0.070000  \n",
       "75%                       0.280000  \n",
       "max                      17.880000  "
      ]
     },
     "execution_count": 33,
     "metadata": {},
     "output_type": "execute_result"
    }
   ],
   "source": [
    "df.describe()"
   ]
  },
  {
   "cell_type": "code",
   "execution_count": 35,
   "id": "f217843a",
   "metadata": {},
   "outputs": [
    {
     "name": "stderr",
     "output_type": "stream",
     "text": [
      "C:\\Users\\PC\\AppData\\Local\\Temp\\ipykernel_9776\\3698961737.py:1: FutureWarning: Dropping of nuisance columns in DataFrame reductions (with 'numeric_only=None') is deprecated; in a future version this will raise TypeError.  Select only valid columns before calling the reduction.\n",
      "  df.mean()\n"
     ]
    },
    {
     "data": {
      "text/plain": [
       "Rank                           1.175000e+02\n",
       "2022 Population                3.407441e+07\n",
       "2020 Population                3.350107e+07\n",
       "2015 Population                3.172996e+07\n",
       "2010 Population                2.984524e+07\n",
       "2000 Population                2.626947e+07\n",
       "1990 Population                2.271022e+07\n",
       "1980 Population                1.898462e+07\n",
       "1970 Population                1.578691e+07\n",
       "Area (km²)                     5.814494e+05\n",
       "Density (per km²)              4.521270e+02\n",
       "Growth Rate                    1.009577e+00\n",
       "World Population Percentage    4.270513e-01\n",
       "dtype: float64"
      ]
     },
     "execution_count": 35,
     "metadata": {},
     "output_type": "execute_result"
    }
   ],
   "source": [
    "df.mean()"
   ]
  },
  {
   "cell_type": "code",
   "execution_count": 36,
   "id": "bec05f34",
   "metadata": {},
   "outputs": [
    {
     "data": {
      "text/plain": [
       "34074414.70940171"
      ]
     },
     "execution_count": 36,
     "metadata": {},
     "output_type": "execute_result"
    }
   ],
   "source": [
    "df[\"2022 Population\"].mean()"
   ]
  },
  {
   "cell_type": "code",
   "execution_count": 37,
   "id": "2d3090ed",
   "metadata": {},
   "outputs": [
    {
     "data": {
      "text/plain": [
       "15786908.807692308"
      ]
     },
     "execution_count": 37,
     "metadata": {},
     "output_type": "execute_result"
    }
   ],
   "source": [
    "df[\"1970 Population\"].mean()"
   ]
  },
  {
   "cell_type": "code",
   "execution_count": 38,
   "id": "4f805daf",
   "metadata": {},
   "outputs": [
    {
     "data": {
      "text/plain": [
       "581449.3846153846"
      ]
     },
     "execution_count": 38,
     "metadata": {},
     "output_type": "execute_result"
    }
   ],
   "source": [
    "df[\"Area (km²)\"].mean()"
   ]
  },
  {
   "cell_type": "code",
   "execution_count": 39,
   "id": "6e9474c8",
   "metadata": {},
   "outputs": [
    {
     "data": {
      "text/plain": [
       "0.4270512820512822"
      ]
     },
     "execution_count": 39,
     "metadata": {},
     "output_type": "execute_result"
    }
   ],
   "source": [
    "df[\"World Population Percentage\"].mean()"
   ]
  },
  {
   "cell_type": "code",
   "execution_count": 40,
   "id": "bc7232f0",
   "metadata": {},
   "outputs": [
    {
     "data": {
      "text/html": [
       "<div>\n",
       "<style scoped>\n",
       "    .dataframe tbody tr th:only-of-type {\n",
       "        vertical-align: middle;\n",
       "    }\n",
       "\n",
       "    .dataframe tbody tr th {\n",
       "        vertical-align: top;\n",
       "    }\n",
       "\n",
       "    .dataframe thead th {\n",
       "        text-align: right;\n",
       "    }\n",
       "</style>\n",
       "<table border=\"1\" class=\"dataframe\">\n",
       "  <thead>\n",
       "    <tr style=\"text-align: right;\">\n",
       "      <th></th>\n",
       "      <th>Rank</th>\n",
       "      <th>CCA3</th>\n",
       "      <th>Country</th>\n",
       "      <th>Capital</th>\n",
       "      <th>Continent</th>\n",
       "      <th>2022 Population</th>\n",
       "      <th>2020 Population</th>\n",
       "      <th>2015 Population</th>\n",
       "      <th>2010 Population</th>\n",
       "      <th>2000 Population</th>\n",
       "      <th>1990 Population</th>\n",
       "      <th>1980 Population</th>\n",
       "      <th>1970 Population</th>\n",
       "      <th>Area (km²)</th>\n",
       "      <th>Density (per km²)</th>\n",
       "      <th>Growth Rate</th>\n",
       "      <th>World Population Percentage</th>\n",
       "    </tr>\n",
       "  </thead>\n",
       "  <tbody>\n",
       "    <tr>\n",
       "      <th>0</th>\n",
       "      <td>1</td>\n",
       "      <td>ABW</td>\n",
       "      <td>Afghanistan</td>\n",
       "      <td>Abu Dhabi</td>\n",
       "      <td>Africa</td>\n",
       "      <td>510</td>\n",
       "      <td>520</td>\n",
       "      <td>564</td>\n",
       "      <td>596</td>\n",
       "      <td>651</td>\n",
       "      <td>700</td>\n",
       "      <td>733</td>\n",
       "      <td>752</td>\n",
       "      <td>21.0</td>\n",
       "      <td>0.0261</td>\n",
       "      <td>1.0038</td>\n",
       "      <td>0.0</td>\n",
       "    </tr>\n",
       "    <tr>\n",
       "      <th>1</th>\n",
       "      <td>2</td>\n",
       "      <td>AFG</td>\n",
       "      <td>Albania</td>\n",
       "      <td>Abuja</td>\n",
       "      <td>NaN</td>\n",
       "      <td>1871</td>\n",
       "      <td>1827</td>\n",
       "      <td>1454</td>\n",
       "      <td>1367</td>\n",
       "      <td>1666</td>\n",
       "      <td>1669</td>\n",
       "      <td>1647</td>\n",
       "      <td>1714</td>\n",
       "      <td>NaN</td>\n",
       "      <td>0.3105</td>\n",
       "      <td>NaN</td>\n",
       "      <td>NaN</td>\n",
       "    </tr>\n",
       "    <tr>\n",
       "      <th>2</th>\n",
       "      <td>3</td>\n",
       "      <td>AGO</td>\n",
       "      <td>Algeria</td>\n",
       "      <td>Accra</td>\n",
       "      <td>NaN</td>\n",
       "      <td>1934</td>\n",
       "      <td>1942</td>\n",
       "      <td>1847</td>\n",
       "      <td>1812</td>\n",
       "      <td>2074</td>\n",
       "      <td>2332</td>\n",
       "      <td>2240</td>\n",
       "      <td>2274</td>\n",
       "      <td>NaN</td>\n",
       "      <td>2.1654</td>\n",
       "      <td>NaN</td>\n",
       "      <td>NaN</td>\n",
       "    </tr>\n",
       "    <tr>\n",
       "      <th>3</th>\n",
       "      <td>4</td>\n",
       "      <td>AIA</td>\n",
       "      <td>American Samoa</td>\n",
       "      <td>Addis Ababa</td>\n",
       "      <td>NaN</td>\n",
       "      <td>3780</td>\n",
       "      <td>3747</td>\n",
       "      <td>3408</td>\n",
       "      <td>3187</td>\n",
       "      <td>3080</td>\n",
       "      <td>2533</td>\n",
       "      <td>2983</td>\n",
       "      <td>2417</td>\n",
       "      <td>NaN</td>\n",
       "      <td>2.1727</td>\n",
       "      <td>NaN</td>\n",
       "      <td>NaN</td>\n",
       "    </tr>\n",
       "    <tr>\n",
       "      <th>4</th>\n",
       "      <td>5</td>\n",
       "      <td>ALB</td>\n",
       "      <td>Andorra</td>\n",
       "      <td>Algiers</td>\n",
       "      <td>NaN</td>\n",
       "      <td>4390</td>\n",
       "      <td>4500</td>\n",
       "      <td>5059</td>\n",
       "      <td>4938</td>\n",
       "      <td>5138</td>\n",
       "      <td>5168</td>\n",
       "      <td>3637</td>\n",
       "      <td>5185</td>\n",
       "      <td>NaN</td>\n",
       "      <td>3.1092</td>\n",
       "      <td>NaN</td>\n",
       "      <td>NaN</td>\n",
       "    </tr>\n",
       "    <tr>\n",
       "      <th>...</th>\n",
       "      <td>...</td>\n",
       "      <td>...</td>\n",
       "      <td>...</td>\n",
       "      <td>...</td>\n",
       "      <td>...</td>\n",
       "      <td>...</td>\n",
       "      <td>...</td>\n",
       "      <td>...</td>\n",
       "      <td>...</td>\n",
       "      <td>...</td>\n",
       "      <td>...</td>\n",
       "      <td>...</td>\n",
       "      <td>...</td>\n",
       "      <td>...</td>\n",
       "      <td>...</td>\n",
       "      <td>...</td>\n",
       "      <td>...</td>\n",
       "    </tr>\n",
       "    <tr>\n",
       "      <th>229</th>\n",
       "      <td>230</td>\n",
       "      <td>WSM</td>\n",
       "      <td>Wallis and Futuna</td>\n",
       "      <td>Yamoussoukro</td>\n",
       "      <td>NaN</td>\n",
       "      <td>235824862</td>\n",
       "      <td>227196741</td>\n",
       "      <td>210969298</td>\n",
       "      <td>196353492</td>\n",
       "      <td>175873720</td>\n",
       "      <td>150706446</td>\n",
       "      <td>138257420</td>\n",
       "      <td>115228394</td>\n",
       "      <td>NaN</td>\n",
       "      <td>5441.5000</td>\n",
       "      <td>NaN</td>\n",
       "      <td>NaN</td>\n",
       "    </tr>\n",
       "    <tr>\n",
       "      <th>230</th>\n",
       "      <td>231</td>\n",
       "      <td>YEM</td>\n",
       "      <td>Western Sahara</td>\n",
       "      <td>Yaounde</td>\n",
       "      <td>NaN</td>\n",
       "      <td>275501339</td>\n",
       "      <td>271857970</td>\n",
       "      <td>259091970</td>\n",
       "      <td>244016173</td>\n",
       "      <td>214072421</td>\n",
       "      <td>182159874</td>\n",
       "      <td>148177096</td>\n",
       "      <td>130093010</td>\n",
       "      <td>NaN</td>\n",
       "      <td>6783.3922</td>\n",
       "      <td>NaN</td>\n",
       "      <td>NaN</td>\n",
       "    </tr>\n",
       "    <tr>\n",
       "      <th>231</th>\n",
       "      <td>232</td>\n",
       "      <td>ZAF</td>\n",
       "      <td>Yemen</td>\n",
       "      <td>Yaren</td>\n",
       "      <td>NaN</td>\n",
       "      <td>338289857</td>\n",
       "      <td>335942003</td>\n",
       "      <td>324607776</td>\n",
       "      <td>311182845</td>\n",
       "      <td>282398554</td>\n",
       "      <td>248083732</td>\n",
       "      <td>223140018</td>\n",
       "      <td>200328340</td>\n",
       "      <td>NaN</td>\n",
       "      <td>8416.4634</td>\n",
       "      <td>NaN</td>\n",
       "      <td>NaN</td>\n",
       "    </tr>\n",
       "    <tr>\n",
       "      <th>232</th>\n",
       "      <td>233</td>\n",
       "      <td>ZMB</td>\n",
       "      <td>Zambia</td>\n",
       "      <td>Yerevan</td>\n",
       "      <td>NaN</td>\n",
       "      <td>1417173173</td>\n",
       "      <td>1396387127</td>\n",
       "      <td>1322866505</td>\n",
       "      <td>1240613620</td>\n",
       "      <td>1059633675</td>\n",
       "      <td>870452165</td>\n",
       "      <td>696828385</td>\n",
       "      <td>557501301</td>\n",
       "      <td>NaN</td>\n",
       "      <td>18234.5000</td>\n",
       "      <td>NaN</td>\n",
       "      <td>NaN</td>\n",
       "    </tr>\n",
       "    <tr>\n",
       "      <th>233</th>\n",
       "      <td>234</td>\n",
       "      <td>ZWE</td>\n",
       "      <td>Zimbabwe</td>\n",
       "      <td>Zagreb</td>\n",
       "      <td>NaN</td>\n",
       "      <td>1425887337</td>\n",
       "      <td>1424929781</td>\n",
       "      <td>1393715448</td>\n",
       "      <td>1348191368</td>\n",
       "      <td>1264099069</td>\n",
       "      <td>1153704252</td>\n",
       "      <td>982372466</td>\n",
       "      <td>822534450</td>\n",
       "      <td>NaN</td>\n",
       "      <td>23172.2667</td>\n",
       "      <td>NaN</td>\n",
       "      <td>NaN</td>\n",
       "    </tr>\n",
       "  </tbody>\n",
       "</table>\n",
       "<p>234 rows × 17 columns</p>\n",
       "</div>"
      ],
      "text/plain": [
       "     Rank CCA3            Country       Capital Continent  2022 Population  \\\n",
       "0       1  ABW        Afghanistan     Abu Dhabi    Africa              510   \n",
       "1       2  AFG            Albania         Abuja       NaN             1871   \n",
       "2       3  AGO            Algeria         Accra       NaN             1934   \n",
       "3       4  AIA     American Samoa   Addis Ababa       NaN             3780   \n",
       "4       5  ALB            Andorra       Algiers       NaN             4390   \n",
       "..    ...  ...                ...           ...       ...              ...   \n",
       "229   230  WSM  Wallis and Futuna  Yamoussoukro       NaN        235824862   \n",
       "230   231  YEM     Western Sahara       Yaounde       NaN        275501339   \n",
       "231   232  ZAF              Yemen         Yaren       NaN        338289857   \n",
       "232   233  ZMB             Zambia       Yerevan       NaN       1417173173   \n",
       "233   234  ZWE           Zimbabwe        Zagreb       NaN       1425887337   \n",
       "\n",
       "     2020 Population  2015 Population  2010 Population  2000 Population  \\\n",
       "0                520              564              596              651   \n",
       "1               1827             1454             1367             1666   \n",
       "2               1942             1847             1812             2074   \n",
       "3               3747             3408             3187             3080   \n",
       "4               4500             5059             4938             5138   \n",
       "..               ...              ...              ...              ...   \n",
       "229        227196741        210969298        196353492        175873720   \n",
       "230        271857970        259091970        244016173        214072421   \n",
       "231        335942003        324607776        311182845        282398554   \n",
       "232       1396387127       1322866505       1240613620       1059633675   \n",
       "233       1424929781       1393715448       1348191368       1264099069   \n",
       "\n",
       "     1990 Population  1980 Population  1970 Population  Area (km²)  \\\n",
       "0                700              733              752        21.0   \n",
       "1               1669             1647             1714         NaN   \n",
       "2               2332             2240             2274         NaN   \n",
       "3               2533             2983             2417         NaN   \n",
       "4               5168             3637             5185         NaN   \n",
       "..               ...              ...              ...         ...   \n",
       "229        150706446        138257420        115228394         NaN   \n",
       "230        182159874        148177096        130093010         NaN   \n",
       "231        248083732        223140018        200328340         NaN   \n",
       "232        870452165        696828385        557501301         NaN   \n",
       "233       1153704252        982372466        822534450         NaN   \n",
       "\n",
       "     Density (per km²)  Growth Rate  World Population Percentage  \n",
       "0               0.0261       1.0038                          0.0  \n",
       "1               0.3105          NaN                          NaN  \n",
       "2               2.1654          NaN                          NaN  \n",
       "3               2.1727          NaN                          NaN  \n",
       "4               3.1092          NaN                          NaN  \n",
       "..                 ...          ...                          ...  \n",
       "229          5441.5000          NaN                          NaN  \n",
       "230          6783.3922          NaN                          NaN  \n",
       "231          8416.4634          NaN                          NaN  \n",
       "232         18234.5000          NaN                          NaN  \n",
       "233         23172.2667          NaN                          NaN  \n",
       "\n",
       "[234 rows x 17 columns]"
      ]
     },
     "execution_count": 40,
     "metadata": {},
     "output_type": "execute_result"
    }
   ],
   "source": [
    "df.mode()"
   ]
  },
  {
   "cell_type": "code",
   "execution_count": 41,
   "id": "1262c247",
   "metadata": {},
   "outputs": [
    {
     "data": {
      "text/plain": [
       "0             510\n",
       "1            1871\n",
       "2            1934\n",
       "3            3780\n",
       "4            4390\n",
       "          ...    \n",
       "229     235824862\n",
       "230     275501339\n",
       "231     338289857\n",
       "232    1417173173\n",
       "233    1425887337\n",
       "Name: 2022 Population, Length: 234, dtype: int64"
      ]
     },
     "execution_count": 41,
     "metadata": {},
     "output_type": "execute_result"
    }
   ],
   "source": [
    "df[\"2022 Population\"].mode()"
   ]
  },
  {
   "cell_type": "code",
   "execution_count": 42,
   "id": "6f6f1a15",
   "metadata": {},
   "outputs": [
    {
     "data": {
      "text/plain": [
       "0            Afghanistan\n",
       "1                Albania\n",
       "2                Algeria\n",
       "3         American Samoa\n",
       "4                Andorra\n",
       "             ...        \n",
       "229    Wallis and Futuna\n",
       "230       Western Sahara\n",
       "231                Yemen\n",
       "232               Zambia\n",
       "233             Zimbabwe\n",
       "Name: Country, Length: 234, dtype: object"
      ]
     },
     "execution_count": 42,
     "metadata": {},
     "output_type": "execute_result"
    }
   ],
   "source": [
    "df[\"Country\"].mode()"
   ]
  },
  {
   "cell_type": "code",
   "execution_count": 44,
   "id": "06c096fb",
   "metadata": {},
   "outputs": [
    {
     "name": "stderr",
     "output_type": "stream",
     "text": [
      "C:\\Users\\PC\\AppData\\Local\\Temp\\ipykernel_9776\\530051474.py:1: FutureWarning: Dropping of nuisance columns in DataFrame reductions (with 'numeric_only=None') is deprecated; in a future version this will raise TypeError.  Select only valid columns before calling the reduction.\n",
      "  df.median()\n"
     ]
    },
    {
     "data": {
      "text/plain": [
       "Rank                           1.175000e+02\n",
       "2022 Population                5.559944e+06\n",
       "2020 Population                5.493074e+06\n",
       "2015 Population                5.307400e+06\n",
       "2010 Population                4.942770e+06\n",
       "2000 Population                4.292907e+06\n",
       "1990 Population                3.825410e+06\n",
       "1980 Population                3.141146e+06\n",
       "1970 Population                2.604830e+06\n",
       "Area (km²)                     8.119950e+04\n",
       "Density (per km²)              9.534675e+01\n",
       "Growth Rate                    1.007900e+00\n",
       "World Population Percentage    7.000000e-02\n",
       "dtype: float64"
      ]
     },
     "execution_count": 44,
     "metadata": {},
     "output_type": "execute_result"
    }
   ],
   "source": [
    "df.median()"
   ]
  },
  {
   "cell_type": "code",
   "execution_count": 45,
   "id": "a96371fe",
   "metadata": {},
   "outputs": [
    {
     "data": {
      "text/plain": [
       "5559944.5"
      ]
     },
     "execution_count": 45,
     "metadata": {},
     "output_type": "execute_result"
    }
   ],
   "source": [
    "df[\"2022 Population\"].median()"
   ]
  },
  {
   "cell_type": "code",
   "execution_count": 46,
   "id": "3c9e1e68",
   "metadata": {},
   "outputs": [
    {
     "name": "stderr",
     "output_type": "stream",
     "text": [
      "C:\\Users\\PC\\AppData\\Local\\Temp\\ipykernel_9776\\2857106541.py:2: FutureWarning: Dropping of nuisance columns in DataFrame reductions (with 'numeric_only=None') is deprecated; in a future version this will raise TypeError.  Select only valid columns before calling the reduction.\n",
      "  df.std()\n"
     ]
    },
    {
     "data": {
      "text/plain": [
       "Rank                           6.769417e+01\n",
       "2022 Population                1.367664e+08\n",
       "2020 Population                1.355899e+08\n",
       "2015 Population                1.304050e+08\n",
       "2010 Population                1.242185e+08\n",
       "2000 Population                1.116982e+08\n",
       "1990 Population                9.783217e+07\n",
       "1980 Population                8.178519e+07\n",
       "1970 Population                6.779509e+07\n",
       "Area (km²)                     1.761841e+06\n",
       "Density (per km²)              2.066122e+03\n",
       "Growth Rate                    1.338498e-02\n",
       "World Population Percentage    1.714977e+00\n",
       "dtype: float64"
      ]
     },
     "execution_count": 46,
     "metadata": {},
     "output_type": "execute_result"
    }
   ],
   "source": [
    "#standard deviation\n",
    "df.std()"
   ]
  },
  {
   "cell_type": "code",
   "execution_count": 47,
   "id": "0334eba9",
   "metadata": {},
   "outputs": [
    {
     "data": {
      "text/plain": [
       "136766424.8047628"
      ]
     },
     "execution_count": 47,
     "metadata": {},
     "output_type": "execute_result"
    }
   ],
   "source": [
    "df[\"2022 Population\"].std()"
   ]
  },
  {
   "cell_type": "code",
   "execution_count": 48,
   "id": "f277ae6a",
   "metadata": {},
   "outputs": [
    {
     "data": {
      "text/plain": [
       "510"
      ]
     },
     "execution_count": 48,
     "metadata": {},
     "output_type": "execute_result"
    }
   ],
   "source": [
    "#minimum\n",
    "df[\"2022 Population\"].min()"
   ]
  },
  {
   "cell_type": "code",
   "execution_count": 49,
   "id": "dcc6255b",
   "metadata": {},
   "outputs": [
    {
     "data": {
      "text/plain": [
       "822534450"
      ]
     },
     "execution_count": 49,
     "metadata": {},
     "output_type": "execute_result"
    }
   ],
   "source": [
    "#maximum\n",
    "df[\"1970 Population\"].max()"
   ]
  },
  {
   "cell_type": "code",
   "execution_count": 52,
   "id": "9457c386",
   "metadata": {},
   "outputs": [
    {
     "data": {
      "text/plain": [
       "0      10752971\n",
       "1       2324731\n",
       "2      13795915\n",
       "3         27075\n",
       "4         19860\n",
       "         ...   \n",
       "229        9377\n",
       "230       76371\n",
       "231     6843607\n",
       "232     4281671\n",
       "233     5202918\n",
       "Name: 1970 Population, Length: 234, dtype: int64"
      ]
     },
     "execution_count": 52,
     "metadata": {},
     "output_type": "execute_result"
    }
   ],
   "source": [
    "df[\"1970 Population\"]"
   ]
  },
  {
   "cell_type": "markdown",
   "id": "8585f898",
   "metadata": {},
   "source": [
    "#correlation"
   ]
  },
  {
   "cell_type": "code",
   "execution_count": 53,
   "id": "f5b627bc",
   "metadata": {},
   "outputs": [
    {
     "data": {
      "text/html": [
       "<div>\n",
       "<style scoped>\n",
       "    .dataframe tbody tr th:only-of-type {\n",
       "        vertical-align: middle;\n",
       "    }\n",
       "\n",
       "    .dataframe tbody tr th {\n",
       "        vertical-align: top;\n",
       "    }\n",
       "\n",
       "    .dataframe thead th {\n",
       "        text-align: right;\n",
       "    }\n",
       "</style>\n",
       "<table border=\"1\" class=\"dataframe\">\n",
       "  <thead>\n",
       "    <tr style=\"text-align: right;\">\n",
       "      <th></th>\n",
       "      <th>Rank</th>\n",
       "      <th>2022 Population</th>\n",
       "      <th>2020 Population</th>\n",
       "      <th>2015 Population</th>\n",
       "      <th>2010 Population</th>\n",
       "      <th>2000 Population</th>\n",
       "      <th>1990 Population</th>\n",
       "      <th>1980 Population</th>\n",
       "      <th>1970 Population</th>\n",
       "      <th>Area (km²)</th>\n",
       "      <th>Density (per km²)</th>\n",
       "      <th>Growth Rate</th>\n",
       "      <th>World Population Percentage</th>\n",
       "    </tr>\n",
       "  </thead>\n",
       "  <tbody>\n",
       "    <tr>\n",
       "      <th>Rank</th>\n",
       "      <td>1.000000</td>\n",
       "      <td>-0.358361</td>\n",
       "      <td>-0.355854</td>\n",
       "      <td>-0.351222</td>\n",
       "      <td>-0.347461</td>\n",
       "      <td>-0.341057</td>\n",
       "      <td>-0.336152</td>\n",
       "      <td>-0.335246</td>\n",
       "      <td>-0.335379</td>\n",
       "      <td>-0.383774</td>\n",
       "      <td>0.129436</td>\n",
       "      <td>-0.224561</td>\n",
       "      <td>-0.358464</td>\n",
       "    </tr>\n",
       "    <tr>\n",
       "      <th>2022 Population</th>\n",
       "      <td>-0.358361</td>\n",
       "      <td>1.000000</td>\n",
       "      <td>0.999946</td>\n",
       "      <td>0.999490</td>\n",
       "      <td>0.998629</td>\n",
       "      <td>0.994605</td>\n",
       "      <td>0.987228</td>\n",
       "      <td>0.980285</td>\n",
       "      <td>0.973162</td>\n",
       "      <td>0.453411</td>\n",
       "      <td>-0.027618</td>\n",
       "      <td>-0.020863</td>\n",
       "      <td>0.999999</td>\n",
       "    </tr>\n",
       "    <tr>\n",
       "      <th>2020 Population</th>\n",
       "      <td>-0.355854</td>\n",
       "      <td>0.999946</td>\n",
       "      <td>1.000000</td>\n",
       "      <td>0.999763</td>\n",
       "      <td>0.999105</td>\n",
       "      <td>0.995583</td>\n",
       "      <td>0.988724</td>\n",
       "      <td>0.982121</td>\n",
       "      <td>0.975254</td>\n",
       "      <td>0.454993</td>\n",
       "      <td>-0.027358</td>\n",
       "      <td>-0.025116</td>\n",
       "      <td>0.999944</td>\n",
       "    </tr>\n",
       "    <tr>\n",
       "      <th>2015 Population</th>\n",
       "      <td>-0.351222</td>\n",
       "      <td>0.999490</td>\n",
       "      <td>0.999763</td>\n",
       "      <td>1.000000</td>\n",
       "      <td>0.999783</td>\n",
       "      <td>0.997340</td>\n",
       "      <td>0.991594</td>\n",
       "      <td>0.985724</td>\n",
       "      <td>0.979414</td>\n",
       "      <td>0.458240</td>\n",
       "      <td>-0.026857</td>\n",
       "      <td>-0.032154</td>\n",
       "      <td>0.999487</td>\n",
       "    </tr>\n",
       "    <tr>\n",
       "      <th>2010 Population</th>\n",
       "      <td>-0.347461</td>\n",
       "      <td>0.998629</td>\n",
       "      <td>0.999105</td>\n",
       "      <td>0.999783</td>\n",
       "      <td>1.000000</td>\n",
       "      <td>0.998593</td>\n",
       "      <td>0.993929</td>\n",
       "      <td>0.988786</td>\n",
       "      <td>0.983042</td>\n",
       "      <td>0.461936</td>\n",
       "      <td>-0.026505</td>\n",
       "      <td>-0.037983</td>\n",
       "      <td>0.998626</td>\n",
       "    </tr>\n",
       "    <tr>\n",
       "      <th>2000 Population</th>\n",
       "      <td>-0.341057</td>\n",
       "      <td>0.994605</td>\n",
       "      <td>0.995583</td>\n",
       "      <td>0.997340</td>\n",
       "      <td>0.998593</td>\n",
       "      <td>1.000000</td>\n",
       "      <td>0.998336</td>\n",
       "      <td>0.995160</td>\n",
       "      <td>0.990956</td>\n",
       "      <td>0.473933</td>\n",
       "      <td>-0.026139</td>\n",
       "      <td>-0.050515</td>\n",
       "      <td>0.994598</td>\n",
       "    </tr>\n",
       "    <tr>\n",
       "      <th>1990 Population</th>\n",
       "      <td>-0.336152</td>\n",
       "      <td>0.987228</td>\n",
       "      <td>0.988724</td>\n",
       "      <td>0.991594</td>\n",
       "      <td>0.993929</td>\n",
       "      <td>0.998336</td>\n",
       "      <td>1.000000</td>\n",
       "      <td>0.999042</td>\n",
       "      <td>0.996602</td>\n",
       "      <td>0.486764</td>\n",
       "      <td>-0.026224</td>\n",
       "      <td>-0.062397</td>\n",
       "      <td>0.987218</td>\n",
       "    </tr>\n",
       "    <tr>\n",
       "      <th>1980 Population</th>\n",
       "      <td>-0.335246</td>\n",
       "      <td>0.980285</td>\n",
       "      <td>0.982121</td>\n",
       "      <td>0.985724</td>\n",
       "      <td>0.988786</td>\n",
       "      <td>0.995160</td>\n",
       "      <td>0.999042</td>\n",
       "      <td>1.000000</td>\n",
       "      <td>0.999194</td>\n",
       "      <td>0.498166</td>\n",
       "      <td>-0.026587</td>\n",
       "      <td>-0.072349</td>\n",
       "      <td>0.980273</td>\n",
       "    </tr>\n",
       "    <tr>\n",
       "      <th>1970 Population</th>\n",
       "      <td>-0.335379</td>\n",
       "      <td>0.973162</td>\n",
       "      <td>0.975254</td>\n",
       "      <td>0.979414</td>\n",
       "      <td>0.983042</td>\n",
       "      <td>0.990956</td>\n",
       "      <td>0.996602</td>\n",
       "      <td>0.999194</td>\n",
       "      <td>1.000000</td>\n",
       "      <td>0.509940</td>\n",
       "      <td>-0.026881</td>\n",
       "      <td>-0.081313</td>\n",
       "      <td>0.973150</td>\n",
       "    </tr>\n",
       "    <tr>\n",
       "      <th>Area (km²)</th>\n",
       "      <td>-0.383774</td>\n",
       "      <td>0.453411</td>\n",
       "      <td>0.454993</td>\n",
       "      <td>0.458240</td>\n",
       "      <td>0.461936</td>\n",
       "      <td>0.473933</td>\n",
       "      <td>0.486764</td>\n",
       "      <td>0.498166</td>\n",
       "      <td>0.509940</td>\n",
       "      <td>1.000000</td>\n",
       "      <td>-0.063128</td>\n",
       "      <td>-0.013970</td>\n",
       "      <td>0.453284</td>\n",
       "    </tr>\n",
       "    <tr>\n",
       "      <th>Density (per km²)</th>\n",
       "      <td>0.129436</td>\n",
       "      <td>-0.027618</td>\n",
       "      <td>-0.027358</td>\n",
       "      <td>-0.026857</td>\n",
       "      <td>-0.026505</td>\n",
       "      <td>-0.026139</td>\n",
       "      <td>-0.026224</td>\n",
       "      <td>-0.026587</td>\n",
       "      <td>-0.026881</td>\n",
       "      <td>-0.063128</td>\n",
       "      <td>1.000000</td>\n",
       "      <td>-0.069753</td>\n",
       "      <td>-0.027646</td>\n",
       "    </tr>\n",
       "    <tr>\n",
       "      <th>Growth Rate</th>\n",
       "      <td>-0.224561</td>\n",
       "      <td>-0.020863</td>\n",
       "      <td>-0.025116</td>\n",
       "      <td>-0.032154</td>\n",
       "      <td>-0.037983</td>\n",
       "      <td>-0.050515</td>\n",
       "      <td>-0.062397</td>\n",
       "      <td>-0.072349</td>\n",
       "      <td>-0.081313</td>\n",
       "      <td>-0.013970</td>\n",
       "      <td>-0.069753</td>\n",
       "      <td>1.000000</td>\n",
       "      <td>-0.020930</td>\n",
       "    </tr>\n",
       "    <tr>\n",
       "      <th>World Population Percentage</th>\n",
       "      <td>-0.358464</td>\n",
       "      <td>0.999999</td>\n",
       "      <td>0.999944</td>\n",
       "      <td>0.999487</td>\n",
       "      <td>0.998626</td>\n",
       "      <td>0.994598</td>\n",
       "      <td>0.987218</td>\n",
       "      <td>0.980273</td>\n",
       "      <td>0.973150</td>\n",
       "      <td>0.453284</td>\n",
       "      <td>-0.027646</td>\n",
       "      <td>-0.020930</td>\n",
       "      <td>1.000000</td>\n",
       "    </tr>\n",
       "  </tbody>\n",
       "</table>\n",
       "</div>"
      ],
      "text/plain": [
       "                                 Rank  2022 Population  2020 Population  \\\n",
       "Rank                         1.000000        -0.358361        -0.355854   \n",
       "2022 Population             -0.358361         1.000000         0.999946   \n",
       "2020 Population             -0.355854         0.999946         1.000000   \n",
       "2015 Population             -0.351222         0.999490         0.999763   \n",
       "2010 Population             -0.347461         0.998629         0.999105   \n",
       "2000 Population             -0.341057         0.994605         0.995583   \n",
       "1990 Population             -0.336152         0.987228         0.988724   \n",
       "1980 Population             -0.335246         0.980285         0.982121   \n",
       "1970 Population             -0.335379         0.973162         0.975254   \n",
       "Area (km²)                  -0.383774         0.453411         0.454993   \n",
       "Density (per km²)            0.129436        -0.027618        -0.027358   \n",
       "Growth Rate                 -0.224561        -0.020863        -0.025116   \n",
       "World Population Percentage -0.358464         0.999999         0.999944   \n",
       "\n",
       "                             2015 Population  2010 Population  \\\n",
       "Rank                               -0.351222        -0.347461   \n",
       "2022 Population                     0.999490         0.998629   \n",
       "2020 Population                     0.999763         0.999105   \n",
       "2015 Population                     1.000000         0.999783   \n",
       "2010 Population                     0.999783         1.000000   \n",
       "2000 Population                     0.997340         0.998593   \n",
       "1990 Population                     0.991594         0.993929   \n",
       "1980 Population                     0.985724         0.988786   \n",
       "1970 Population                     0.979414         0.983042   \n",
       "Area (km²)                          0.458240         0.461936   \n",
       "Density (per km²)                  -0.026857        -0.026505   \n",
       "Growth Rate                        -0.032154        -0.037983   \n",
       "World Population Percentage         0.999487         0.998626   \n",
       "\n",
       "                             2000 Population  1990 Population  \\\n",
       "Rank                               -0.341057        -0.336152   \n",
       "2022 Population                     0.994605         0.987228   \n",
       "2020 Population                     0.995583         0.988724   \n",
       "2015 Population                     0.997340         0.991594   \n",
       "2010 Population                     0.998593         0.993929   \n",
       "2000 Population                     1.000000         0.998336   \n",
       "1990 Population                     0.998336         1.000000   \n",
       "1980 Population                     0.995160         0.999042   \n",
       "1970 Population                     0.990956         0.996602   \n",
       "Area (km²)                          0.473933         0.486764   \n",
       "Density (per km²)                  -0.026139        -0.026224   \n",
       "Growth Rate                        -0.050515        -0.062397   \n",
       "World Population Percentage         0.994598         0.987218   \n",
       "\n",
       "                             1980 Population  1970 Population  Area (km²)  \\\n",
       "Rank                               -0.335246        -0.335379   -0.383774   \n",
       "2022 Population                     0.980285         0.973162    0.453411   \n",
       "2020 Population                     0.982121         0.975254    0.454993   \n",
       "2015 Population                     0.985724         0.979414    0.458240   \n",
       "2010 Population                     0.988786         0.983042    0.461936   \n",
       "2000 Population                     0.995160         0.990956    0.473933   \n",
       "1990 Population                     0.999042         0.996602    0.486764   \n",
       "1980 Population                     1.000000         0.999194    0.498166   \n",
       "1970 Population                     0.999194         1.000000    0.509940   \n",
       "Area (km²)                          0.498166         0.509940    1.000000   \n",
       "Density (per km²)                  -0.026587        -0.026881   -0.063128   \n",
       "Growth Rate                        -0.072349        -0.081313   -0.013970   \n",
       "World Population Percentage         0.980273         0.973150    0.453284   \n",
       "\n",
       "                             Density (per km²)  Growth Rate  \\\n",
       "Rank                                  0.129436    -0.224561   \n",
       "2022 Population                      -0.027618    -0.020863   \n",
       "2020 Population                      -0.027358    -0.025116   \n",
       "2015 Population                      -0.026857    -0.032154   \n",
       "2010 Population                      -0.026505    -0.037983   \n",
       "2000 Population                      -0.026139    -0.050515   \n",
       "1990 Population                      -0.026224    -0.062397   \n",
       "1980 Population                      -0.026587    -0.072349   \n",
       "1970 Population                      -0.026881    -0.081313   \n",
       "Area (km²)                           -0.063128    -0.013970   \n",
       "Density (per km²)                     1.000000    -0.069753   \n",
       "Growth Rate                          -0.069753     1.000000   \n",
       "World Population Percentage          -0.027646    -0.020930   \n",
       "\n",
       "                             World Population Percentage  \n",
       "Rank                                           -0.358464  \n",
       "2022 Population                                 0.999999  \n",
       "2020 Population                                 0.999944  \n",
       "2015 Population                                 0.999487  \n",
       "2010 Population                                 0.998626  \n",
       "2000 Population                                 0.994598  \n",
       "1990 Population                                 0.987218  \n",
       "1980 Population                                 0.980273  \n",
       "1970 Population                                 0.973150  \n",
       "Area (km²)                                      0.453284  \n",
       "Density (per km²)                              -0.027646  \n",
       "Growth Rate                                    -0.020930  \n",
       "World Population Percentage                     1.000000  "
      ]
     },
     "execution_count": 53,
     "metadata": {},
     "output_type": "execute_result"
    }
   ],
   "source": [
    "#1 means that there is a 1 to 1 relationship (a perfect correlation), and for this data set, each time avalue went up in the first column, the other one went up as well.\n",
    "#0.9 is also a good relationship, and if you increase one value, the other will probably increase as well\n",
    "#-0.9 would be just as good relationship as 0.9, but if you increase one value, the other will probably go down.\n",
    "#0.2 means NOT a good relationship, meaning that if one value goes up does not mean that the other will.\n",
    "df.corr()"
   ]
  },
  {
   "cell_type": "markdown",
   "id": "d03df556",
   "metadata": {},
   "source": [
    "#plotting"
   ]
  },
  {
   "cell_type": "code",
   "execution_count": 67,
   "id": "beb0c3fa",
   "metadata": {},
   "outputs": [
    {
     "data": {
      "image/png": "[encoded data removed]",
      "text/plain": [
       "<Figure size 432x288 with 1 Axes>"
      ]
     },
     "metadata": {
      "needs_background": "light"
     },
     "output_type": "display_data"
    }
   ],
   "source": [
    "df.plot()\n",
    "plt.show()"
   ]
  },
  {
   "cell_type": "code",
   "execution_count": 66,
   "id": "b7458360",
   "metadata": {},
   "outputs": [
    {
     "data": {
      "image/png": "[encoded data removed]",
      "text/plain": [
       "<Figure size 432x288 with 1 Axes>"
      ]
     },
     "metadata": {
      "needs_background": "light"
     },
     "output_type": "display_data"
    }
   ],
   "source": [
    "df.plot(kind=\"scatter\", x=\"Area (km²)\", y=\"2022 Population\")\n",
    "plt.show()\n",
    "#shows a densely populated plot\n",
    "#most areas with less areas km have less population"
   ]
  },
  {
   "cell_type": "code",
   "execution_count": 71,
   "id": "441bc84a",
   "metadata": {},
   "outputs": [
    {
     "data": {
      "image/png": "[encoded data removed]",
      "text/plain": [
       "<Figure size 432x288 with 1 Axes>"
      ]
     },
     "metadata": {
      "needs_background": "light"
     },
     "output_type": "display_data"
    }
   ],
   "source": [
    "df.plot(kind=\"hist\", x=\"Area (km²)\", y=\"2022 Population\")\n",
    "plt.show()"
   ]
  },
  {
   "cell_type": "code",
   "execution_count": 72,
   "id": "e9143e95",
   "metadata": {},
   "outputs": [
    {
     "data": {
      "image/png": "[encoded data removed]",
      "text/plain": [
       "<Figure size 432x288 with 1 Axes>"
      ]
     },
     "metadata": {
      "needs_background": "light"
     },
     "output_type": "display_data"
    }
   ],
   "source": [
    "df.plot(kind=\"scatter\", x=\"2020 Population\", y=\"2022 Population\")\n",
    "plt.show()\n",
    "#good correlation"
   ]
  },
  {
   "cell_type": "code",
   "execution_count": 73,
   "id": "9ee63d6b",
   "metadata": {},
   "outputs": [
    {
     "data": {
      "image/png": "[encoded data removed]",
      "text/plain": [
       "<Figure size 432x288 with 1 Axes>"
      ]
     },
     "metadata": {
      "needs_background": "light"
     },
     "output_type": "display_data"
    }
   ],
   "source": [
    "df.plot(kind=\"hist\", x=\"2020 Population\", y=\"2022 Population\")\n",
    "plt.show()"
   ]
  },
  {
   "cell_type": "code",
   "execution_count": 76,
   "id": "1ee586b9",
   "metadata": {},
   "outputs": [
    {
     "data": {
      "image/png": "[encoded data removed]",
      "text/plain": [
       "<Figure size 432x288 with 1 Axes>"
      ]
     },
     "metadata": {
      "needs_background": "light"
     },
     "output_type": "display_data"
    }
   ],
   "source": [
    "df.plot(kind=\"scatter\", x=\"1970 Population\", y=\"2022 Population\")\n",
    "plt.show()\n",
    "#ood correlation"
   ]
  },
  {
   "cell_type": "code",
   "execution_count": 79,
   "id": "4f2dc054",
   "metadata": {},
   "outputs": [
    {
     "data": {
      "image/png": "[encoded data removed]",
      "text/plain": [
       "<Figure size 432x288 with 1 Axes>"
      ]
     },
     "metadata": {
      "needs_background": "light"
     },
     "output_type": "display_data"
    }
   ],
   "source": [
    "df.plot(kind=\"scatter\", x=\"Country\", y=\"2022 Population\")\n",
    "plt.show()"
   ]
  },
  {
   "cell_type": "code",
   "execution_count": 80,
   "id": "7444696d",
   "metadata": {},
   "outputs": [
    {
     "data": {
      "image/png": "[encoded data removed]",
      "text/plain": [
       "<Figure size 432x288 with 1 Axes>"
      ]
     },
     "metadata": {
      "needs_background": "light"
     },
     "output_type": "display_data"
    }
   ],
   "source": [
    "df.plot(kind=\"hist\", x=\"Country\", y=\"2022 Population\")\n",
    "plt.show()"
   ]
  },
  {
   "cell_type": "code",
   "execution_count": 81,
   "id": "281a5e76",
   "metadata": {},
   "outputs": [
    {
     "data": {
      "text/html": [
       "<div>\n",
       "<style scoped>\n",
       "    .dataframe tbody tr th:only-of-type {\n",
       "        vertical-align: middle;\n",
       "    }\n",
       "\n",
       "    .dataframe tbody tr th {\n",
       "        vertical-align: top;\n",
       "    }\n",
       "\n",
       "    .dataframe thead th {\n",
       "        text-align: right;\n",
       "    }\n",
       "</style>\n",
       "<table border=\"1\" class=\"dataframe\">\n",
       "  <thead>\n",
       "    <tr style=\"text-align: right;\">\n",
       "      <th></th>\n",
       "      <th>Rank</th>\n",
       "      <th>2022 Population</th>\n",
       "      <th>2020 Population</th>\n",
       "      <th>2015 Population</th>\n",
       "      <th>2010 Population</th>\n",
       "      <th>2000 Population</th>\n",
       "      <th>1990 Population</th>\n",
       "      <th>1980 Population</th>\n",
       "      <th>1970 Population</th>\n",
       "      <th>Area (km²)</th>\n",
       "      <th>Density (per km²)</th>\n",
       "      <th>Growth Rate</th>\n",
       "      <th>World Population Percentage</th>\n",
       "    </tr>\n",
       "  </thead>\n",
       "  <tbody>\n",
       "    <tr>\n",
       "      <th>Rank</th>\n",
       "      <td>1.000000</td>\n",
       "      <td>-0.358361</td>\n",
       "      <td>-0.355854</td>\n",
       "      <td>-0.351222</td>\n",
       "      <td>-0.347461</td>\n",
       "      <td>-0.341057</td>\n",
       "      <td>-0.336152</td>\n",
       "      <td>-0.335246</td>\n",
       "      <td>-0.335379</td>\n",
       "      <td>-0.383774</td>\n",
       "      <td>0.129436</td>\n",
       "      <td>-0.224561</td>\n",
       "      <td>-0.358464</td>\n",
       "    </tr>\n",
       "    <tr>\n",
       "      <th>2022 Population</th>\n",
       "      <td>-0.358361</td>\n",
       "      <td>1.000000</td>\n",
       "      <td>0.999946</td>\n",
       "      <td>0.999490</td>\n",
       "      <td>0.998629</td>\n",
       "      <td>0.994605</td>\n",
       "      <td>0.987228</td>\n",
       "      <td>0.980285</td>\n",
       "      <td>0.973162</td>\n",
       "      <td>0.453411</td>\n",
       "      <td>-0.027618</td>\n",
       "      <td>-0.020863</td>\n",
       "      <td>0.999999</td>\n",
       "    </tr>\n",
       "    <tr>\n",
       "      <th>2020 Population</th>\n",
       "      <td>-0.355854</td>\n",
       "      <td>0.999946</td>\n",
       "      <td>1.000000</td>\n",
       "      <td>0.999763</td>\n",
       "      <td>0.999105</td>\n",
       "      <td>0.995583</td>\n",
       "      <td>0.988724</td>\n",
       "      <td>0.982121</td>\n",
       "      <td>0.975254</td>\n",
       "      <td>0.454993</td>\n",
       "      <td>-0.027358</td>\n",
       "      <td>-0.025116</td>\n",
       "      <td>0.999944</td>\n",
       "    </tr>\n",
       "    <tr>\n",
       "      <th>2015 Population</th>\n",
       "      <td>-0.351222</td>\n",
       "      <td>0.999490</td>\n",
       "      <td>0.999763</td>\n",
       "      <td>1.000000</td>\n",
       "      <td>0.999783</td>\n",
       "      <td>0.997340</td>\n",
       "      <td>0.991594</td>\n",
       "      <td>0.985724</td>\n",
       "      <td>0.979414</td>\n",
       "      <td>0.458240</td>\n",
       "      <td>-0.026857</td>\n",
       "      <td>-0.032154</td>\n",
       "      <td>0.999487</td>\n",
       "    </tr>\n",
       "    <tr>\n",
       "      <th>2010 Population</th>\n",
       "      <td>-0.347461</td>\n",
       "      <td>0.998629</td>\n",
       "      <td>0.999105</td>\n",
       "      <td>0.999783</td>\n",
       "      <td>1.000000</td>\n",
       "      <td>0.998593</td>\n",
       "      <td>0.993929</td>\n",
       "      <td>0.988786</td>\n",
       "      <td>0.983042</td>\n",
       "      <td>0.461936</td>\n",
       "      <td>-0.026505</td>\n",
       "      <td>-0.037983</td>\n",
       "      <td>0.998626</td>\n",
       "    </tr>\n",
       "    <tr>\n",
       "      <th>2000 Population</th>\n",
       "      <td>-0.341057</td>\n",
       "      <td>0.994605</td>\n",
       "      <td>0.995583</td>\n",
       "      <td>0.997340</td>\n",
       "      <td>0.998593</td>\n",
       "      <td>1.000000</td>\n",
       "      <td>0.998336</td>\n",
       "      <td>0.995160</td>\n",
       "      <td>0.990956</td>\n",
       "      <td>0.473933</td>\n",
       "      <td>-0.026139</td>\n",
       "      <td>-0.050515</td>\n",
       "      <td>0.994598</td>\n",
       "    </tr>\n",
       "    <tr>\n",
       "      <th>1990 Population</th>\n",
       "      <td>-0.336152</td>\n",
       "      <td>0.987228</td>\n",
       "      <td>0.988724</td>\n",
       "      <td>0.991594</td>\n",
       "      <td>0.993929</td>\n",
       "      <td>0.998336</td>\n",
       "      <td>1.000000</td>\n",
       "      <td>0.999042</td>\n",
       "      <td>0.996602</td>\n",
       "      <td>0.486764</td>\n",
       "      <td>-0.026224</td>\n",
       "      <td>-0.062397</td>\n",
       "      <td>0.987218</td>\n",
       "    </tr>\n",
       "    <tr>\n",
       "      <th>1980 Population</th>\n",
       "      <td>-0.335246</td>\n",
       "      <td>0.980285</td>\n",
       "      <td>0.982121</td>\n",
       "      <td>0.985724</td>\n",
       "      <td>0.988786</td>\n",
       "      <td>0.995160</td>\n",
       "      <td>0.999042</td>\n",
       "      <td>1.000000</td>\n",
       "      <td>0.999194</td>\n",
       "      <td>0.498166</td>\n",
       "      <td>-0.026587</td>\n",
       "      <td>-0.072349</td>\n",
       "      <td>0.980273</td>\n",
       "    </tr>\n",
       "    <tr>\n",
       "      <th>1970 Population</th>\n",
       "      <td>-0.335379</td>\n",
       "      <td>0.973162</td>\n",
       "      <td>0.975254</td>\n",
       "      <td>0.979414</td>\n",
       "      <td>0.983042</td>\n",
       "      <td>0.990956</td>\n",
       "      <td>0.996602</td>\n",
       "      <td>0.999194</td>\n",
       "      <td>1.000000</td>\n",
       "      <td>0.509940</td>\n",
       "      <td>-0.026881</td>\n",
       "      <td>-0.081313</td>\n",
       "      <td>0.973150</td>\n",
       "    </tr>\n",
       "    <tr>\n",
       "      <th>Area (km²)</th>\n",
       "      <td>-0.383774</td>\n",
       "      <td>0.453411</td>\n",
       "      <td>0.454993</td>\n",
       "      <td>0.458240</td>\n",
       "      <td>0.461936</td>\n",
       "      <td>0.473933</td>\n",
       "      <td>0.486764</td>\n",
       "      <td>0.498166</td>\n",
       "      <td>0.509940</td>\n",
       "      <td>1.000000</td>\n",
       "      <td>-0.063128</td>\n",
       "      <td>-0.013970</td>\n",
       "      <td>0.453284</td>\n",
       "    </tr>\n",
       "    <tr>\n",
       "      <th>Density (per km²)</th>\n",
       "      <td>0.129436</td>\n",
       "      <td>-0.027618</td>\n",
       "      <td>-0.027358</td>\n",
       "      <td>-0.026857</td>\n",
       "      <td>-0.026505</td>\n",
       "      <td>-0.026139</td>\n",
       "      <td>-0.026224</td>\n",
       "      <td>-0.026587</td>\n",
       "      <td>-0.026881</td>\n",
       "      <td>-0.063128</td>\n",
       "      <td>1.000000</td>\n",
       "      <td>-0.069753</td>\n",
       "      <td>-0.027646</td>\n",
       "    </tr>\n",
       "    <tr>\n",
       "      <th>Growth Rate</th>\n",
       "      <td>-0.224561</td>\n",
       "      <td>-0.020863</td>\n",
       "      <td>-0.025116</td>\n",
       "      <td>-0.032154</td>\n",
       "      <td>-0.037983</td>\n",
       "      <td>-0.050515</td>\n",
       "      <td>-0.062397</td>\n",
       "      <td>-0.072349</td>\n",
       "      <td>-0.081313</td>\n",
       "      <td>-0.013970</td>\n",
       "      <td>-0.069753</td>\n",
       "      <td>1.000000</td>\n",
       "      <td>-0.020930</td>\n",
       "    </tr>\n",
       "    <tr>\n",
       "      <th>World Population Percentage</th>\n",
       "      <td>-0.358464</td>\n",
       "      <td>0.999999</td>\n",
       "      <td>0.999944</td>\n",
       "      <td>0.999487</td>\n",
       "      <td>0.998626</td>\n",
       "      <td>0.994598</td>\n",
       "      <td>0.987218</td>\n",
       "      <td>0.980273</td>\n",
       "      <td>0.973150</td>\n",
       "      <td>0.453284</td>\n",
       "      <td>-0.027646</td>\n",
       "      <td>-0.020930</td>\n",
       "      <td>1.000000</td>\n",
       "    </tr>\n",
       "  </tbody>\n",
       "</table>\n",
       "</div>"
      ],
      "text/plain": [
       "                                 Rank  2022 Population  2020 Population  \\\n",
       "Rank                         1.000000        -0.358361        -0.355854   \n",
       "2022 Population             -0.358361         1.000000         0.999946   \n",
       "2020 Population             -0.355854         0.999946         1.000000   \n",
       "2015 Population             -0.351222         0.999490         0.999763   \n",
       "2010 Population             -0.347461         0.998629         0.999105   \n",
       "2000 Population             -0.341057         0.994605         0.995583   \n",
       "1990 Population             -0.336152         0.987228         0.988724   \n",
       "1980 Population             -0.335246         0.980285         0.982121   \n",
       "1970 Population             -0.335379         0.973162         0.975254   \n",
       "Area (km²)                  -0.383774         0.453411         0.454993   \n",
       "Density (per km²)            0.129436        -0.027618        -0.027358   \n",
       "Growth Rate                 -0.224561        -0.020863        -0.025116   \n",
       "World Population Percentage -0.358464         0.999999         0.999944   \n",
       "\n",
       "                             2015 Population  2010 Population  \\\n",
       "Rank                               -0.351222        -0.347461   \n",
       "2022 Population                     0.999490         0.998629   \n",
       "2020 Population                     0.999763         0.999105   \n",
       "2015 Population                     1.000000         0.999783   \n",
       "2010 Population                     0.999783         1.000000   \n",
       "2000 Population                     0.997340         0.998593   \n",
       "1990 Population                     0.991594         0.993929   \n",
       "1980 Population                     0.985724         0.988786   \n",
       "1970 Population                     0.979414         0.983042   \n",
       "Area (km²)                          0.458240         0.461936   \n",
       "Density (per km²)                  -0.026857        -0.026505   \n",
       "Growth Rate                        -0.032154        -0.037983   \n",
       "World Population Percentage         0.999487         0.998626   \n",
       "\n",
       "                             2000 Population  1990 Population  \\\n",
       "Rank                               -0.341057        -0.336152   \n",
       "2022 Population                     0.994605         0.987228   \n",
       "2020 Population                     0.995583         0.988724   \n",
       "2015 Population                     0.997340         0.991594   \n",
       "2010 Population                     0.998593         0.993929   \n",
       "2000 Population                     1.000000         0.998336   \n",
       "1990 Population                     0.998336         1.000000   \n",
       "1980 Population                     0.995160         0.999042   \n",
       "1970 Population                     0.990956         0.996602   \n",
       "Area (km²)                          0.473933         0.486764   \n",
       "Density (per km²)                  -0.026139        -0.026224   \n",
       "Growth Rate                        -0.050515        -0.062397   \n",
       "World Population Percentage         0.994598         0.987218   \n",
       "\n",
       "                             1980 Population  1970 Population  Area (km²)  \\\n",
       "Rank                               -0.335246        -0.335379   -0.383774   \n",
       "2022 Population                     0.980285         0.973162    0.453411   \n",
       "2020 Population                     0.982121         0.975254    0.454993   \n",
       "2015 Population                     0.985724         0.979414    0.458240   \n",
       "2010 Population                     0.988786         0.983042    0.461936   \n",
       "2000 Population                     0.995160         0.990956    0.473933   \n",
       "1990 Population                     0.999042         0.996602    0.486764   \n",
       "1980 Population                     1.000000         0.999194    0.498166   \n",
       "1970 Population                     0.999194         1.000000    0.509940   \n",
       "Area (km²)                          0.498166         0.509940    1.000000   \n",
       "Density (per km²)                  -0.026587        -0.026881   -0.063128   \n",
       "Growth Rate                        -0.072349        -0.081313   -0.013970   \n",
       "World Population Percentage         0.980273         0.973150    0.453284   \n",
       "\n",
       "                             Density (per km²)  Growth Rate  \\\n",
       "Rank                                  0.129436    -0.224561   \n",
       "2022 Population                      -0.027618    -0.020863   \n",
       "2020 Population                      -0.027358    -0.025116   \n",
       "2015 Population                      -0.026857    -0.032154   \n",
       "2010 Population                      -0.026505    -0.037983   \n",
       "2000 Population                      -0.026139    -0.050515   \n",
       "1990 Population                      -0.026224    -0.062397   \n",
       "1980 Population                      -0.026587    -0.072349   \n",
       "1970 Population                      -0.026881    -0.081313   \n",
       "Area (km²)                           -0.063128    -0.013970   \n",
       "Density (per km²)                     1.000000    -0.069753   \n",
       "Growth Rate                          -0.069753     1.000000   \n",
       "World Population Percentage          -0.027646    -0.020930   \n",
       "\n",
       "                             World Population Percentage  \n",
       "Rank                                           -0.358464  \n",
       "2022 Population                                 0.999999  \n",
       "2020 Population                                 0.999944  \n",
       "2015 Population                                 0.999487  \n",
       "2010 Population                                 0.998626  \n",
       "2000 Population                                 0.994598  \n",
       "1990 Population                                 0.987218  \n",
       "1980 Population                                 0.980273  \n",
       "1970 Population                                 0.973150  \n",
       "Area (km²)                                      0.453284  \n",
       "Density (per km²)                              -0.027646  \n",
       "Growth Rate                                    -0.020930  \n",
       "World Population Percentage                     1.000000  "
      ]
     },
     "execution_count": 81,
     "metadata": {},
     "output_type": "execute_result"
    }
   ],
   "source": [
    "df.corr()"
   ]
  },
  {
   "cell_type": "code",
   "execution_count": 83,
   "id": "695fb83d",
   "metadata": {},
   "outputs": [
    {
     "data": {
      "image/png": "[encoded data removed]",
      "text/plain": [
       "<Figure size 432x288 with 1 Axes>"
      ]
     },
     "metadata": {
      "needs_background": "light"
     },
     "output_type": "display_data"
    }
   ],
   "source": [
    "df.plot(kind=\"scatter\", x=\"Area (km²)\", y=\"Density (per km²)\")\n",
    "plt.show()\n",
    "#areas with less area in km have the highest density and  thus densely populated"
   ]
  },
  {
   "cell_type": "code",
   "execution_count": 84,
   "id": "161c499b",
   "metadata": {},
   "outputs": [
    {
     "data": {
      "image/png": "[encoded data removed]",
      "text/plain": [
       "<Figure size 432x288 with 1 Axes>"
      ]
     },
     "metadata": {
      "needs_background": "light"
     },
     "output_type": "display_data"
    }
   ],
   "source": [
    "df.plot(kind=\"hist\", x=\"Area (km²)\", y=\"Density (per km²)\")\n",
    "plt.show()"
   ]
  },
  {
   "cell_type": "code",
   "execution_count": 86,
   "id": "45287607",
   "metadata": {},
   "outputs": [
    {
     "data": {
      "image/png": "[encoded data removed]",
      "text/plain": [
       "<Figure size 432x288 with 1 Axes>"
      ]
     },
     "metadata": {
      "needs_background": "light"
     },
     "output_type": "display_data"
    }
   ],
   "source": [
    "df.plot(kind=\"scatter\", x=\"Density (per km²)\", y=\"2022 Population\")\n",
    "plt.show()"
   ]
  },
  {
   "cell_type": "code",
   "execution_count": 87,
   "id": "f2eae547",
   "metadata": {},
   "outputs": [
    {
     "data": {
      "image/png": "[encoded data removed]",
      "text/plain": [
       "<Figure size 432x288 with 1 Axes>"
      ]
     },
     "metadata": {
      "needs_background": "light"
     },
     "output_type": "display_data"
    }
   ],
   "source": [
    "df.plot(kind=\"scatter\", x=\"Growth Rate\", y=\"2022 Population\")\n",
    "plt.show()"
   ]
  },
  {
   "cell_type": "code",
   "execution_count": 88,
   "id": "0c8d8815",
   "metadata": {},
   "outputs": [
    {
     "data": {
      "image/png": "[encoded data removed]",
      "text/plain": [
       "<Figure size 432x288 with 1 Axes>"
      ]
     },
     "metadata": {
      "needs_background": "light"
     },
     "output_type": "display_data"
    }
   ],
   "source": [
    "df.plot(kind=\"scatter\", x=\"2022 Population\", y=\"Growth Rate\")\n",
    "plt.show()"
   ]
  },
  {
   "cell_type": "code",
   "execution_count": 89,
   "id": "db1421af",
   "metadata": {},
   "outputs": [
    {
     "data": {
      "image/png": "[encoded data removed]",
      "text/plain": [
       "<Figure size 432x288 with 1 Axes>"
      ]
     },
     "metadata": {
      "needs_background": "light"
     },
     "output_type": "display_data"
    }
   ],
   "source": [
    "df.plot(kind=\"hist\", x=\"2022 Population\", y=\"Growth Rate\")\n",
    "plt.show()"
   ]
  },
  {
   "cell_type": "code",
   "execution_count": 90,
   "id": "4209df21",
   "metadata": {},
   "outputs": [
    {
     "data": {
      "image/png": "[encoded data removed]",
      "text/plain": [
       "<Figure size 432x288 with 1 Axes>"
      ]
     },
     "metadata": {
      "needs_background": "light"
     },
     "output_type": "display_data"
    }
   ],
   "source": [
    "df.plot(kind=\"hist\", x=\"Growth Rate\", y=\"2022 Population\")\n",
    "plt.show()"
   ]
  },
  {
   "cell_type": "code",
   "execution_count": 92,
   "id": "ac54ef03",
   "metadata": {},
   "outputs": [
    {
     "data": {
      "text/plain": [
       "<AxesSubplot:ylabel='Frequency'>"
      ]
     },
     "execution_count": 92,
     "metadata": {},
     "output_type": "execute_result"
    },
    {
     "data": {
      "image/png": "[encoded data removed]",
      "text/plain": [
       "<Figure size 432x288 with 1 Axes>"
      ]
     },
     "metadata": {
      "needs_background": "light"
     },
     "output_type": "display_data"
    }
   ],
   "source": [
    "df[\"2022 Population\"].plot(kind = 'hist')"
   ]
  },
  {
   "cell_type": "code",
   "execution_count": 94,
   "id": "500eb863",
   "metadata": {},
   "outputs": [
    {
     "data": {
      "text/plain": [
       "<AxesSubplot:ylabel='Frequency'>"
      ]
     },
     "execution_count": 94,
     "metadata": {},
     "output_type": "execute_result"
    },
    {
     "data": {
      "image/png": "[encoded data removed]",
      "text/plain": [
       "<Figure size 432x288 with 1 Axes>"
      ]
     },
     "metadata": {
      "needs_background": "light"
     },
     "output_type": "display_data"
    }
   ],
   "source": [
    "df[\"Growth Rate\"].plot(kind = 'hist')"
   ]
  },
  {
   "cell_type": "code",
   "execution_count": 95,
   "id": "b5f7b352",
   "metadata": {},
   "outputs": [
    {
     "data": {
      "image/png": "[encoded data removed]",
      "text/plain": [
       "<Figure size 432x288 with 1 Axes>"
      ]
     },
     "metadata": {
      "needs_background": "light"
     },
     "output_type": "display_data"
    }
   ],
   "source": [
    "df.plot(kind=\"hist\", x=\"2022 Population\", y=\"Growth Rate\")\n",
    "plt.show()"
   ]
  },
  {
   "cell_type": "code",
   "execution_count": 97,
   "id": "8257b456",
   "metadata": {},
   "outputs": [
    {
     "data": {
      "image/png": "[encoded data removed]",
      "text/plain": [
       "<Figure size 432x288 with 1 Axes>"
      ]
     },
     "metadata": {
      "needs_background": "light"
     },
     "output_type": "display_data"
    }
   ],
   "source": [
    "df.plot(kind=\"scatter\", x=\"World Population Percentage\", y=\"Growth Rate\")\n",
    "plt.show()"
   ]
  },
  {
   "cell_type": "code",
   "execution_count": 98,
   "id": "dfa54215",
   "metadata": {},
   "outputs": [
    {
     "data": {
      "image/png": "[encoded data removed]",
      "text/plain": [
       "<Figure size 432x288 with 1 Axes>"
      ]
     },
     "metadata": {
      "needs_background": "light"
     },
     "output_type": "display_data"
    }
   ],
   "source": [
    "df.plot(kind=\"scatter\", x=\"Area (km²)\", y=\"Growth Rate\")\n",
    "plt.show()"
   ]
  },
  {
   "cell_type": "code",
   "execution_count": 99,
   "id": "677eaca5",
   "metadata": {},
   "outputs": [
    {
     "data": {
      "image/png": "[encoded data removed]",
      "text/plain": [
       "<Figure size 432x288 with 1 Axes>"
      ]
     },
     "metadata": {
      "needs_background": "light"
     },
     "output_type": "display_data"
    }
   ],
   "source": [
    "df.plot(kind=\"scatter\", x=\"Growth Rate\", y=\"Area (km²)\")\n",
    "plt.show()"
   ]
  },
  {
   "cell_type": "code",
   "execution_count": 100,
   "id": "aca6c245",
   "metadata": {},
   "outputs": [
    {
     "data": {
      "image/png": "[encoded data removed]",
      "text/plain": [
       "<Figure size 432x288 with 1 Axes>"
      ]
     },
     "metadata": {
      "needs_background": "light"
     },
     "output_type": "display_data"
    }
   ],
   "source": [
    "df.plot(kind=\"hist\", x=\"Growth Rate\", y=\"Area (km²)\")\n",
    "plt.show()"
   ]
  },
  {
   "cell_type": "code",
   "execution_count": null,
   "id": "0b104beb",
   "metadata": {},
   "outputs": [],
   "source": []
  }
 ],
 "metadata": {
  "kernelspec": {
   "display_name": "Python 3 (ipykernel)",
   "language": "python",
   "name": "python3"
  },
  "language_info": {
   "codemirror_mode": {
    "name": "ipython",
    "version": 3
   },
   "file_extension": ".py",
   "mimetype": "text/x-python",
   "name": "python",
   "nbconvert_exporter": "python",
   "pygments_lexer": "ipython3",
   "version": "3.9.12"
  }
 },
 "nbformat": 4,
 "nbformat_minor": 5
}
