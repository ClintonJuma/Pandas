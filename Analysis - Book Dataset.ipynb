{
 "cells": [
  {
   "cell_type": "markdown",
   "id": "568eb1e3",
   "metadata": {},
   "source": [
    "## Importing libraries"
   ]
  },
  {
   "cell_type": "code",
   "execution_count": 1,
   "id": "6a001777",
   "metadata": {},
   "outputs": [],
   "source": [
    "import numpy as np\n",
    "import pandas as pd\n",
    "import matplotlib.pyplot as plt\n",
    "import datetime as dt\n",
    "import os \n",
    "import warnings\n",
    "import seaborn as sns\n",
    "\n",
    "\n",
    "warnings.filterwarnings(\"ignore\")\n",
    "sns.set(color_codes = True)\n",
    "sns.set_palette(palette = \"magma\",n_colors = 8)"
   ]
  },
  {
   "cell_type": "markdown",
   "id": "9565e790",
   "metadata": {},
   "source": [
    "## import dataset"
   ]
  },
  {
   "cell_type": "code",
   "execution_count": 2,
   "id": "b1ea5a0a",
   "metadata": {},
   "outputs": [
    {
     "data": {
      "text/html": [
       "<div>\n",
       "<style scoped>\n",
       "    .dataframe tbody tr th:only-of-type {\n",
       "        vertical-align: middle;\n",
       "    }\n",
       "\n",
       "    .dataframe tbody tr th {\n",
       "        vertical-align: top;\n",
       "    }\n",
       "\n",
       "    .dataframe thead th {\n",
       "        text-align: right;\n",
       "    }\n",
       "</style>\n",
       "<table border=\"1\" class=\"dataframe\">\n",
       "  <thead>\n",
       "    <tr style=\"text-align: right;\">\n",
       "      <th></th>\n",
       "      <th>Unnamed: 0</th>\n",
       "      <th>Title</th>\n",
       "      <th>Category</th>\n",
       "      <th>Price</th>\n",
       "      <th>Price_After_Tax</th>\n",
       "      <th>Tax_amount</th>\n",
       "      <th>Avilability</th>\n",
       "      <th>Number_of_reviews</th>\n",
       "      <th>Book_Description</th>\n",
       "      <th>Image_Link</th>\n",
       "      <th>Stars</th>\n",
       "    </tr>\n",
       "  </thead>\n",
       "  <tbody>\n",
       "    <tr>\n",
       "      <th>0</th>\n",
       "      <td>0</td>\n",
       "      <td>A Light in the Attic</td>\n",
       "      <td>Poetry</td>\n",
       "      <td>51.77</td>\n",
       "      <td>51.77</td>\n",
       "      <td>0.0</td>\n",
       "      <td>22</td>\n",
       "      <td>0</td>\n",
       "      <td>It's hard to imagine a world without A Light i...</td>\n",
       "      <td>http://books.toscrape.com/media/cache/fe/72/fe...</td>\n",
       "      <td>3</td>\n",
       "    </tr>\n",
       "    <tr>\n",
       "      <th>1</th>\n",
       "      <td>1</td>\n",
       "      <td>Tipping the Velvet</td>\n",
       "      <td>Historical Fiction</td>\n",
       "      <td>53.74</td>\n",
       "      <td>53.74</td>\n",
       "      <td>0.0</td>\n",
       "      <td>20</td>\n",
       "      <td>0</td>\n",
       "      <td>\"Erotic and absorbing...Written with starling ...</td>\n",
       "      <td>http://books.toscrape.com/media/cache/08/e9/08...</td>\n",
       "      <td>1</td>\n",
       "    </tr>\n",
       "    <tr>\n",
       "      <th>2</th>\n",
       "      <td>2</td>\n",
       "      <td>Soumission</td>\n",
       "      <td>Fiction</td>\n",
       "      <td>50.10</td>\n",
       "      <td>50.10</td>\n",
       "      <td>0.0</td>\n",
       "      <td>20</td>\n",
       "      <td>0</td>\n",
       "      <td>Dans une France assez proche de la nÃ´tre, un ...</td>\n",
       "      <td>http://books.toscrape.com/media/cache/ee/cf/ee...</td>\n",
       "      <td>1</td>\n",
       "    </tr>\n",
       "    <tr>\n",
       "      <th>3</th>\n",
       "      <td>3</td>\n",
       "      <td>Sharp Objects</td>\n",
       "      <td>Mystery</td>\n",
       "      <td>47.82</td>\n",
       "      <td>47.82</td>\n",
       "      <td>0.0</td>\n",
       "      <td>20</td>\n",
       "      <td>0</td>\n",
       "      <td>WICKED above her hipbone, GIRL across her hear...</td>\n",
       "      <td>http://books.toscrape.com/media/cache/c0/59/c0...</td>\n",
       "      <td>4</td>\n",
       "    </tr>\n",
       "    <tr>\n",
       "      <th>4</th>\n",
       "      <td>4</td>\n",
       "      <td>Sapiens: A Brief History of Humankind</td>\n",
       "      <td>History</td>\n",
       "      <td>54.23</td>\n",
       "      <td>54.23</td>\n",
       "      <td>0.0</td>\n",
       "      <td>20</td>\n",
       "      <td>0</td>\n",
       "      <td>From a renowned historian comes a groundbreaki...</td>\n",
       "      <td>http://books.toscrape.com/media/cache/ce/5f/ce...</td>\n",
       "      <td>5</td>\n",
       "    </tr>\n",
       "  </tbody>\n",
       "</table>\n",
       "</div>"
      ],
      "text/plain": [
       "   Unnamed: 0                                  Title            Category  \\\n",
       "0           0                   A Light in the Attic              Poetry   \n",
       "1           1                     Tipping the Velvet  Historical Fiction   \n",
       "2           2                             Soumission             Fiction   \n",
       "3           3                          Sharp Objects             Mystery   \n",
       "4           4  Sapiens: A Brief History of Humankind             History   \n",
       "\n",
       "   Price  Price_After_Tax  Tax_amount  Avilability  Number_of_reviews  \\\n",
       "0  51.77            51.77         0.0           22                  0   \n",
       "1  53.74            53.74         0.0           20                  0   \n",
       "2  50.10            50.10         0.0           20                  0   \n",
       "3  47.82            47.82         0.0           20                  0   \n",
       "4  54.23            54.23         0.0           20                  0   \n",
       "\n",
       "                                    Book_Description  \\\n",
       "0  It's hard to imagine a world without A Light i...   \n",
       "1  \"Erotic and absorbing...Written with starling ...   \n",
       "2  Dans une France assez proche de la nÃ´tre, un ...   \n",
       "3  WICKED above her hipbone, GIRL across her hear...   \n",
       "4  From a renowned historian comes a groundbreaki...   \n",
       "\n",
       "                                          Image_Link  Stars  \n",
       "0  http://books.toscrape.com/media/cache/fe/72/fe...      3  \n",
       "1  http://books.toscrape.com/media/cache/08/e9/08...      1  \n",
       "2  http://books.toscrape.com/media/cache/ee/cf/ee...      1  \n",
       "3  http://books.toscrape.com/media/cache/c0/59/c0...      4  \n",
       "4  http://books.toscrape.com/media/cache/ce/5f/ce...      5  "
      ]
     },
     "execution_count": 2,
     "metadata": {},
     "output_type": "execute_result"
    }
   ],
   "source": [
    "data = pd.read_csv(\"Book_Dataset_1.csv\")\n",
    "data.head(5)"
   ]
  },
  {
   "cell_type": "code",
   "execution_count": 3,
   "id": "708ce8f4",
   "metadata": {},
   "outputs": [
    {
     "data": {
      "text/plain": [
       "(1000, 11)"
      ]
     },
     "execution_count": 3,
     "metadata": {},
     "output_type": "execute_result"
    }
   ],
   "source": [
    "data.shape"
   ]
  },
  {
   "cell_type": "code",
   "execution_count": 4,
   "id": "9948b40b",
   "metadata": {},
   "outputs": [
    {
     "data": {
      "text/plain": [
       "Unnamed: 0             int64\n",
       "Title                 object\n",
       "Category              object\n",
       "Price                float64\n",
       "Price_After_Tax      float64\n",
       "Tax_amount           float64\n",
       "Avilability            int64\n",
       "Number_of_reviews      int64\n",
       "Book_Description      object\n",
       "Image_Link            object\n",
       "Stars                  int64\n",
       "dtype: object"
      ]
     },
     "execution_count": 4,
     "metadata": {},
     "output_type": "execute_result"
    }
   ],
   "source": [
    "data.dtypes"
   ]
  },
  {
   "cell_type": "code",
   "execution_count": 5,
   "id": "62583a62",
   "metadata": {},
   "outputs": [
    {
     "name": "stdout",
     "output_type": "stream",
     "text": [
      "<class 'pandas.core.frame.DataFrame'>\n",
      "RangeIndex: 1000 entries, 0 to 999\n",
      "Data columns (total 11 columns):\n",
      " #   Column             Non-Null Count  Dtype  \n",
      "---  ------             --------------  -----  \n",
      " 0   Unnamed: 0         1000 non-null   int64  \n",
      " 1   Title              1000 non-null   object \n",
      " 2   Category           1000 non-null   object \n",
      " 3   Price              1000 non-null   float64\n",
      " 4   Price_After_Tax    1000 non-null   float64\n",
      " 5   Tax_amount         1000 non-null   float64\n",
      " 6   Avilability        1000 non-null   int64  \n",
      " 7   Number_of_reviews  1000 non-null   int64  \n",
      " 8   Book_Description   1000 non-null   object \n",
      " 9   Image_Link         1000 non-null   object \n",
      " 10  Stars              1000 non-null   int64  \n",
      "dtypes: float64(3), int64(4), object(4)\n",
      "memory usage: 86.1+ KB\n"
     ]
    }
   ],
   "source": [
    "data.info()"
   ]
  },
  {
   "cell_type": "code",
   "execution_count": 6,
   "id": "76fde347",
   "metadata": {},
   "outputs": [
    {
     "data": {
      "text/plain": [
       "[RangeIndex(start=0, stop=1000, step=1),\n",
       " Index(['Unnamed: 0', 'Title', 'Category', 'Price', 'Price_After_Tax',\n",
       "        'Tax_amount', 'Avilability', 'Number_of_reviews', 'Book_Description',\n",
       "        'Image_Link', 'Stars'],\n",
       "       dtype='object')]"
      ]
     },
     "execution_count": 6,
     "metadata": {},
     "output_type": "execute_result"
    }
   ],
   "source": [
    "data.axes"
   ]
  },
  {
   "cell_type": "code",
   "execution_count": 7,
   "id": "40154a87",
   "metadata": {},
   "outputs": [
    {
     "data": {
      "text/html": [
       "<div>\n",
       "<style scoped>\n",
       "    .dataframe tbody tr th:only-of-type {\n",
       "        vertical-align: middle;\n",
       "    }\n",
       "\n",
       "    .dataframe tbody tr th {\n",
       "        vertical-align: top;\n",
       "    }\n",
       "\n",
       "    .dataframe thead th {\n",
       "        text-align: right;\n",
       "    }\n",
       "</style>\n",
       "<table border=\"1\" class=\"dataframe\">\n",
       "  <thead>\n",
       "    <tr style=\"text-align: right;\">\n",
       "      <th></th>\n",
       "      <th>count</th>\n",
       "      <th>mean</th>\n",
       "      <th>std</th>\n",
       "      <th>min</th>\n",
       "      <th>25%</th>\n",
       "      <th>50%</th>\n",
       "      <th>75%</th>\n",
       "      <th>max</th>\n",
       "    </tr>\n",
       "  </thead>\n",
       "  <tbody>\n",
       "    <tr>\n",
       "      <th>Unnamed: 0</th>\n",
       "      <td>1000.0</td>\n",
       "      <td>499.50000</td>\n",
       "      <td>288.819436</td>\n",
       "      <td>0.0</td>\n",
       "      <td>249.7500</td>\n",
       "      <td>499.50</td>\n",
       "      <td>749.2500</td>\n",
       "      <td>999.00</td>\n",
       "    </tr>\n",
       "    <tr>\n",
       "      <th>Price</th>\n",
       "      <td>1000.0</td>\n",
       "      <td>35.07035</td>\n",
       "      <td>14.446690</td>\n",
       "      <td>10.0</td>\n",
       "      <td>22.1075</td>\n",
       "      <td>35.98</td>\n",
       "      <td>47.4575</td>\n",
       "      <td>59.99</td>\n",
       "    </tr>\n",
       "    <tr>\n",
       "      <th>Price_After_Tax</th>\n",
       "      <td>1000.0</td>\n",
       "      <td>35.07035</td>\n",
       "      <td>14.446690</td>\n",
       "      <td>10.0</td>\n",
       "      <td>22.1075</td>\n",
       "      <td>35.98</td>\n",
       "      <td>47.4575</td>\n",
       "      <td>59.99</td>\n",
       "    </tr>\n",
       "    <tr>\n",
       "      <th>Tax_amount</th>\n",
       "      <td>1000.0</td>\n",
       "      <td>0.00000</td>\n",
       "      <td>0.000000</td>\n",
       "      <td>0.0</td>\n",
       "      <td>0.0000</td>\n",
       "      <td>0.00</td>\n",
       "      <td>0.0000</td>\n",
       "      <td>0.00</td>\n",
       "    </tr>\n",
       "    <tr>\n",
       "      <th>Avilability</th>\n",
       "      <td>1000.0</td>\n",
       "      <td>8.58500</td>\n",
       "      <td>5.654622</td>\n",
       "      <td>1.0</td>\n",
       "      <td>3.0000</td>\n",
       "      <td>7.00</td>\n",
       "      <td>14.0000</td>\n",
       "      <td>22.00</td>\n",
       "    </tr>\n",
       "    <tr>\n",
       "      <th>Number_of_reviews</th>\n",
       "      <td>1000.0</td>\n",
       "      <td>0.00000</td>\n",
       "      <td>0.000000</td>\n",
       "      <td>0.0</td>\n",
       "      <td>0.0000</td>\n",
       "      <td>0.00</td>\n",
       "      <td>0.0000</td>\n",
       "      <td>0.00</td>\n",
       "    </tr>\n",
       "    <tr>\n",
       "      <th>Stars</th>\n",
       "      <td>1000.0</td>\n",
       "      <td>2.92300</td>\n",
       "      <td>1.434967</td>\n",
       "      <td>1.0</td>\n",
       "      <td>2.0000</td>\n",
       "      <td>3.00</td>\n",
       "      <td>4.0000</td>\n",
       "      <td>5.00</td>\n",
       "    </tr>\n",
       "  </tbody>\n",
       "</table>\n",
       "</div>"
      ],
      "text/plain": [
       "                    count       mean         std   min       25%     50%  \\\n",
       "Unnamed: 0         1000.0  499.50000  288.819436   0.0  249.7500  499.50   \n",
       "Price              1000.0   35.07035   14.446690  10.0   22.1075   35.98   \n",
       "Price_After_Tax    1000.0   35.07035   14.446690  10.0   22.1075   35.98   \n",
       "Tax_amount         1000.0    0.00000    0.000000   0.0    0.0000    0.00   \n",
       "Avilability        1000.0    8.58500    5.654622   1.0    3.0000    7.00   \n",
       "Number_of_reviews  1000.0    0.00000    0.000000   0.0    0.0000    0.00   \n",
       "Stars              1000.0    2.92300    1.434967   1.0    2.0000    3.00   \n",
       "\n",
       "                        75%     max  \n",
       "Unnamed: 0         749.2500  999.00  \n",
       "Price               47.4575   59.99  \n",
       "Price_After_Tax     47.4575   59.99  \n",
       "Tax_amount           0.0000    0.00  \n",
       "Avilability         14.0000   22.00  \n",
       "Number_of_reviews    0.0000    0.00  \n",
       "Stars                4.0000    5.00  "
      ]
     },
     "execution_count": 7,
     "metadata": {},
     "output_type": "execute_result"
    }
   ],
   "source": [
    "data.describe().T"
   ]
  },
  {
   "cell_type": "code",
   "execution_count": 8,
   "id": "81add73d",
   "metadata": {},
   "outputs": [
    {
     "data": {
      "text/html": [
       "<div>\n",
       "<style scoped>\n",
       "    .dataframe tbody tr th:only-of-type {\n",
       "        vertical-align: middle;\n",
       "    }\n",
       "\n",
       "    .dataframe tbody tr th {\n",
       "        vertical-align: top;\n",
       "    }\n",
       "\n",
       "    .dataframe thead th {\n",
       "        text-align: right;\n",
       "    }\n",
       "</style>\n",
       "<table border=\"1\" class=\"dataframe\">\n",
       "  <thead>\n",
       "    <tr style=\"text-align: right;\">\n",
       "      <th></th>\n",
       "      <th>count</th>\n",
       "      <th>unique</th>\n",
       "      <th>top</th>\n",
       "      <th>freq</th>\n",
       "    </tr>\n",
       "  </thead>\n",
       "  <tbody>\n",
       "    <tr>\n",
       "      <th>Title</th>\n",
       "      <td>1000</td>\n",
       "      <td>999</td>\n",
       "      <td>The Star-Touched Queen</td>\n",
       "      <td>2</td>\n",
       "    </tr>\n",
       "    <tr>\n",
       "      <th>Category</th>\n",
       "      <td>1000</td>\n",
       "      <td>50</td>\n",
       "      <td>Default</td>\n",
       "      <td>152</td>\n",
       "    </tr>\n",
       "    <tr>\n",
       "      <th>Book_Description</th>\n",
       "      <td>1000</td>\n",
       "      <td>999</td>\n",
       "      <td>\\n\\n\\n\\n\\n\\n</td>\n",
       "      <td>2</td>\n",
       "    </tr>\n",
       "    <tr>\n",
       "      <th>Image_Link</th>\n",
       "      <td>1000</td>\n",
       "      <td>1000</td>\n",
       "      <td>http://books.toscrape.com/media/cache/fe/72/fe...</td>\n",
       "      <td>1</td>\n",
       "    </tr>\n",
       "  </tbody>\n",
       "</table>\n",
       "</div>"
      ],
      "text/plain": [
       "                 count unique  \\\n",
       "Title             1000    999   \n",
       "Category          1000     50   \n",
       "Book_Description  1000    999   \n",
       "Image_Link        1000   1000   \n",
       "\n",
       "                                                                top freq  \n",
       "Title                                        The Star-Touched Queen    2  \n",
       "Category                                                    Default  152  \n",
       "Book_Description                                       \\n\\n\\n\\n\\n\\n    2  \n",
       "Image_Link        http://books.toscrape.com/media/cache/fe/72/fe...    1  "
      ]
     },
     "execution_count": 8,
     "metadata": {},
     "output_type": "execute_result"
    }
   ],
   "source": [
    "data.describe(exclude=\"number\").T"
   ]
  },
  {
   "cell_type": "code",
   "execution_count": 9,
   "id": "84f08fc0",
   "metadata": {},
   "outputs": [
    {
     "data": {
      "text/plain": [
       "50"
      ]
     },
     "execution_count": 9,
     "metadata": {},
     "output_type": "execute_result"
    }
   ],
   "source": [
    "data[\"Category\"].nunique()"
   ]
  },
  {
   "cell_type": "code",
   "execution_count": 10,
   "id": "d518356a",
   "metadata": {},
   "outputs": [
    {
     "data": {
      "text/html": [
       "<div>\n",
       "<style scoped>\n",
       "    .dataframe tbody tr th:only-of-type {\n",
       "        vertical-align: middle;\n",
       "    }\n",
       "\n",
       "    .dataframe tbody tr th {\n",
       "        vertical-align: top;\n",
       "    }\n",
       "\n",
       "    .dataframe thead th {\n",
       "        text-align: right;\n",
       "    }\n",
       "</style>\n",
       "<table border=\"1\" class=\"dataframe\">\n",
       "  <thead>\n",
       "    <tr style=\"text-align: right;\">\n",
       "      <th></th>\n",
       "      <th>Unnamed: 0</th>\n",
       "      <th>Price</th>\n",
       "      <th>Price_After_Tax</th>\n",
       "      <th>Tax_amount</th>\n",
       "      <th>Avilability</th>\n",
       "      <th>Number_of_reviews</th>\n",
       "      <th>Stars</th>\n",
       "    </tr>\n",
       "  </thead>\n",
       "  <tbody>\n",
       "    <tr>\n",
       "      <th>Unnamed: 0</th>\n",
       "      <td>1.000000</td>\n",
       "      <td>0.016563</td>\n",
       "      <td>0.016563</td>\n",
       "      <td>NaN</td>\n",
       "      <td>-0.978961</td>\n",
       "      <td>NaN</td>\n",
       "      <td>-0.014017</td>\n",
       "    </tr>\n",
       "    <tr>\n",
       "      <th>Price</th>\n",
       "      <td>0.016563</td>\n",
       "      <td>1.000000</td>\n",
       "      <td>1.000000</td>\n",
       "      <td>NaN</td>\n",
       "      <td>-0.010914</td>\n",
       "      <td>NaN</td>\n",
       "      <td>0.028166</td>\n",
       "    </tr>\n",
       "    <tr>\n",
       "      <th>Price_After_Tax</th>\n",
       "      <td>0.016563</td>\n",
       "      <td>1.000000</td>\n",
       "      <td>1.000000</td>\n",
       "      <td>NaN</td>\n",
       "      <td>-0.010914</td>\n",
       "      <td>NaN</td>\n",
       "      <td>0.028166</td>\n",
       "    </tr>\n",
       "    <tr>\n",
       "      <th>Tax_amount</th>\n",
       "      <td>NaN</td>\n",
       "      <td>NaN</td>\n",
       "      <td>NaN</td>\n",
       "      <td>NaN</td>\n",
       "      <td>NaN</td>\n",
       "      <td>NaN</td>\n",
       "      <td>NaN</td>\n",
       "    </tr>\n",
       "    <tr>\n",
       "      <th>Avilability</th>\n",
       "      <td>-0.978961</td>\n",
       "      <td>-0.010914</td>\n",
       "      <td>-0.010914</td>\n",
       "      <td>NaN</td>\n",
       "      <td>1.000000</td>\n",
       "      <td>NaN</td>\n",
       "      <td>0.016166</td>\n",
       "    </tr>\n",
       "    <tr>\n",
       "      <th>Number_of_reviews</th>\n",
       "      <td>NaN</td>\n",
       "      <td>NaN</td>\n",
       "      <td>NaN</td>\n",
       "      <td>NaN</td>\n",
       "      <td>NaN</td>\n",
       "      <td>NaN</td>\n",
       "      <td>NaN</td>\n",
       "    </tr>\n",
       "    <tr>\n",
       "      <th>Stars</th>\n",
       "      <td>-0.014017</td>\n",
       "      <td>0.028166</td>\n",
       "      <td>0.028166</td>\n",
       "      <td>NaN</td>\n",
       "      <td>0.016166</td>\n",
       "      <td>NaN</td>\n",
       "      <td>1.000000</td>\n",
       "    </tr>\n",
       "  </tbody>\n",
       "</table>\n",
       "</div>"
      ],
      "text/plain": [
       "                   Unnamed: 0     Price  Price_After_Tax  Tax_amount  \\\n",
       "Unnamed: 0           1.000000  0.016563         0.016563         NaN   \n",
       "Price                0.016563  1.000000         1.000000         NaN   \n",
       "Price_After_Tax      0.016563  1.000000         1.000000         NaN   \n",
       "Tax_amount                NaN       NaN              NaN         NaN   \n",
       "Avilability         -0.978961 -0.010914        -0.010914         NaN   \n",
       "Number_of_reviews         NaN       NaN              NaN         NaN   \n",
       "Stars               -0.014017  0.028166         0.028166         NaN   \n",
       "\n",
       "                   Avilability  Number_of_reviews     Stars  \n",
       "Unnamed: 0           -0.978961                NaN -0.014017  \n",
       "Price                -0.010914                NaN  0.028166  \n",
       "Price_After_Tax      -0.010914                NaN  0.028166  \n",
       "Tax_amount                 NaN                NaN       NaN  \n",
       "Avilability           1.000000                NaN  0.016166  \n",
       "Number_of_reviews          NaN                NaN       NaN  \n",
       "Stars                 0.016166                NaN  1.000000  "
      ]
     },
     "execution_count": 10,
     "metadata": {},
     "output_type": "execute_result"
    }
   ],
   "source": [
    "corr=data.corr()\n",
    "corr"
   ]
  },
  {
   "cell_type": "code",
   "execution_count": 11,
   "id": "fc3c18da",
   "metadata": {},
   "outputs": [
    {
     "data": {
      "text/plain": [
       "<AxesSubplot:>"
      ]
     },
     "execution_count": 11,
     "metadata": {},
     "output_type": "execute_result"
    },
    {
     "data": {
      "image/png": "[encoded data removed]",
      "text/plain": [
       "<Figure size 432x288 with 2 Axes>"
      ]
     },
     "metadata": {},
     "output_type": "display_data"
    }
   ],
   "source": [
    "sns.heatmap(corr)\n"
   ]
  },
  {
   "cell_type": "markdown",
   "id": "0192e8af",
   "metadata": {},
   "source": [
    "## data visualization"
   ]
  },
  {
   "cell_type": "code",
   "execution_count": 12,
   "id": "c569736e",
   "metadata": {},
   "outputs": [
    {
     "data": {
      "text/plain": [
       "Text(0.5, 1.0, 'Category histogram')"
      ]
     },
     "execution_count": 12,
     "metadata": {},
     "output_type": "execute_result"
    },
    {
     "data": {
      "image/png": "[encoded data removed]",
      "text/plain": [
       "<Figure size 720x720 with 1 Axes>"
      ]
     },
     "metadata": {},
     "output_type": "display_data"
    }
   ],
   "source": [
    "plt.figure(figsize=(10,10))\n",
    "sns.countplot(data[\"Category\"])\n",
    "plt.xticks(rotation=90)\n",
    "plt.title(\"Category histogram\",fontsize=15)"
   ]
  },
  {
   "cell_type": "markdown",
   "id": "1874a844",
   "metadata": {},
   "source": [
    "Most books were of category: Default,Nonfiction,and sequential art respectively"
   ]
  },
  {
   "cell_type": "code",
   "execution_count": 13,
   "id": "fa2fcbf0",
   "metadata": {},
   "outputs": [
    {
     "data": {
      "text/plain": [
       "<AxesSubplot:xlabel='Stars', ylabel='count'>"
      ]
     },
     "execution_count": 13,
     "metadata": {},
     "output_type": "execute_result"
    },
    {
     "data": {
      "image/png": "[encoded data removed]",
      "text/plain": [
       "<Figure size 720x720 with 1 Axes>"
      ]
     },
     "metadata": {},
     "output_type": "display_data"
    }
   ],
   "source": [
    "plt.figure(figsize=(10,10))\n",
    "sns.countplot(data[\"Stars\"])"
   ]
  },
  {
   "cell_type": "markdown",
   "id": "c2ac7e2a",
   "metadata": {},
   "source": [
    "Most books were rated 1 while the least books were rated 4"
   ]
  },
  {
   "cell_type": "markdown",
   "id": "eb137131",
   "metadata": {},
   "source": [
    "## Bivariate Analysis"
   ]
  },
  {
   "cell_type": "code",
   "execution_count": 14,
   "id": "94f7bc59",
   "metadata": {},
   "outputs": [
    {
     "data": {
      "text/plain": [
       "<AxesSubplot:xlabel='Stars', ylabel='Price'>"
      ]
     },
     "execution_count": 14,
     "metadata": {},
     "output_type": "execute_result"
    },
    {
     "data": {
      "image/png": "[encoded data removed]",
      "text/plain": [
       "<Figure size 720x432 with 1 Axes>"
      ]
     },
     "metadata": {},
     "output_type": "display_data"
    }
   ],
   "source": [
    "plt.figure(figsize=(10,6))\n",
    "sns.lineplot(x=data[\"Stars\"],y=data[\"Price\"])\n"
   ]
  },
  {
   "cell_type": "markdown",
   "id": "1ae73493",
   "metadata": {},
   "source": [
    "The was a significant increase in price with an increase in Star rating"
   ]
  },
  {
   "cell_type": "code",
   "execution_count": 15,
   "id": "56d24e65",
   "metadata": {},
   "outputs": [
    {
     "data": {
      "text/plain": [
       "<AxesSubplot:xlabel='Avilability', ylabel='Price'>"
      ]
     },
     "execution_count": 15,
     "metadata": {},
     "output_type": "execute_result"
    },
    {
     "data": {
      "image/png": "[encoded data removed]",
      "text/plain": [
       "<Figure size 720x432 with 1 Axes>"
      ]
     },
     "metadata": {},
     "output_type": "display_data"
    }
   ],
   "source": [
    "plt.figure(figsize=(10,6))\n",
    "sns.lineplot(x=data[\"Avilability\"],y=data[\"Price\"])"
   ]
  },
  {
   "cell_type": "markdown",
   "id": "e2bfcd01",
   "metadata": {},
   "source": [
    "Most books with an availability higher than 17 were the most expensive"
   ]
  },
  {
   "cell_type": "code",
   "execution_count": 16,
   "id": "6dd03fd0",
   "metadata": {},
   "outputs": [
    {
     "data": {
      "text/plain": [
       "(array([0, 1, 2, 3, 4]),\n",
       " [Text(0, 0, '1'),\n",
       "  Text(1, 0, '2'),\n",
       "  Text(2, 0, '3'),\n",
       "  Text(3, 0, '4'),\n",
       "  Text(4, 0, '5')])"
      ]
     },
     "execution_count": 16,
     "metadata": {},
     "output_type": "execute_result"
    },
    {
     "data": {
      "image/png": "[encoded data removed]",
      "text/plain": [
       "<Figure size 576x432 with 1 Axes>"
      ]
     },
     "metadata": {},
     "output_type": "display_data"
    }
   ],
   "source": [
    "plt.figure(figsize=(8,6))\n",
    "sns.boxplot(x=data[\"Stars\"],y=data[\"Price\"])\n",
    "plt.xticks(rotation=0)"
   ]
  },
  {
   "cell_type": "code",
   "execution_count": 17,
   "id": "c17cda64",
   "metadata": {},
   "outputs": [
    {
     "data": {
      "text/html": [
       "<div>\n",
       "<style scoped>\n",
       "    .dataframe tbody tr th:only-of-type {\n",
       "        vertical-align: middle;\n",
       "    }\n",
       "\n",
       "    .dataframe tbody tr th {\n",
       "        vertical-align: top;\n",
       "    }\n",
       "\n",
       "    .dataframe thead th {\n",
       "        text-align: right;\n",
       "    }\n",
       "</style>\n",
       "<table border=\"1\" class=\"dataframe\">\n",
       "  <thead>\n",
       "    <tr style=\"text-align: right;\">\n",
       "      <th></th>\n",
       "      <th>Title</th>\n",
       "      <th>Category</th>\n",
       "      <th>Stars</th>\n",
       "      <th>count</th>\n",
       "    </tr>\n",
       "    <tr>\n",
       "      <th>Price</th>\n",
       "      <th></th>\n",
       "      <th></th>\n",
       "      <th></th>\n",
       "      <th></th>\n",
       "    </tr>\n",
       "  </thead>\n",
       "  <tbody>\n",
       "    <tr>\n",
       "      <th>59.99</th>\n",
       "      <td>The Perfect Play (Play by Play #1)</td>\n",
       "      <td>Romance</td>\n",
       "      <td>3</td>\n",
       "      <td>1</td>\n",
       "    </tr>\n",
       "    <tr>\n",
       "      <th>59.98</th>\n",
       "      <td>Last One Home (New Beginnings #1)</td>\n",
       "      <td>Fiction</td>\n",
       "      <td>3</td>\n",
       "      <td>1</td>\n",
       "    </tr>\n",
       "    <tr>\n",
       "      <th>59.95</th>\n",
       "      <td>Civilization and Its Discontents</td>\n",
       "      <td>Psychology</td>\n",
       "      <td>2</td>\n",
       "      <td>1</td>\n",
       "    </tr>\n",
       "    <tr>\n",
       "      <th>59.92</th>\n",
       "      <td>The Barefoot Contessa Cookbook</td>\n",
       "      <td>Food and Drink</td>\n",
       "      <td>5</td>\n",
       "      <td>1</td>\n",
       "    </tr>\n",
       "    <tr>\n",
       "      <th>59.90</th>\n",
       "      <td>The Diary of a Young Girl</td>\n",
       "      <td>Nonfiction</td>\n",
       "      <td>3</td>\n",
       "      <td>1</td>\n",
       "    </tr>\n",
       "    <tr>\n",
       "      <th>...</th>\n",
       "      <td>...</td>\n",
       "      <td>...</td>\n",
       "      <td>...</td>\n",
       "      <td>...</td>\n",
       "    </tr>\n",
       "    <tr>\n",
       "      <th>10.23</th>\n",
       "      <td>Greek Mythic History</td>\n",
       "      <td>Default</td>\n",
       "      <td>5</td>\n",
       "      <td>1</td>\n",
       "    </tr>\n",
       "    <tr>\n",
       "      <th>10.16</th>\n",
       "      <td>Patience</td>\n",
       "      <td>Sequential Art</td>\n",
       "      <td>3</td>\n",
       "      <td>1</td>\n",
       "    </tr>\n",
       "    <tr>\n",
       "      <th>10.02</th>\n",
       "      <td>The Tipping Point: How Little Things Can Make ...</td>\n",
       "      <td>Add a comment</td>\n",
       "      <td>2</td>\n",
       "      <td>1</td>\n",
       "    </tr>\n",
       "    <tr>\n",
       "      <th>10.01</th>\n",
       "      <td>The Origin of Species</td>\n",
       "      <td>Science</td>\n",
       "      <td>4</td>\n",
       "      <td>1</td>\n",
       "    </tr>\n",
       "    <tr>\n",
       "      <th>10.00</th>\n",
       "      <td>An Abundance of Katherines</td>\n",
       "      <td>Young Adult</td>\n",
       "      <td>5</td>\n",
       "      <td>1</td>\n",
       "    </tr>\n",
       "  </tbody>\n",
       "</table>\n",
       "<p>1000 rows × 4 columns</p>\n",
       "</div>"
      ],
      "text/plain": [
       "                                                   Title        Category  \\\n",
       "Price                                                                      \n",
       "59.99                 The Perfect Play (Play by Play #1)         Romance   \n",
       "59.98                  Last One Home (New Beginnings #1)         Fiction   \n",
       "59.95                   Civilization and Its Discontents      Psychology   \n",
       "59.92                     The Barefoot Contessa Cookbook  Food and Drink   \n",
       "59.90                          The Diary of a Young Girl      Nonfiction   \n",
       "...                                                  ...             ...   \n",
       "10.23                               Greek Mythic History         Default   \n",
       "10.16                                           Patience  Sequential Art   \n",
       "10.02  The Tipping Point: How Little Things Can Make ...   Add a comment   \n",
       "10.01                              The Origin of Species         Science   \n",
       "10.00                         An Abundance of Katherines     Young Adult   \n",
       "\n",
       "       Stars  count  \n",
       "Price                \n",
       "59.99      3      1  \n",
       "59.98      3      1  \n",
       "59.95      2      1  \n",
       "59.92      5      1  \n",
       "59.90      3      1  \n",
       "...      ...    ...  \n",
       "10.23      5      1  \n",
       "10.16      3      1  \n",
       "10.02      2      1  \n",
       "10.01      4      1  \n",
       "10.00      5      1  \n",
       "\n",
       "[1000 rows x 4 columns]"
      ]
     },
     "execution_count": 17,
     "metadata": {},
     "output_type": "execute_result"
    }
   ],
   "source": [
    "books = data.groupby([\"Title\",\"Price\",\"Category\",\"Stars\"])[\"Price\"].count().reset_index(name=\"count\")\n",
    "books = books.sort_values(\"Price\",ascending=False)\n",
    "books = books.set_index(\"Price\")\n",
    "books"
   ]
  },
  {
   "cell_type": "code",
   "execution_count": 18,
   "id": "904d1659",
   "metadata": {},
   "outputs": [
    {
     "data": {
      "text/html": [
       "<div>\n",
       "<style scoped>\n",
       "    .dataframe tbody tr th:only-of-type {\n",
       "        vertical-align: middle;\n",
       "    }\n",
       "\n",
       "    .dataframe tbody tr th {\n",
       "        vertical-align: top;\n",
       "    }\n",
       "\n",
       "    .dataframe thead th {\n",
       "        text-align: right;\n",
       "    }\n",
       "</style>\n",
       "<table border=\"1\" class=\"dataframe\">\n",
       "  <thead>\n",
       "    <tr style=\"text-align: right;\">\n",
       "      <th></th>\n",
       "      <th>Title</th>\n",
       "      <th>Category</th>\n",
       "      <th>Stars</th>\n",
       "      <th>count</th>\n",
       "    </tr>\n",
       "    <tr>\n",
       "      <th>Price</th>\n",
       "      <th></th>\n",
       "      <th></th>\n",
       "      <th></th>\n",
       "      <th></th>\n",
       "    </tr>\n",
       "  </thead>\n",
       "  <tbody>\n",
       "    <tr>\n",
       "      <th>59.99</th>\n",
       "      <td>The Perfect Play (Play by Play #1)</td>\n",
       "      <td>Romance</td>\n",
       "      <td>3</td>\n",
       "      <td>1</td>\n",
       "    </tr>\n",
       "    <tr>\n",
       "      <th>59.98</th>\n",
       "      <td>Last One Home (New Beginnings #1)</td>\n",
       "      <td>Fiction</td>\n",
       "      <td>3</td>\n",
       "      <td>1</td>\n",
       "    </tr>\n",
       "    <tr>\n",
       "      <th>59.95</th>\n",
       "      <td>Civilization and Its Discontents</td>\n",
       "      <td>Psychology</td>\n",
       "      <td>2</td>\n",
       "      <td>1</td>\n",
       "    </tr>\n",
       "    <tr>\n",
       "      <th>59.92</th>\n",
       "      <td>The Barefoot Contessa Cookbook</td>\n",
       "      <td>Food and Drink</td>\n",
       "      <td>5</td>\n",
       "      <td>1</td>\n",
       "    </tr>\n",
       "    <tr>\n",
       "      <th>59.90</th>\n",
       "      <td>The Diary of a Young Girl</td>\n",
       "      <td>Nonfiction</td>\n",
       "      <td>3</td>\n",
       "      <td>1</td>\n",
       "    </tr>\n",
       "    <tr>\n",
       "      <th>59.71</th>\n",
       "      <td>The Bone Hunters (Lexy Vaughan &amp; Steven Macaul...</td>\n",
       "      <td>Thriller</td>\n",
       "      <td>3</td>\n",
       "      <td>1</td>\n",
       "    </tr>\n",
       "    <tr>\n",
       "      <th>59.64</th>\n",
       "      <td>Thomas Jefferson and the Tripoli Pirates: The ...</td>\n",
       "      <td>History</td>\n",
       "      <td>1</td>\n",
       "      <td>1</td>\n",
       "    </tr>\n",
       "    <tr>\n",
       "      <th>59.48</th>\n",
       "      <td>Boar Island (Anna Pigeon #19)</td>\n",
       "      <td>Mystery</td>\n",
       "      <td>3</td>\n",
       "      <td>1</td>\n",
       "    </tr>\n",
       "    <tr>\n",
       "      <th>59.45</th>\n",
       "      <td>The Man Who Mistook His Wife for a Hat and Oth...</td>\n",
       "      <td>Nonfiction</td>\n",
       "      <td>4</td>\n",
       "      <td>1</td>\n",
       "    </tr>\n",
       "    <tr>\n",
       "      <th>59.45</th>\n",
       "      <td>The Improbability of Love</td>\n",
       "      <td>Fiction</td>\n",
       "      <td>1</td>\n",
       "      <td>1</td>\n",
       "    </tr>\n",
       "  </tbody>\n",
       "</table>\n",
       "</div>"
      ],
      "text/plain": [
       "                                                   Title        Category  \\\n",
       "Price                                                                      \n",
       "59.99                 The Perfect Play (Play by Play #1)         Romance   \n",
       "59.98                  Last One Home (New Beginnings #1)         Fiction   \n",
       "59.95                   Civilization and Its Discontents      Psychology   \n",
       "59.92                     The Barefoot Contessa Cookbook  Food and Drink   \n",
       "59.90                          The Diary of a Young Girl      Nonfiction   \n",
       "59.71  The Bone Hunters (Lexy Vaughan & Steven Macaul...        Thriller   \n",
       "59.64  Thomas Jefferson and the Tripoli Pirates: The ...         History   \n",
       "59.48                      Boar Island (Anna Pigeon #19)         Mystery   \n",
       "59.45  The Man Who Mistook His Wife for a Hat and Oth...      Nonfiction   \n",
       "59.45                          The Improbability of Love         Fiction   \n",
       "\n",
       "       Stars  count  \n",
       "Price                \n",
       "59.99      3      1  \n",
       "59.98      3      1  \n",
       "59.95      2      1  \n",
       "59.92      5      1  \n",
       "59.90      3      1  \n",
       "59.71      3      1  \n",
       "59.64      1      1  \n",
       "59.48      3      1  \n",
       "59.45      4      1  \n",
       "59.45      1      1  "
      ]
     },
     "execution_count": 18,
     "metadata": {},
     "output_type": "execute_result"
    }
   ],
   "source": [
    "Top10_Price = books.head(10)\n",
    "Top10_Price"
   ]
  },
  {
   "cell_type": "code",
   "execution_count": 19,
   "id": "f2bd713d",
   "metadata": {},
   "outputs": [
    {
     "data": {
      "text/html": [
       "<div>\n",
       "<style scoped>\n",
       "    .dataframe tbody tr th:only-of-type {\n",
       "        vertical-align: middle;\n",
       "    }\n",
       "\n",
       "    .dataframe tbody tr th {\n",
       "        vertical-align: top;\n",
       "    }\n",
       "\n",
       "    .dataframe thead th {\n",
       "        text-align: right;\n",
       "    }\n",
       "</style>\n",
       "<table border=\"1\" class=\"dataframe\">\n",
       "  <thead>\n",
       "    <tr style=\"text-align: right;\">\n",
       "      <th></th>\n",
       "      <th>Title</th>\n",
       "      <th>Price</th>\n",
       "      <th>Category</th>\n",
       "      <th>count</th>\n",
       "    </tr>\n",
       "    <tr>\n",
       "      <th>Stars</th>\n",
       "      <th></th>\n",
       "      <th></th>\n",
       "      <th></th>\n",
       "      <th></th>\n",
       "    </tr>\n",
       "  </thead>\n",
       "  <tbody>\n",
       "    <tr>\n",
       "      <th>5</th>\n",
       "      <td>\"Most Blessed of the Patriarchs\": Thomas Jeffe...</td>\n",
       "      <td>44.48</td>\n",
       "      <td>History</td>\n",
       "      <td>1</td>\n",
       "    </tr>\n",
       "    <tr>\n",
       "      <th>5</th>\n",
       "      <td>Crazy Rich Asians (Crazy Rich Asians #1)</td>\n",
       "      <td>49.13</td>\n",
       "      <td>Fiction</td>\n",
       "      <td>1</td>\n",
       "    </tr>\n",
       "    <tr>\n",
       "      <th>5</th>\n",
       "      <td>Superman Vol. 1: Before Truth (Superman by Gen...</td>\n",
       "      <td>11.89</td>\n",
       "      <td>Sequential Art</td>\n",
       "      <td>1</td>\n",
       "    </tr>\n",
       "    <tr>\n",
       "      <th>5</th>\n",
       "      <td>Steve Jobs</td>\n",
       "      <td>39.50</td>\n",
       "      <td>Default</td>\n",
       "      <td>1</td>\n",
       "    </tr>\n",
       "    <tr>\n",
       "      <th>5</th>\n",
       "      <td>Sophie's World</td>\n",
       "      <td>15.94</td>\n",
       "      <td>Philosophy</td>\n",
       "      <td>1</td>\n",
       "    </tr>\n",
       "    <tr>\n",
       "      <th>...</th>\n",
       "      <td>...</td>\n",
       "      <td>...</td>\n",
       "      <td>...</td>\n",
       "      <td>...</td>\n",
       "    </tr>\n",
       "    <tr>\n",
       "      <th>1</th>\n",
       "      <td>The Glass Castle</td>\n",
       "      <td>16.24</td>\n",
       "      <td>Add a comment</td>\n",
       "      <td>1</td>\n",
       "    </tr>\n",
       "    <tr>\n",
       "      <th>1</th>\n",
       "      <td>The Giver (The Giver Quartet #1)</td>\n",
       "      <td>12.30</td>\n",
       "      <td>Default</td>\n",
       "      <td>1</td>\n",
       "    </tr>\n",
       "    <tr>\n",
       "      <th>1</th>\n",
       "      <td>Fruits Basket, Vol. 7 (Fruits Basket #7)</td>\n",
       "      <td>19.57</td>\n",
       "      <td>Sequential Art</td>\n",
       "      <td>1</td>\n",
       "    </tr>\n",
       "    <tr>\n",
       "      <th>1</th>\n",
       "      <td>The Girl You Left Behind (The Girl You Left Be...</td>\n",
       "      <td>15.79</td>\n",
       "      <td>Historical</td>\n",
       "      <td>1</td>\n",
       "    </tr>\n",
       "    <tr>\n",
       "      <th>1</th>\n",
       "      <td>The Bear and the Piano</td>\n",
       "      <td>36.89</td>\n",
       "      <td>Childrens</td>\n",
       "      <td>1</td>\n",
       "    </tr>\n",
       "  </tbody>\n",
       "</table>\n",
       "<p>1000 rows × 4 columns</p>\n",
       "</div>"
      ],
      "text/plain": [
       "                                                   Title  Price  \\\n",
       "Stars                                                             \n",
       "5      \"Most Blessed of the Patriarchs\": Thomas Jeffe...  44.48   \n",
       "5               Crazy Rich Asians (Crazy Rich Asians #1)  49.13   \n",
       "5      Superman Vol. 1: Before Truth (Superman by Gen...  11.89   \n",
       "5                                             Steve Jobs  39.50   \n",
       "5                                         Sophie's World  15.94   \n",
       "...                                                  ...    ...   \n",
       "1                                       The Glass Castle  16.24   \n",
       "1                       The Giver (The Giver Quartet #1)  12.30   \n",
       "1               Fruits Basket, Vol. 7 (Fruits Basket #7)  19.57   \n",
       "1      The Girl You Left Behind (The Girl You Left Be...  15.79   \n",
       "1                                 The Bear and the Piano  36.89   \n",
       "\n",
       "             Category  count  \n",
       "Stars                         \n",
       "5             History      1  \n",
       "5             Fiction      1  \n",
       "5      Sequential Art      1  \n",
       "5             Default      1  \n",
       "5          Philosophy      1  \n",
       "...               ...    ...  \n",
       "1       Add a comment      1  \n",
       "1             Default      1  \n",
       "1      Sequential Art      1  \n",
       "1          Historical      1  \n",
       "1           Childrens      1  \n",
       "\n",
       "[1000 rows x 4 columns]"
      ]
     },
     "execution_count": 19,
     "metadata": {},
     "output_type": "execute_result"
    }
   ],
   "source": [
    "by_Star = data.groupby([\"Title\",\"Price\",\"Category\",\"Stars\"])[\"Price\"].count().reset_index(name=\"count\")\n",
    "by_Star = by_Star.sort_values(\"Stars\",ascending=False)\n",
    "by_Star = by_Star.set_index(\"Stars\")\n",
    "by_Star"
   ]
  },
  {
   "cell_type": "code",
   "execution_count": 20,
   "id": "7879f65c",
   "metadata": {},
   "outputs": [
    {
     "data": {
      "text/html": [
       "<div>\n",
       "<style scoped>\n",
       "    .dataframe tbody tr th:only-of-type {\n",
       "        vertical-align: middle;\n",
       "    }\n",
       "\n",
       "    .dataframe tbody tr th {\n",
       "        vertical-align: top;\n",
       "    }\n",
       "\n",
       "    .dataframe thead th {\n",
       "        text-align: right;\n",
       "    }\n",
       "</style>\n",
       "<table border=\"1\" class=\"dataframe\">\n",
       "  <thead>\n",
       "    <tr style=\"text-align: right;\">\n",
       "      <th></th>\n",
       "      <th>Title</th>\n",
       "      <th>Price</th>\n",
       "      <th>Category</th>\n",
       "      <th>count</th>\n",
       "    </tr>\n",
       "    <tr>\n",
       "      <th>Stars</th>\n",
       "      <th></th>\n",
       "      <th></th>\n",
       "      <th></th>\n",
       "      <th></th>\n",
       "    </tr>\n",
       "  </thead>\n",
       "  <tbody>\n",
       "    <tr>\n",
       "      <th>5</th>\n",
       "      <td>\"Most Blessed of the Patriarchs\": Thomas Jeffe...</td>\n",
       "      <td>44.48</td>\n",
       "      <td>History</td>\n",
       "      <td>1</td>\n",
       "    </tr>\n",
       "    <tr>\n",
       "      <th>5</th>\n",
       "      <td>Crazy Rich Asians (Crazy Rich Asians #1)</td>\n",
       "      <td>49.13</td>\n",
       "      <td>Fiction</td>\n",
       "      <td>1</td>\n",
       "    </tr>\n",
       "    <tr>\n",
       "      <th>5</th>\n",
       "      <td>Superman Vol. 1: Before Truth (Superman by Gen...</td>\n",
       "      <td>11.89</td>\n",
       "      <td>Sequential Art</td>\n",
       "      <td>1</td>\n",
       "    </tr>\n",
       "    <tr>\n",
       "      <th>5</th>\n",
       "      <td>Steve Jobs</td>\n",
       "      <td>39.50</td>\n",
       "      <td>Default</td>\n",
       "      <td>1</td>\n",
       "    </tr>\n",
       "    <tr>\n",
       "      <th>5</th>\n",
       "      <td>Sophie's World</td>\n",
       "      <td>15.94</td>\n",
       "      <td>Philosophy</td>\n",
       "      <td>1</td>\n",
       "    </tr>\n",
       "    <tr>\n",
       "      <th>...</th>\n",
       "      <td>...</td>\n",
       "      <td>...</td>\n",
       "      <td>...</td>\n",
       "      <td>...</td>\n",
       "    </tr>\n",
       "    <tr>\n",
       "      <th>5</th>\n",
       "      <td>Bleach, Vol. 1: Strawberry and the Soul Reaper...</td>\n",
       "      <td>34.65</td>\n",
       "      <td>Sequential Art</td>\n",
       "      <td>1</td>\n",
       "    </tr>\n",
       "    <tr>\n",
       "      <th>5</th>\n",
       "      <td>The Passion of Dolssa</td>\n",
       "      <td>28.32</td>\n",
       "      <td>Historical Fiction</td>\n",
       "      <td>1</td>\n",
       "    </tr>\n",
       "    <tr>\n",
       "      <th>5</th>\n",
       "      <td>Booked</td>\n",
       "      <td>17.49</td>\n",
       "      <td>Poetry</td>\n",
       "      <td>1</td>\n",
       "    </tr>\n",
       "    <tr>\n",
       "      <th>5</th>\n",
       "      <td>Born for This: How to Find the Work You Were M...</td>\n",
       "      <td>21.59</td>\n",
       "      <td>Business</td>\n",
       "      <td>1</td>\n",
       "    </tr>\n",
       "    <tr>\n",
       "      <th>5</th>\n",
       "      <td>Barefoot Contessa at Home: Everyday Recipes Yo...</td>\n",
       "      <td>50.62</td>\n",
       "      <td>Food and Drink</td>\n",
       "      <td>1</td>\n",
       "    </tr>\n",
       "  </tbody>\n",
       "</table>\n",
       "<p>196 rows × 4 columns</p>\n",
       "</div>"
      ],
      "text/plain": [
       "                                                   Title  Price  \\\n",
       "Stars                                                             \n",
       "5      \"Most Blessed of the Patriarchs\": Thomas Jeffe...  44.48   \n",
       "5               Crazy Rich Asians (Crazy Rich Asians #1)  49.13   \n",
       "5      Superman Vol. 1: Before Truth (Superman by Gen...  11.89   \n",
       "5                                             Steve Jobs  39.50   \n",
       "5                                         Sophie's World  15.94   \n",
       "...                                                  ...    ...   \n",
       "5      Bleach, Vol. 1: Strawberry and the Soul Reaper...  34.65   \n",
       "5                                  The Passion of Dolssa  28.32   \n",
       "5                                                 Booked  17.49   \n",
       "5      Born for This: How to Find the Work You Were M...  21.59   \n",
       "5      Barefoot Contessa at Home: Everyday Recipes Yo...  50.62   \n",
       "\n",
       "                 Category  count  \n",
       "Stars                             \n",
       "5                 History      1  \n",
       "5                 Fiction      1  \n",
       "5          Sequential Art      1  \n",
       "5                 Default      1  \n",
       "5              Philosophy      1  \n",
       "...                   ...    ...  \n",
       "5          Sequential Art      1  \n",
       "5      Historical Fiction      1  \n",
       "5                  Poetry      1  \n",
       "5                Business      1  \n",
       "5          Food and Drink      1  \n",
       "\n",
       "[196 rows x 4 columns]"
      ]
     },
     "execution_count": 20,
     "metadata": {},
     "output_type": "execute_result"
    }
   ],
   "source": [
    "Top5_Star = by_Star.query(\"`Stars`>4\")\n",
    "Top5_Star"
   ]
  }
 ],
 "metadata": {
  "kernelspec": {
   "display_name": "Python 3 (ipykernel)",
   "language": "python",
   "name": "python3"
  },
  "language_info": {
   "codemirror_mode": {
    "name": "ipython",
    "version": 3
   },
   "file_extension": ".py",
   "mimetype": "text/x-python",
   "name": "python",
   "nbconvert_exporter": "python",
   "pygments_lexer": "ipython3",
   "version": "3.9.12"
  }
 },
 "nbformat": 4,
 "nbformat_minor": 5
}
